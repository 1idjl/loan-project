{
 "cells": [
  {
   "cell_type": "markdown",
   "id": "a9084fee",
   "metadata": {},
   "source": [
    "# Part 1: Data Preprocessing (پیش‌پردازش داده‌ها)"
   ]
  },
  {
   "cell_type": "code",
   "execution_count": 19,
   "id": "ddb5c903",
   "metadata": {},
   "outputs": [],
   "source": [
    "import pandas as pd\n",
    "import numpy as np\n",
    "import matplotlib.pyplot as plt\n",
    "import plotly.express as px\n",
    "import seaborn as sns\n",
    "from sklearn.impute import KNNImputer\n",
    "from sklearn.preprocessing import StandardScaler\n",
    "from sklearn.linear_model import LogisticRegression\n",
    "from sklearn.model_selection import cross_val_score\n",
    "from plotly.subplots import make_subplots\n",
    "import plotly.graph_objects as go\n",
    "from scipy.stats import gaussian_kde"
   ]
  },
  {
   "cell_type": "code",
   "execution_count": 8,
   "id": "293e311f",
   "metadata": {},
   "outputs": [
    {
     "name": "stdout",
     "output_type": "stream",
     "text": [
      "<class 'pandas.core.frame.DataFrame'>\n",
      "RangeIndex: 614 entries, 0 to 613\n",
      "Data columns (total 12 columns):\n",
      " #   Column             Non-Null Count  Dtype  \n",
      "---  ------             --------------  -----  \n",
      " 0   Gender             601 non-null    object \n",
      " 1   Married            611 non-null    object \n",
      " 2   Dependents         599 non-null    object \n",
      " 3   Education          614 non-null    object \n",
      " 4   Self_Employed      582 non-null    object \n",
      " 5   ApplicantIncome    614 non-null    int64  \n",
      " 6   CoapplicantIncome  614 non-null    float64\n",
      " 7   LoanAmount         592 non-null    float64\n",
      " 8   Loan_Amount_Term   600 non-null    float64\n",
      " 9   Credit_History     564 non-null    float64\n",
      " 10  Property_Area      614 non-null    object \n",
      " 11  Loan_Status        614 non-null    object \n",
      "dtypes: float64(4), int64(1), object(7)\n",
      "memory usage: 57.7+ KB\n"
     ]
    }
   ],
   "source": [
    "loan_dataset = pd.read_csv('../data/loan.csv')\n",
    "loan_dataset.info()"
   ]
  },
  {
   "cell_type": "code",
   "execution_count": 9,
   "id": "76139945",
   "metadata": {},
   "outputs": [
    {
     "data": {
      "application/vnd.microsoft.datawrangler.viewer.v0+json": {
       "columns": [
        {
         "name": "index",
         "rawType": "int64",
         "type": "integer"
        },
        {
         "name": "Gender",
         "rawType": "object",
         "type": "unknown"
        },
        {
         "name": "Married",
         "rawType": "object",
         "type": "unknown"
        },
        {
         "name": "Dependents",
         "rawType": "object",
         "type": "unknown"
        },
        {
         "name": "Education",
         "rawType": "object",
         "type": "string"
        },
        {
         "name": "Self_Employed",
         "rawType": "object",
         "type": "unknown"
        },
        {
         "name": "ApplicantIncome",
         "rawType": "int64",
         "type": "integer"
        },
        {
         "name": "CoapplicantIncome",
         "rawType": "float64",
         "type": "float"
        },
        {
         "name": "LoanAmount",
         "rawType": "float64",
         "type": "float"
        },
        {
         "name": "Loan_Amount_Term",
         "rawType": "float64",
         "type": "float"
        },
        {
         "name": "Credit_History",
         "rawType": "float64",
         "type": "float"
        },
        {
         "name": "Property_Area",
         "rawType": "object",
         "type": "string"
        },
        {
         "name": "Loan_Status",
         "rawType": "object",
         "type": "string"
        }
       ],
       "ref": "858aa182-0a8d-4974-a9f7-6944e9a250be",
       "rows": [
        [
         "0",
         "Male",
         "No",
         "0",
         "Graduate",
         "No",
         "5849",
         "0.0",
         null,
         "360.0",
         "1.0",
         "Urban",
         "Y"
        ],
        [
         "1",
         "Male",
         "Yes",
         "1",
         "Graduate",
         "No",
         "4583",
         "1508.0",
         "128.0",
         "360.0",
         "1.0",
         "Rural",
         "N"
        ],
        [
         "2",
         "Male",
         "Yes",
         "0",
         "Graduate",
         "Yes",
         "3000",
         "0.0",
         "66.0",
         "360.0",
         "1.0",
         "Urban",
         "Y"
        ],
        [
         "3",
         "Male",
         "Yes",
         "0",
         "Not Graduate",
         "No",
         "2583",
         "2358.0",
         "120.0",
         "360.0",
         "1.0",
         "Urban",
         "Y"
        ],
        [
         "4",
         "Male",
         "No",
         "0",
         "Graduate",
         "No",
         "6000",
         "0.0",
         "141.0",
         "360.0",
         "1.0",
         "Urban",
         "Y"
        ],
        [
         "5",
         "Male",
         "Yes",
         "2",
         "Graduate",
         "Yes",
         "5417",
         "4196.0",
         "267.0",
         "360.0",
         "1.0",
         "Urban",
         "Y"
        ],
        [
         "6",
         "Male",
         "Yes",
         "0",
         "Not Graduate",
         "No",
         "2333",
         "1516.0",
         "95.0",
         "360.0",
         "1.0",
         "Urban",
         "Y"
        ],
        [
         "7",
         "Male",
         "Yes",
         "3+",
         "Graduate",
         "No",
         "3036",
         "2504.0",
         "158.0",
         "360.0",
         "0.0",
         "Semiurban",
         "N"
        ],
        [
         "8",
         "Male",
         "Yes",
         "2",
         "Graduate",
         "No",
         "4006",
         "1526.0",
         "168.0",
         "360.0",
         "1.0",
         "Urban",
         "Y"
        ],
        [
         "9",
         "Male",
         "Yes",
         "1",
         "Graduate",
         "No",
         "12841",
         "10968.0",
         "349.0",
         "360.0",
         "1.0",
         "Semiurban",
         "N"
        ],
        [
         "10",
         "Male",
         "Yes",
         "2",
         "Graduate",
         "No",
         "3200",
         "700.0",
         "70.0",
         "360.0",
         "1.0",
         "Urban",
         "Y"
        ],
        [
         "11",
         "Male",
         "Yes",
         "2",
         "Graduate",
         null,
         "2500",
         "1840.0",
         "109.0",
         "360.0",
         "1.0",
         "Urban",
         "Y"
        ],
        [
         "12",
         "Male",
         "Yes",
         "2",
         "Graduate",
         "No",
         "3073",
         "8106.0",
         "200.0",
         "360.0",
         "1.0",
         "Urban",
         "Y"
        ],
        [
         "13",
         "Male",
         "No",
         "0",
         "Graduate",
         "No",
         "1853",
         "2840.0",
         "114.0",
         "360.0",
         "1.0",
         "Rural",
         "N"
        ],
        [
         "14",
         "Male",
         "Yes",
         "2",
         "Graduate",
         "No",
         "1299",
         "1086.0",
         "17.0",
         "120.0",
         "1.0",
         "Urban",
         "Y"
        ],
        [
         "15",
         "Male",
         "No",
         "0",
         "Graduate",
         "No",
         "4950",
         "0.0",
         "125.0",
         "360.0",
         "1.0",
         "Urban",
         "Y"
        ],
        [
         "16",
         "Male",
         "No",
         "1",
         "Not Graduate",
         "No",
         "3596",
         "0.0",
         "100.0",
         "240.0",
         null,
         "Urban",
         "Y"
        ],
        [
         "17",
         "Female",
         "No",
         "0",
         "Graduate",
         "No",
         "3510",
         "0.0",
         "76.0",
         "360.0",
         "0.0",
         "Urban",
         "N"
        ],
        [
         "18",
         "Male",
         "Yes",
         "0",
         "Not Graduate",
         "No",
         "4887",
         "0.0",
         "133.0",
         "360.0",
         "1.0",
         "Rural",
         "N"
        ],
        [
         "19",
         "Male",
         "Yes",
         "0",
         "Graduate",
         null,
         "2600",
         "3500.0",
         "115.0",
         null,
         "1.0",
         "Urban",
         "Y"
        ],
        [
         "20",
         "Male",
         "Yes",
         "0",
         "Not Graduate",
         "No",
         "7660",
         "0.0",
         "104.0",
         "360.0",
         "0.0",
         "Urban",
         "N"
        ],
        [
         "21",
         "Male",
         "Yes",
         "1",
         "Graduate",
         "No",
         "5955",
         "5625.0",
         "315.0",
         "360.0",
         "1.0",
         "Urban",
         "Y"
        ],
        [
         "22",
         "Male",
         "Yes",
         "0",
         "Not Graduate",
         "No",
         "2600",
         "1911.0",
         "116.0",
         "360.0",
         "0.0",
         "Semiurban",
         "N"
        ],
        [
         "23",
         null,
         "Yes",
         "2",
         "Not Graduate",
         "No",
         "3365",
         "1917.0",
         "112.0",
         "360.0",
         "0.0",
         "Rural",
         "N"
        ],
        [
         "24",
         "Male",
         "Yes",
         "1",
         "Graduate",
         null,
         "3717",
         "2925.0",
         "151.0",
         "360.0",
         null,
         "Semiurban",
         "N"
        ],
        [
         "25",
         "Male",
         "Yes",
         "0",
         "Graduate",
         "Yes",
         "9560",
         "0.0",
         "191.0",
         "360.0",
         "1.0",
         "Semiurban",
         "Y"
        ],
        [
         "26",
         "Male",
         "Yes",
         "0",
         "Graduate",
         "No",
         "2799",
         "2253.0",
         "122.0",
         "360.0",
         "1.0",
         "Semiurban",
         "Y"
        ],
        [
         "27",
         "Male",
         "Yes",
         "2",
         "Not Graduate",
         "No",
         "4226",
         "1040.0",
         "110.0",
         "360.0",
         "1.0",
         "Urban",
         "Y"
        ],
        [
         "28",
         "Male",
         "No",
         "0",
         "Not Graduate",
         "No",
         "1442",
         "0.0",
         "35.0",
         "360.0",
         "1.0",
         "Urban",
         "N"
        ],
        [
         "29",
         "Female",
         "No",
         "2",
         "Graduate",
         null,
         "3750",
         "2083.0",
         "120.0",
         "360.0",
         "1.0",
         "Semiurban",
         "Y"
        ],
        [
         "30",
         "Male",
         "Yes",
         "1",
         "Graduate",
         null,
         "4166",
         "3369.0",
         "201.0",
         "360.0",
         null,
         "Urban",
         "N"
        ],
        [
         "31",
         "Male",
         "No",
         "0",
         "Graduate",
         "No",
         "3167",
         "0.0",
         "74.0",
         "360.0",
         "1.0",
         "Urban",
         "N"
        ],
        [
         "32",
         "Male",
         "No",
         "1",
         "Graduate",
         "Yes",
         "4692",
         "0.0",
         "106.0",
         "360.0",
         "1.0",
         "Rural",
         "N"
        ],
        [
         "33",
         "Male",
         "Yes",
         "0",
         "Graduate",
         "No",
         "3500",
         "1667.0",
         "114.0",
         "360.0",
         "1.0",
         "Semiurban",
         "Y"
        ],
        [
         "34",
         "Male",
         "No",
         "3+",
         "Graduate",
         "No",
         "12500",
         "3000.0",
         "320.0",
         "360.0",
         "1.0",
         "Rural",
         "N"
        ],
        [
         "35",
         "Male",
         "Yes",
         "0",
         "Graduate",
         "No",
         "2275",
         "2067.0",
         null,
         "360.0",
         "1.0",
         "Urban",
         "Y"
        ],
        [
         "36",
         "Male",
         "Yes",
         "0",
         "Graduate",
         "No",
         "1828",
         "1330.0",
         "100.0",
         null,
         "0.0",
         "Urban",
         "N"
        ],
        [
         "37",
         "Female",
         "Yes",
         "0",
         "Graduate",
         "No",
         "3667",
         "1459.0",
         "144.0",
         "360.0",
         "1.0",
         "Semiurban",
         "Y"
        ],
        [
         "38",
         "Male",
         "No",
         "0",
         "Graduate",
         "No",
         "4166",
         "7210.0",
         "184.0",
         "360.0",
         "1.0",
         "Urban",
         "Y"
        ],
        [
         "39",
         "Male",
         "No",
         "0",
         "Not Graduate",
         "No",
         "3748",
         "1668.0",
         "110.0",
         "360.0",
         "1.0",
         "Semiurban",
         "Y"
        ],
        [
         "40",
         "Male",
         "No",
         "0",
         "Graduate",
         "No",
         "3600",
         "0.0",
         "80.0",
         "360.0",
         "1.0",
         "Urban",
         "N"
        ],
        [
         "41",
         "Male",
         "No",
         "0",
         "Graduate",
         "No",
         "1800",
         "1213.0",
         "47.0",
         "360.0",
         "1.0",
         "Urban",
         "Y"
        ],
        [
         "42",
         "Male",
         "Yes",
         "0",
         "Graduate",
         "No",
         "2400",
         "0.0",
         "75.0",
         "360.0",
         null,
         "Urban",
         "Y"
        ],
        [
         "43",
         "Male",
         "Yes",
         "0",
         "Graduate",
         "No",
         "3941",
         "2336.0",
         "134.0",
         "360.0",
         "1.0",
         "Semiurban",
         "Y"
        ],
        [
         "44",
         "Male",
         "Yes",
         "0",
         "Not Graduate",
         "Yes",
         "4695",
         "0.0",
         "96.0",
         null,
         "1.0",
         "Urban",
         "Y"
        ],
        [
         "45",
         "Female",
         "No",
         "0",
         "Graduate",
         "No",
         "3410",
         "0.0",
         "88.0",
         null,
         "1.0",
         "Urban",
         "Y"
        ],
        [
         "46",
         "Male",
         "Yes",
         "1",
         "Graduate",
         "No",
         "5649",
         "0.0",
         "44.0",
         "360.0",
         "1.0",
         "Urban",
         "Y"
        ],
        [
         "47",
         "Male",
         "Yes",
         "0",
         "Graduate",
         "No",
         "5821",
         "0.0",
         "144.0",
         "360.0",
         "1.0",
         "Urban",
         "Y"
        ],
        [
         "48",
         "Female",
         "Yes",
         "0",
         "Graduate",
         "No",
         "2645",
         "3440.0",
         "120.0",
         "360.0",
         "0.0",
         "Urban",
         "N"
        ],
        [
         "49",
         "Female",
         "No",
         "0",
         "Graduate",
         "No",
         "4000",
         "2275.0",
         "144.0",
         "360.0",
         "1.0",
         "Semiurban",
         "Y"
        ]
       ],
       "shape": {
        "columns": 12,
        "rows": 614
       }
      },
      "text/html": [
       "<div>\n",
       "<style scoped>\n",
       "    .dataframe tbody tr th:only-of-type {\n",
       "        vertical-align: middle;\n",
       "    }\n",
       "\n",
       "    .dataframe tbody tr th {\n",
       "        vertical-align: top;\n",
       "    }\n",
       "\n",
       "    .dataframe thead th {\n",
       "        text-align: right;\n",
       "    }\n",
       "</style>\n",
       "<table border=\"1\" class=\"dataframe\">\n",
       "  <thead>\n",
       "    <tr style=\"text-align: right;\">\n",
       "      <th></th>\n",
       "      <th>Gender</th>\n",
       "      <th>Married</th>\n",
       "      <th>Dependents</th>\n",
       "      <th>Education</th>\n",
       "      <th>Self_Employed</th>\n",
       "      <th>ApplicantIncome</th>\n",
       "      <th>CoapplicantIncome</th>\n",
       "      <th>LoanAmount</th>\n",
       "      <th>Loan_Amount_Term</th>\n",
       "      <th>Credit_History</th>\n",
       "      <th>Property_Area</th>\n",
       "      <th>Loan_Status</th>\n",
       "    </tr>\n",
       "  </thead>\n",
       "  <tbody>\n",
       "    <tr>\n",
       "      <th>0</th>\n",
       "      <td>Male</td>\n",
       "      <td>No</td>\n",
       "      <td>0</td>\n",
       "      <td>Graduate</td>\n",
       "      <td>No</td>\n",
       "      <td>5849</td>\n",
       "      <td>0.0</td>\n",
       "      <td>NaN</td>\n",
       "      <td>360.0</td>\n",
       "      <td>1.0</td>\n",
       "      <td>Urban</td>\n",
       "      <td>Y</td>\n",
       "    </tr>\n",
       "    <tr>\n",
       "      <th>1</th>\n",
       "      <td>Male</td>\n",
       "      <td>Yes</td>\n",
       "      <td>1</td>\n",
       "      <td>Graduate</td>\n",
       "      <td>No</td>\n",
       "      <td>4583</td>\n",
       "      <td>1508.0</td>\n",
       "      <td>128.0</td>\n",
       "      <td>360.0</td>\n",
       "      <td>1.0</td>\n",
       "      <td>Rural</td>\n",
       "      <td>N</td>\n",
       "    </tr>\n",
       "    <tr>\n",
       "      <th>2</th>\n",
       "      <td>Male</td>\n",
       "      <td>Yes</td>\n",
       "      <td>0</td>\n",
       "      <td>Graduate</td>\n",
       "      <td>Yes</td>\n",
       "      <td>3000</td>\n",
       "      <td>0.0</td>\n",
       "      <td>66.0</td>\n",
       "      <td>360.0</td>\n",
       "      <td>1.0</td>\n",
       "      <td>Urban</td>\n",
       "      <td>Y</td>\n",
       "    </tr>\n",
       "    <tr>\n",
       "      <th>3</th>\n",
       "      <td>Male</td>\n",
       "      <td>Yes</td>\n",
       "      <td>0</td>\n",
       "      <td>Not Graduate</td>\n",
       "      <td>No</td>\n",
       "      <td>2583</td>\n",
       "      <td>2358.0</td>\n",
       "      <td>120.0</td>\n",
       "      <td>360.0</td>\n",
       "      <td>1.0</td>\n",
       "      <td>Urban</td>\n",
       "      <td>Y</td>\n",
       "    </tr>\n",
       "    <tr>\n",
       "      <th>4</th>\n",
       "      <td>Male</td>\n",
       "      <td>No</td>\n",
       "      <td>0</td>\n",
       "      <td>Graduate</td>\n",
       "      <td>No</td>\n",
       "      <td>6000</td>\n",
       "      <td>0.0</td>\n",
       "      <td>141.0</td>\n",
       "      <td>360.0</td>\n",
       "      <td>1.0</td>\n",
       "      <td>Urban</td>\n",
       "      <td>Y</td>\n",
       "    </tr>\n",
       "    <tr>\n",
       "      <th>...</th>\n",
       "      <td>...</td>\n",
       "      <td>...</td>\n",
       "      <td>...</td>\n",
       "      <td>...</td>\n",
       "      <td>...</td>\n",
       "      <td>...</td>\n",
       "      <td>...</td>\n",
       "      <td>...</td>\n",
       "      <td>...</td>\n",
       "      <td>...</td>\n",
       "      <td>...</td>\n",
       "      <td>...</td>\n",
       "    </tr>\n",
       "    <tr>\n",
       "      <th>609</th>\n",
       "      <td>Female</td>\n",
       "      <td>No</td>\n",
       "      <td>0</td>\n",
       "      <td>Graduate</td>\n",
       "      <td>No</td>\n",
       "      <td>2900</td>\n",
       "      <td>0.0</td>\n",
       "      <td>71.0</td>\n",
       "      <td>360.0</td>\n",
       "      <td>1.0</td>\n",
       "      <td>Rural</td>\n",
       "      <td>Y</td>\n",
       "    </tr>\n",
       "    <tr>\n",
       "      <th>610</th>\n",
       "      <td>Male</td>\n",
       "      <td>Yes</td>\n",
       "      <td>3+</td>\n",
       "      <td>Graduate</td>\n",
       "      <td>No</td>\n",
       "      <td>4106</td>\n",
       "      <td>0.0</td>\n",
       "      <td>40.0</td>\n",
       "      <td>180.0</td>\n",
       "      <td>1.0</td>\n",
       "      <td>Rural</td>\n",
       "      <td>Y</td>\n",
       "    </tr>\n",
       "    <tr>\n",
       "      <th>611</th>\n",
       "      <td>Male</td>\n",
       "      <td>Yes</td>\n",
       "      <td>1</td>\n",
       "      <td>Graduate</td>\n",
       "      <td>No</td>\n",
       "      <td>8072</td>\n",
       "      <td>240.0</td>\n",
       "      <td>253.0</td>\n",
       "      <td>360.0</td>\n",
       "      <td>1.0</td>\n",
       "      <td>Urban</td>\n",
       "      <td>Y</td>\n",
       "    </tr>\n",
       "    <tr>\n",
       "      <th>612</th>\n",
       "      <td>Male</td>\n",
       "      <td>Yes</td>\n",
       "      <td>2</td>\n",
       "      <td>Graduate</td>\n",
       "      <td>No</td>\n",
       "      <td>7583</td>\n",
       "      <td>0.0</td>\n",
       "      <td>187.0</td>\n",
       "      <td>360.0</td>\n",
       "      <td>1.0</td>\n",
       "      <td>Urban</td>\n",
       "      <td>Y</td>\n",
       "    </tr>\n",
       "    <tr>\n",
       "      <th>613</th>\n",
       "      <td>Female</td>\n",
       "      <td>No</td>\n",
       "      <td>0</td>\n",
       "      <td>Graduate</td>\n",
       "      <td>Yes</td>\n",
       "      <td>4583</td>\n",
       "      <td>0.0</td>\n",
       "      <td>133.0</td>\n",
       "      <td>360.0</td>\n",
       "      <td>0.0</td>\n",
       "      <td>Semiurban</td>\n",
       "      <td>N</td>\n",
       "    </tr>\n",
       "  </tbody>\n",
       "</table>\n",
       "<p>614 rows × 12 columns</p>\n",
       "</div>"
      ],
      "text/plain": [
       "     Gender Married Dependents     Education Self_Employed  ApplicantIncome  \\\n",
       "0      Male      No          0      Graduate            No             5849   \n",
       "1      Male     Yes          1      Graduate            No             4583   \n",
       "2      Male     Yes          0      Graduate           Yes             3000   \n",
       "3      Male     Yes          0  Not Graduate            No             2583   \n",
       "4      Male      No          0      Graduate            No             6000   \n",
       "..      ...     ...        ...           ...           ...              ...   \n",
       "609  Female      No          0      Graduate            No             2900   \n",
       "610    Male     Yes         3+      Graduate            No             4106   \n",
       "611    Male     Yes          1      Graduate            No             8072   \n",
       "612    Male     Yes          2      Graduate            No             7583   \n",
       "613  Female      No          0      Graduate           Yes             4583   \n",
       "\n",
       "     CoapplicantIncome  LoanAmount  Loan_Amount_Term  Credit_History  \\\n",
       "0                  0.0         NaN             360.0             1.0   \n",
       "1               1508.0       128.0             360.0             1.0   \n",
       "2                  0.0        66.0             360.0             1.0   \n",
       "3               2358.0       120.0             360.0             1.0   \n",
       "4                  0.0       141.0             360.0             1.0   \n",
       "..                 ...         ...               ...             ...   \n",
       "609                0.0        71.0             360.0             1.0   \n",
       "610                0.0        40.0             180.0             1.0   \n",
       "611              240.0       253.0             360.0             1.0   \n",
       "612                0.0       187.0             360.0             1.0   \n",
       "613                0.0       133.0             360.0             0.0   \n",
       "\n",
       "    Property_Area Loan_Status  \n",
       "0           Urban           Y  \n",
       "1           Rural           N  \n",
       "2           Urban           Y  \n",
       "3           Urban           Y  \n",
       "4           Urban           Y  \n",
       "..            ...         ...  \n",
       "609         Rural           Y  \n",
       "610         Rural           Y  \n",
       "611         Urban           Y  \n",
       "612         Urban           Y  \n",
       "613     Semiurban           N  \n",
       "\n",
       "[614 rows x 12 columns]"
      ]
     },
     "execution_count": 9,
     "metadata": {},
     "output_type": "execute_result"
    }
   ],
   "source": [
    "loan_dataset\n"
   ]
  },
  {
   "cell_type": "code",
   "execution_count": 10,
   "id": "f6eb0f76",
   "metadata": {},
   "outputs": [
    {
     "data": {
      "application/vnd.microsoft.datawrangler.viewer.v0+json": {
       "columns": [
        {
         "name": "index",
         "rawType": "object",
         "type": "string"
        },
        {
         "name": "0",
         "rawType": "int64",
         "type": "integer"
        }
       ],
       "ref": "e86f292f-f505-43cd-9e92-0a78de04f0e0",
       "rows": [
        [
         "Gender",
         "13"
        ],
        [
         "Married",
         "3"
        ],
        [
         "Dependents",
         "15"
        ],
        [
         "Education",
         "0"
        ],
        [
         "Self_Employed",
         "32"
        ],
        [
         "ApplicantIncome",
         "0"
        ],
        [
         "CoapplicantIncome",
         "0"
        ],
        [
         "LoanAmount",
         "22"
        ],
        [
         "Loan_Amount_Term",
         "14"
        ],
        [
         "Credit_History",
         "50"
        ],
        [
         "Property_Area",
         "0"
        ],
        [
         "Loan_Status",
         "0"
        ]
       ],
       "shape": {
        "columns": 1,
        "rows": 12
       }
      },
      "text/plain": [
       "Gender               13\n",
       "Married               3\n",
       "Dependents           15\n",
       "Education             0\n",
       "Self_Employed        32\n",
       "ApplicantIncome       0\n",
       "CoapplicantIncome     0\n",
       "LoanAmount           22\n",
       "Loan_Amount_Term     14\n",
       "Credit_History       50\n",
       "Property_Area         0\n",
       "Loan_Status           0\n",
       "dtype: int64"
      ]
     },
     "execution_count": 10,
     "metadata": {},
     "output_type": "execute_result"
    }
   ],
   "source": [
    "loan_dataset.isna().sum()"
   ]
  },
  {
   "cell_type": "markdown",
   "id": "8d0b4e33",
   "metadata": {},
   "source": [
    "# Step 2: Handling Missing Values (مدیریت مقادیر ناموجود) and feture engineering (تولید ویژگی)\n",
    "\n",
    "As mentioned in the problem statement, some columns contain empty values (NaN). We need to adopt an appropriate strategy to fill these missing values.\n",
    "\n",
    "# Using **KNN Imputer** to Handle Missing Values\n",
    "\n",
    "## 📌 What is KNN Imputer?\n",
    "The **KNN Imputer** is a data imputation technique based on the **K-Nearest Neighbors (KNN)** algorithm.  \n",
    "Instead of filling in missing values with the mean, median, or mode of a column, **KNN Imputer** uses the similarity between samples to estimate missing data.\n",
    "\n",
    "It works by:\n",
    "1. Finding **K most similar rows** (neighbors) to the row with the missing value.\n",
    "2. Filling the missing cell with the **average (or weighted average)** of the corresponding feature values from its neighbors.\n",
    "\n",
    "---\n",
    "\n",
    "## 🚀 Why use KNN Imputer?\n",
    "- **More accurate than mean/median imputation**  \n",
    "  It takes into account relationships between features, which helps maintain natural variation in the data.\n",
    "- **Useful for both numerical and categorical (encoded) data**  \n",
    "  (Categorical data must be numerically encoded first.)\n",
    "- **Reduces bias** compared to simple imputation methods.\n",
    "\n",
    "---\n",
    "\n",
    "## 🛠 How It Works\n",
    "Given a dataset with missing values:\n",
    "1. **Preprocess the data**\n",
    "   - Encode categorical variables (One-Hot Encoding or Label Encoding).\n",
    "   - Scale the data (e.g., with `StandardScaler`) so that all variables are on a similar range.\n",
    "2. **Choose the number of neighbors (`n_neighbors`)**  \n",
    "   - A typical range is between **3 and 10**.\n",
    "3. **Fit and transform the data** using `KNNImputer` from `scikit-learn`.\n",
    "4. **Use the imputed dataset** for model training or further analysis.\n",
    "\n"
   ]
  },
  {
   "cell_type": "code",
   "execution_count": 11,
   "id": "80fde65f",
   "metadata": {},
   "outputs": [
    {
     "data": {
      "application/vnd.microsoft.datawrangler.viewer.v0+json": {
       "columns": [
        {
         "name": "index",
         "rawType": "int64",
         "type": "integer"
        },
        {
         "name": "Gender",
         "rawType": "float64",
         "type": "float"
        },
        {
         "name": "Married",
         "rawType": "float64",
         "type": "float"
        },
        {
         "name": "Dependents",
         "rawType": "float64",
         "type": "float"
        },
        {
         "name": "Education",
         "rawType": "int64",
         "type": "integer"
        },
        {
         "name": "Self_Employed",
         "rawType": "float64",
         "type": "float"
        },
        {
         "name": "ApplicantIncome",
         "rawType": "int64",
         "type": "integer"
        },
        {
         "name": "CoapplicantIncome",
         "rawType": "float64",
         "type": "float"
        },
        {
         "name": "LoanAmount",
         "rawType": "float64",
         "type": "float"
        },
        {
         "name": "Loan_Amount_Term",
         "rawType": "float64",
         "type": "float"
        },
        {
         "name": "Credit_History",
         "rawType": "float64",
         "type": "float"
        },
        {
         "name": "Loan_Status",
         "rawType": "int64",
         "type": "integer"
        },
        {
         "name": "Property_Area_Rural",
         "rawType": "int64",
         "type": "integer"
        },
        {
         "name": "Property_Area_Semiurban",
         "rawType": "int64",
         "type": "integer"
        },
        {
         "name": "Property_Area_Urban",
         "rawType": "int64",
         "type": "integer"
        }
       ],
       "ref": "b669af2e-661a-4a97-8746-647ac7da7ef6",
       "rows": [
        [
         "0",
         "1.0",
         "0.0",
         "0.0",
         "1",
         "0.0",
         "5849",
         "0.0",
         null,
         "360.0",
         "1.0",
         "1",
         "0",
         "0",
         "1"
        ],
        [
         "1",
         "1.0",
         "1.0",
         "1.0",
         "1",
         "0.0",
         "4583",
         "1508.0",
         "128.0",
         "360.0",
         "1.0",
         "0",
         "1",
         "0",
         "0"
        ],
        [
         "2",
         "1.0",
         "1.0",
         "0.0",
         "1",
         "1.0",
         "3000",
         "0.0",
         "66.0",
         "360.0",
         "1.0",
         "1",
         "0",
         "0",
         "1"
        ],
        [
         "3",
         "1.0",
         "1.0",
         "0.0",
         "0",
         "0.0",
         "2583",
         "2358.0",
         "120.0",
         "360.0",
         "1.0",
         "1",
         "0",
         "0",
         "1"
        ],
        [
         "4",
         "1.0",
         "0.0",
         "0.0",
         "1",
         "0.0",
         "6000",
         "0.0",
         "141.0",
         "360.0",
         "1.0",
         "1",
         "0",
         "0",
         "1"
        ]
       ],
       "shape": {
        "columns": 14,
        "rows": 5
       }
      },
      "text/html": [
       "<div>\n",
       "<style scoped>\n",
       "    .dataframe tbody tr th:only-of-type {\n",
       "        vertical-align: middle;\n",
       "    }\n",
       "\n",
       "    .dataframe tbody tr th {\n",
       "        vertical-align: top;\n",
       "    }\n",
       "\n",
       "    .dataframe thead th {\n",
       "        text-align: right;\n",
       "    }\n",
       "</style>\n",
       "<table border=\"1\" class=\"dataframe\">\n",
       "  <thead>\n",
       "    <tr style=\"text-align: right;\">\n",
       "      <th></th>\n",
       "      <th>Gender</th>\n",
       "      <th>Married</th>\n",
       "      <th>Dependents</th>\n",
       "      <th>Education</th>\n",
       "      <th>Self_Employed</th>\n",
       "      <th>ApplicantIncome</th>\n",
       "      <th>CoapplicantIncome</th>\n",
       "      <th>LoanAmount</th>\n",
       "      <th>Loan_Amount_Term</th>\n",
       "      <th>Credit_History</th>\n",
       "      <th>Loan_Status</th>\n",
       "      <th>Property_Area_Rural</th>\n",
       "      <th>Property_Area_Semiurban</th>\n",
       "      <th>Property_Area_Urban</th>\n",
       "    </tr>\n",
       "  </thead>\n",
       "  <tbody>\n",
       "    <tr>\n",
       "      <th>0</th>\n",
       "      <td>1.0</td>\n",
       "      <td>0.0</td>\n",
       "      <td>0.0</td>\n",
       "      <td>1</td>\n",
       "      <td>0.0</td>\n",
       "      <td>5849</td>\n",
       "      <td>0.0</td>\n",
       "      <td>NaN</td>\n",
       "      <td>360.0</td>\n",
       "      <td>1.0</td>\n",
       "      <td>1</td>\n",
       "      <td>0</td>\n",
       "      <td>0</td>\n",
       "      <td>1</td>\n",
       "    </tr>\n",
       "    <tr>\n",
       "      <th>1</th>\n",
       "      <td>1.0</td>\n",
       "      <td>1.0</td>\n",
       "      <td>1.0</td>\n",
       "      <td>1</td>\n",
       "      <td>0.0</td>\n",
       "      <td>4583</td>\n",
       "      <td>1508.0</td>\n",
       "      <td>128.0</td>\n",
       "      <td>360.0</td>\n",
       "      <td>1.0</td>\n",
       "      <td>0</td>\n",
       "      <td>1</td>\n",
       "      <td>0</td>\n",
       "      <td>0</td>\n",
       "    </tr>\n",
       "    <tr>\n",
       "      <th>2</th>\n",
       "      <td>1.0</td>\n",
       "      <td>1.0</td>\n",
       "      <td>0.0</td>\n",
       "      <td>1</td>\n",
       "      <td>1.0</td>\n",
       "      <td>3000</td>\n",
       "      <td>0.0</td>\n",
       "      <td>66.0</td>\n",
       "      <td>360.0</td>\n",
       "      <td>1.0</td>\n",
       "      <td>1</td>\n",
       "      <td>0</td>\n",
       "      <td>0</td>\n",
       "      <td>1</td>\n",
       "    </tr>\n",
       "    <tr>\n",
       "      <th>3</th>\n",
       "      <td>1.0</td>\n",
       "      <td>1.0</td>\n",
       "      <td>0.0</td>\n",
       "      <td>0</td>\n",
       "      <td>0.0</td>\n",
       "      <td>2583</td>\n",
       "      <td>2358.0</td>\n",
       "      <td>120.0</td>\n",
       "      <td>360.0</td>\n",
       "      <td>1.0</td>\n",
       "      <td>1</td>\n",
       "      <td>0</td>\n",
       "      <td>0</td>\n",
       "      <td>1</td>\n",
       "    </tr>\n",
       "    <tr>\n",
       "      <th>4</th>\n",
       "      <td>1.0</td>\n",
       "      <td>0.0</td>\n",
       "      <td>0.0</td>\n",
       "      <td>1</td>\n",
       "      <td>0.0</td>\n",
       "      <td>6000</td>\n",
       "      <td>0.0</td>\n",
       "      <td>141.0</td>\n",
       "      <td>360.0</td>\n",
       "      <td>1.0</td>\n",
       "      <td>1</td>\n",
       "      <td>0</td>\n",
       "      <td>0</td>\n",
       "      <td>1</td>\n",
       "    </tr>\n",
       "  </tbody>\n",
       "</table>\n",
       "</div>"
      ],
      "text/plain": [
       "   Gender  Married  Dependents  Education  Self_Employed  ApplicantIncome  \\\n",
       "0     1.0      0.0         0.0          1            0.0             5849   \n",
       "1     1.0      1.0         1.0          1            0.0             4583   \n",
       "2     1.0      1.0         0.0          1            1.0             3000   \n",
       "3     1.0      1.0         0.0          0            0.0             2583   \n",
       "4     1.0      0.0         0.0          1            0.0             6000   \n",
       "\n",
       "   CoapplicantIncome  LoanAmount  Loan_Amount_Term  Credit_History  \\\n",
       "0                0.0         NaN             360.0             1.0   \n",
       "1             1508.0       128.0             360.0             1.0   \n",
       "2                0.0        66.0             360.0             1.0   \n",
       "3             2358.0       120.0             360.0             1.0   \n",
       "4                0.0       141.0             360.0             1.0   \n",
       "\n",
       "   Loan_Status  Property_Area_Rural  Property_Area_Semiurban  \\\n",
       "0            1                    0                        0   \n",
       "1            0                    1                        0   \n",
       "2            1                    0                        0   \n",
       "3            1                    0                        0   \n",
       "4            1                    0                        0   \n",
       "\n",
       "   Property_Area_Urban  \n",
       "0                    1  \n",
       "1                    0  \n",
       "2                    1  \n",
       "3                    1  \n",
       "4                    1  "
      ]
     },
     "execution_count": 11,
     "metadata": {},
     "output_type": "execute_result"
    }
   ],
   "source": [
    "loan_dataset_EDA = loan_dataset.copy()\n",
    "loan_dataset = pd.get_dummies(loan_dataset, columns=['Property_Area'], drop_first=False , dtype='int')\n",
    "loan_dataset['Gender']=loan_dataset['Gender'].map({'Male':1,'Female':0})\n",
    "loan_dataset['Loan_Status'] =loan_dataset['Loan_Status'].map({'Y':1,'N':0})\n",
    "loan_dataset['Self_Employed'] = loan_dataset['Self_Employed'].map({'Yes':1,'No':0})\n",
    "loan_dataset['Married'] = loan_dataset['Married'].map({'Yes':1,'No':0})\n",
    "loan_dataset['Education'] = loan_dataset['Education'].map({'Graduate':1,'Not Graduate':0})\n",
    "loan_dataset['Dependents'] = loan_dataset['Dependents'].map({'0':0,'1':1,'2':2,'3+':3})\n",
    "loan_dataset.head()\n"
   ]
  },
  {
   "cell_type": "code",
   "execution_count": 12,
   "id": "08ba0d2a",
   "metadata": {},
   "outputs": [
    {
     "name": "stdout",
     "output_type": "stream",
     "text": [
      "✅ بهترین K برای KNNImputer: 12\n"
     ]
    }
   ],
   "source": [
    "# فرض: loan_dataset دیتاست خام شماست\n",
    "df = loan_dataset.copy()\n",
    "# تبدیل ویژگی‌های دسته‌ای به عددی (One-Hot Encoding یا Label Encoding)\n",
    "df_encoded = pd.get_dummies(df, drop_first=True)\n",
    "\n",
    "# جدا کردن X و y (فرض بر اینکه ستون هدف Loan_Status است)\n",
    "X = df_encoded.drop('Loan_Status', axis=1)\n",
    "y = df_encoded['Loan_Status']\n",
    "\n",
    "# مقادیر K که می‌خواهیم تست کنیم\n",
    "k_values = range(2, 16)\n",
    "mean_scores = []\n",
    "\n",
    "# اسکیل کردن داده‌ها خیلی مهمه چون KNN به فاصله حساسه\n",
    "scaler = StandardScaler()\n",
    "\n",
    "for k in k_values:\n",
    "    # مرحله 1: استفاده از KNNImputer\n",
    "    imputer = KNNImputer(n_neighbors=k)\n",
    "    X_imputed = imputer.fit_transform(X)\n",
    "    \n",
    "    # اسکیل کردن ویژگی‌ها\n",
    "    X_scaled = scaler.fit_transform(X_imputed)\n",
    "    \n",
    "    # مرحله 2: انتخاب یک مدل ساده برای تست (Logistic Regression)\n",
    "    model = LogisticRegression(max_iter=1000)\n",
    "    \n",
    "    # Cross Validation و میانگین دقت\n",
    "    scores = cross_val_score(model, X_scaled, y, cv=5, scoring='accuracy')\n",
    "    mean_scores.append(scores.mean())\n",
    "\n",
    "# پیدا کردن بهترین K\n",
    "best_k = k_values[np.argmax(mean_scores)]\n",
    "print(f\"✅ بهترین K برای KNNImputer: {best_k}\")"
   ]
  },
  {
   "cell_type": "code",
   "execution_count": 13,
   "id": "617f095f",
   "metadata": {},
   "outputs": [
    {
     "data": {
      "application/vnd.plotly.v1+json": {
       "config": {
        "plotlyServerURL": "https://plot.ly"
       },
       "data": [
        {
         "hovertemplate": "K=%{x}<br>Accuracy=%{y}<br>text=%{text}<extra></extra>",
         "legendgroup": "",
         "line": {
          "color": "#636efa",
          "dash": "solid"
         },
         "marker": {
          "symbol": "circle"
         },
         "mode": "lines+markers+text",
         "name": "",
         "orientation": "v",
         "showlegend": false,
         "text": {
          "bdata": "Rrbz/dR46T9GtvP91HjpP/Cnxks3iek/GQRWDi2y6T8ZBFYOLbLpP8P1KFyPwuk/GQRWDi2y6T+amZmZmZnpP28Sg8DKoek/w/UoXI/C6T+YbhKDwMrpPxkEVg4tsuk/bxKDwMqh6T9vEoPAyqHpPw==",
          "dtype": "f8"
         },
         "type": "scatter",
         "x": {
          "bdata": "AgMEBQYHCAkKCwwNDg8=",
          "dtype": "i1"
         },
         "xaxis": "x",
         "y": {
          "bdata": "cLjErI586T/AuYTSOnzpPwiExMaoiek/ao6uvLqx6T9qjq68urHpPz0EGcrwvuk/LuRDyZ6x6T8VpJnH+pbpP11u2btopOk/7gJZpES/6T82zZiYsszpP6Y4GbDWsek/XW7Zu2ik6T+aGESvhKTpPw==",
          "dtype": "f8"
         },
         "yaxis": "y"
        },
        {
         "marker": {
          "color": "red",
          "size": 12,
          "symbol": "star"
         },
         "mode": "markers+text",
         "name": "Best K",
         "text": [
          "Best: 12"
         ],
         "textposition": "top center",
         "type": "scatter",
         "x": [
          12
         ],
         "y": [
          0.8062375049980008
         ]
        }
       ],
       "layout": {
        "legend": {
         "tracegroupgap": 0
        },
        "template": {
         "data": {
          "bar": [
           {
            "error_x": {
             "color": "#2a3f5f"
            },
            "error_y": {
             "color": "#2a3f5f"
            },
            "marker": {
             "line": {
              "color": "#E5ECF6",
              "width": 0.5
             },
             "pattern": {
              "fillmode": "overlay",
              "size": 10,
              "solidity": 0.2
             }
            },
            "type": "bar"
           }
          ],
          "barpolar": [
           {
            "marker": {
             "line": {
              "color": "#E5ECF6",
              "width": 0.5
             },
             "pattern": {
              "fillmode": "overlay",
              "size": 10,
              "solidity": 0.2
             }
            },
            "type": "barpolar"
           }
          ],
          "carpet": [
           {
            "aaxis": {
             "endlinecolor": "#2a3f5f",
             "gridcolor": "white",
             "linecolor": "white",
             "minorgridcolor": "white",
             "startlinecolor": "#2a3f5f"
            },
            "baxis": {
             "endlinecolor": "#2a3f5f",
             "gridcolor": "white",
             "linecolor": "white",
             "minorgridcolor": "white",
             "startlinecolor": "#2a3f5f"
            },
            "type": "carpet"
           }
          ],
          "choropleth": [
           {
            "colorbar": {
             "outlinewidth": 0,
             "ticks": ""
            },
            "type": "choropleth"
           }
          ],
          "contour": [
           {
            "colorbar": {
             "outlinewidth": 0,
             "ticks": ""
            },
            "colorscale": [
             [
              0,
              "#0d0887"
             ],
             [
              0.1111111111111111,
              "#46039f"
             ],
             [
              0.2222222222222222,
              "#7201a8"
             ],
             [
              0.3333333333333333,
              "#9c179e"
             ],
             [
              0.4444444444444444,
              "#bd3786"
             ],
             [
              0.5555555555555556,
              "#d8576b"
             ],
             [
              0.6666666666666666,
              "#ed7953"
             ],
             [
              0.7777777777777778,
              "#fb9f3a"
             ],
             [
              0.8888888888888888,
              "#fdca26"
             ],
             [
              1,
              "#f0f921"
             ]
            ],
            "type": "contour"
           }
          ],
          "contourcarpet": [
           {
            "colorbar": {
             "outlinewidth": 0,
             "ticks": ""
            },
            "type": "contourcarpet"
           }
          ],
          "heatmap": [
           {
            "colorbar": {
             "outlinewidth": 0,
             "ticks": ""
            },
            "colorscale": [
             [
              0,
              "#0d0887"
             ],
             [
              0.1111111111111111,
              "#46039f"
             ],
             [
              0.2222222222222222,
              "#7201a8"
             ],
             [
              0.3333333333333333,
              "#9c179e"
             ],
             [
              0.4444444444444444,
              "#bd3786"
             ],
             [
              0.5555555555555556,
              "#d8576b"
             ],
             [
              0.6666666666666666,
              "#ed7953"
             ],
             [
              0.7777777777777778,
              "#fb9f3a"
             ],
             [
              0.8888888888888888,
              "#fdca26"
             ],
             [
              1,
              "#f0f921"
             ]
            ],
            "type": "heatmap"
           }
          ],
          "histogram": [
           {
            "marker": {
             "pattern": {
              "fillmode": "overlay",
              "size": 10,
              "solidity": 0.2
             }
            },
            "type": "histogram"
           }
          ],
          "histogram2d": [
           {
            "colorbar": {
             "outlinewidth": 0,
             "ticks": ""
            },
            "colorscale": [
             [
              0,
              "#0d0887"
             ],
             [
              0.1111111111111111,
              "#46039f"
             ],
             [
              0.2222222222222222,
              "#7201a8"
             ],
             [
              0.3333333333333333,
              "#9c179e"
             ],
             [
              0.4444444444444444,
              "#bd3786"
             ],
             [
              0.5555555555555556,
              "#d8576b"
             ],
             [
              0.6666666666666666,
              "#ed7953"
             ],
             [
              0.7777777777777778,
              "#fb9f3a"
             ],
             [
              0.8888888888888888,
              "#fdca26"
             ],
             [
              1,
              "#f0f921"
             ]
            ],
            "type": "histogram2d"
           }
          ],
          "histogram2dcontour": [
           {
            "colorbar": {
             "outlinewidth": 0,
             "ticks": ""
            },
            "colorscale": [
             [
              0,
              "#0d0887"
             ],
             [
              0.1111111111111111,
              "#46039f"
             ],
             [
              0.2222222222222222,
              "#7201a8"
             ],
             [
              0.3333333333333333,
              "#9c179e"
             ],
             [
              0.4444444444444444,
              "#bd3786"
             ],
             [
              0.5555555555555556,
              "#d8576b"
             ],
             [
              0.6666666666666666,
              "#ed7953"
             ],
             [
              0.7777777777777778,
              "#fb9f3a"
             ],
             [
              0.8888888888888888,
              "#fdca26"
             ],
             [
              1,
              "#f0f921"
             ]
            ],
            "type": "histogram2dcontour"
           }
          ],
          "mesh3d": [
           {
            "colorbar": {
             "outlinewidth": 0,
             "ticks": ""
            },
            "type": "mesh3d"
           }
          ],
          "parcoords": [
           {
            "line": {
             "colorbar": {
              "outlinewidth": 0,
              "ticks": ""
             }
            },
            "type": "parcoords"
           }
          ],
          "pie": [
           {
            "automargin": true,
            "type": "pie"
           }
          ],
          "scatter": [
           {
            "fillpattern": {
             "fillmode": "overlay",
             "size": 10,
             "solidity": 0.2
            },
            "type": "scatter"
           }
          ],
          "scatter3d": [
           {
            "line": {
             "colorbar": {
              "outlinewidth": 0,
              "ticks": ""
             }
            },
            "marker": {
             "colorbar": {
              "outlinewidth": 0,
              "ticks": ""
             }
            },
            "type": "scatter3d"
           }
          ],
          "scattercarpet": [
           {
            "marker": {
             "colorbar": {
              "outlinewidth": 0,
              "ticks": ""
             }
            },
            "type": "scattercarpet"
           }
          ],
          "scattergeo": [
           {
            "marker": {
             "colorbar": {
              "outlinewidth": 0,
              "ticks": ""
             }
            },
            "type": "scattergeo"
           }
          ],
          "scattergl": [
           {
            "marker": {
             "colorbar": {
              "outlinewidth": 0,
              "ticks": ""
             }
            },
            "type": "scattergl"
           }
          ],
          "scattermap": [
           {
            "marker": {
             "colorbar": {
              "outlinewidth": 0,
              "ticks": ""
             }
            },
            "type": "scattermap"
           }
          ],
          "scattermapbox": [
           {
            "marker": {
             "colorbar": {
              "outlinewidth": 0,
              "ticks": ""
             }
            },
            "type": "scattermapbox"
           }
          ],
          "scatterpolar": [
           {
            "marker": {
             "colorbar": {
              "outlinewidth": 0,
              "ticks": ""
             }
            },
            "type": "scatterpolar"
           }
          ],
          "scatterpolargl": [
           {
            "marker": {
             "colorbar": {
              "outlinewidth": 0,
              "ticks": ""
             }
            },
            "type": "scatterpolargl"
           }
          ],
          "scatterternary": [
           {
            "marker": {
             "colorbar": {
              "outlinewidth": 0,
              "ticks": ""
             }
            },
            "type": "scatterternary"
           }
          ],
          "surface": [
           {
            "colorbar": {
             "outlinewidth": 0,
             "ticks": ""
            },
            "colorscale": [
             [
              0,
              "#0d0887"
             ],
             [
              0.1111111111111111,
              "#46039f"
             ],
             [
              0.2222222222222222,
              "#7201a8"
             ],
             [
              0.3333333333333333,
              "#9c179e"
             ],
             [
              0.4444444444444444,
              "#bd3786"
             ],
             [
              0.5555555555555556,
              "#d8576b"
             ],
             [
              0.6666666666666666,
              "#ed7953"
             ],
             [
              0.7777777777777778,
              "#fb9f3a"
             ],
             [
              0.8888888888888888,
              "#fdca26"
             ],
             [
              1,
              "#f0f921"
             ]
            ],
            "type": "surface"
           }
          ],
          "table": [
           {
            "cells": {
             "fill": {
              "color": "#EBF0F8"
             },
             "line": {
              "color": "white"
             }
            },
            "header": {
             "fill": {
              "color": "#C8D4E3"
             },
             "line": {
              "color": "white"
             }
            },
            "type": "table"
           }
          ]
         },
         "layout": {
          "annotationdefaults": {
           "arrowcolor": "#2a3f5f",
           "arrowhead": 0,
           "arrowwidth": 1
          },
          "autotypenumbers": "strict",
          "coloraxis": {
           "colorbar": {
            "outlinewidth": 0,
            "ticks": ""
           }
          },
          "colorscale": {
           "diverging": [
            [
             0,
             "#8e0152"
            ],
            [
             0.1,
             "#c51b7d"
            ],
            [
             0.2,
             "#de77ae"
            ],
            [
             0.3,
             "#f1b6da"
            ],
            [
             0.4,
             "#fde0ef"
            ],
            [
             0.5,
             "#f7f7f7"
            ],
            [
             0.6,
             "#e6f5d0"
            ],
            [
             0.7,
             "#b8e186"
            ],
            [
             0.8,
             "#7fbc41"
            ],
            [
             0.9,
             "#4d9221"
            ],
            [
             1,
             "#276419"
            ]
           ],
           "sequential": [
            [
             0,
             "#0d0887"
            ],
            [
             0.1111111111111111,
             "#46039f"
            ],
            [
             0.2222222222222222,
             "#7201a8"
            ],
            [
             0.3333333333333333,
             "#9c179e"
            ],
            [
             0.4444444444444444,
             "#bd3786"
            ],
            [
             0.5555555555555556,
             "#d8576b"
            ],
            [
             0.6666666666666666,
             "#ed7953"
            ],
            [
             0.7777777777777778,
             "#fb9f3a"
            ],
            [
             0.8888888888888888,
             "#fdca26"
            ],
            [
             1,
             "#f0f921"
            ]
           ],
           "sequentialminus": [
            [
             0,
             "#0d0887"
            ],
            [
             0.1111111111111111,
             "#46039f"
            ],
            [
             0.2222222222222222,
             "#7201a8"
            ],
            [
             0.3333333333333333,
             "#9c179e"
            ],
            [
             0.4444444444444444,
             "#bd3786"
            ],
            [
             0.5555555555555556,
             "#d8576b"
            ],
            [
             0.6666666666666666,
             "#ed7953"
            ],
            [
             0.7777777777777778,
             "#fb9f3a"
            ],
            [
             0.8888888888888888,
             "#fdca26"
            ],
            [
             1,
             "#f0f921"
            ]
           ]
          },
          "colorway": [
           "#636efa",
           "#EF553B",
           "#00cc96",
           "#ab63fa",
           "#FFA15A",
           "#19d3f3",
           "#FF6692",
           "#B6E880",
           "#FF97FF",
           "#FECB52"
          ],
          "font": {
           "color": "#2a3f5f"
          },
          "geo": {
           "bgcolor": "white",
           "lakecolor": "white",
           "landcolor": "#E5ECF6",
           "showlakes": true,
           "showland": true,
           "subunitcolor": "white"
          },
          "hoverlabel": {
           "align": "left"
          },
          "hovermode": "closest",
          "mapbox": {
           "style": "light"
          },
          "paper_bgcolor": "white",
          "plot_bgcolor": "#E5ECF6",
          "polar": {
           "angularaxis": {
            "gridcolor": "white",
            "linecolor": "white",
            "ticks": ""
           },
           "bgcolor": "#E5ECF6",
           "radialaxis": {
            "gridcolor": "white",
            "linecolor": "white",
            "ticks": ""
           }
          },
          "scene": {
           "xaxis": {
            "backgroundcolor": "#E5ECF6",
            "gridcolor": "white",
            "gridwidth": 2,
            "linecolor": "white",
            "showbackground": true,
            "ticks": "",
            "zerolinecolor": "white"
           },
           "yaxis": {
            "backgroundcolor": "#E5ECF6",
            "gridcolor": "white",
            "gridwidth": 2,
            "linecolor": "white",
            "showbackground": true,
            "ticks": "",
            "zerolinecolor": "white"
           },
           "zaxis": {
            "backgroundcolor": "#E5ECF6",
            "gridcolor": "white",
            "gridwidth": 2,
            "linecolor": "white",
            "showbackground": true,
            "ticks": "",
            "zerolinecolor": "white"
           }
          },
          "shapedefaults": {
           "line": {
            "color": "#2a3f5f"
           }
          },
          "ternary": {
           "aaxis": {
            "gridcolor": "white",
            "linecolor": "white",
            "ticks": ""
           },
           "baxis": {
            "gridcolor": "white",
            "linecolor": "white",
            "ticks": ""
           },
           "bgcolor": "#E5ECF6",
           "caxis": {
            "gridcolor": "white",
            "linecolor": "white",
            "ticks": ""
           }
          },
          "title": {
           "x": 0.05
          },
          "xaxis": {
           "automargin": true,
           "gridcolor": "white",
           "linecolor": "white",
           "ticks": "",
           "title": {
            "standoff": 15
           },
           "zerolinecolor": "white",
           "zerolinewidth": 2
          },
          "yaxis": {
           "automargin": true,
           "gridcolor": "white",
           "linecolor": "white",
           "ticks": "",
           "title": {
            "standoff": 15
           },
           "zerolinecolor": "white",
           "zerolinewidth": 2
          }
         }
        },
        "title": {
         "text": "Best K in KNNImputer (Best = 12)"
        },
        "xaxis": {
         "anchor": "y",
         "domain": [
          0,
          1
         ],
         "title": {
          "text": "K"
         }
        },
        "yaxis": {
         "anchor": "x",
         "domain": [
          0,
          1
         ],
         "title": {
          "text": "Accuracy"
         }
        }
       }
      }
     },
     "metadata": {},
     "output_type": "display_data"
    }
   ],
   "source": [
    "df_score = pd.DataFrame({'K': list(k_values), 'Accuracy': mean_scores})\n",
    "\n",
    "fig = px.line(df_score, x='K', y='Accuracy', markers=True,\n",
    "            title=f'Best K in KNNImputer (Best = {best_k})',\n",
    "            text=df_score['Accuracy'].round(3))\n",
    "\n",
    "fig.add_scatter(\n",
    "    x=[best_k],\n",
    "    y=[max(mean_scores)],\n",
    "    mode='markers+text',\n",
    "    name='Best K',\n",
    "    text=[f'Best: {best_k}'],\n",
    "    textposition='top center',\n",
    "    marker=dict(size=12, color='red', symbol='star')\n",
    ")\n",
    "\n",
    "fig.show()"
   ]
  },
  {
   "cell_type": "code",
   "execution_count": 14,
   "id": "d67b75b1",
   "metadata": {},
   "outputs": [
    {
     "name": "stdout",
     "output_type": "stream",
     "text": [
      "\n",
      " دیتافریم بعد از KNN Imputation:\n"
     ]
    },
    {
     "data": {
      "application/vnd.microsoft.datawrangler.viewer.v0+json": {
       "columns": [
        {
         "name": "index",
         "rawType": "int64",
         "type": "integer"
        },
        {
         "name": "Gender",
         "rawType": "float64",
         "type": "float"
        },
        {
         "name": "Married",
         "rawType": "float64",
         "type": "float"
        },
        {
         "name": "Dependents",
         "rawType": "float64",
         "type": "float"
        },
        {
         "name": "Education",
         "rawType": "float64",
         "type": "float"
        },
        {
         "name": "Self_Employed",
         "rawType": "float64",
         "type": "float"
        },
        {
         "name": "ApplicantIncome",
         "rawType": "float64",
         "type": "float"
        },
        {
         "name": "CoapplicantIncome",
         "rawType": "float64",
         "type": "float"
        },
        {
         "name": "LoanAmount",
         "rawType": "float64",
         "type": "float"
        },
        {
         "name": "Loan_Amount_Term",
         "rawType": "float64",
         "type": "float"
        },
        {
         "name": "Credit_History",
         "rawType": "float64",
         "type": "float"
        },
        {
         "name": "Loan_Status",
         "rawType": "float64",
         "type": "float"
        },
        {
         "name": "Property_Area_Rural",
         "rawType": "float64",
         "type": "float"
        },
        {
         "name": "Property_Area_Semiurban",
         "rawType": "float64",
         "type": "float"
        },
        {
         "name": "Property_Area_Urban",
         "rawType": "float64",
         "type": "float"
        }
       ],
       "ref": "778a22f4-da3d-4055-ac41-0e2348b44cd9",
       "rows": [
        [
         "0",
         "1.0",
         "0.0",
         "0.0",
         "1.0",
         "0.0",
         "5849.0",
         "0.0",
         "154.08333333333334",
         "360.0",
         "1.0",
         "1.0",
         "0.0",
         "0.0",
         "1.0"
        ],
        [
         "1",
         "1.0",
         "1.0",
         "1.0",
         "1.0",
         "0.0",
         "4583.0",
         "1508.0",
         "128.0",
         "360.0",
         "1.0",
         "0.0",
         "1.0",
         "0.0",
         "0.0"
        ],
        [
         "2",
         "1.0",
         "1.0",
         "0.0",
         "1.0",
         "1.0",
         "3000.0",
         "0.0",
         "66.0",
         "360.0",
         "1.0",
         "1.0",
         "0.0",
         "0.0",
         "1.0"
        ],
        [
         "3",
         "1.0",
         "1.0",
         "0.0",
         "0.0",
         "0.0",
         "2583.0",
         "2358.0",
         "120.0",
         "360.0",
         "1.0",
         "1.0",
         "0.0",
         "0.0",
         "1.0"
        ],
        [
         "4",
         "1.0",
         "0.0",
         "0.0",
         "1.0",
         "0.0",
         "6000.0",
         "0.0",
         "141.0",
         "360.0",
         "1.0",
         "1.0",
         "0.0",
         "0.0",
         "1.0"
        ],
        [
         "5",
         "1.0",
         "1.0",
         "2.0",
         "1.0",
         "1.0",
         "5417.0",
         "4196.0",
         "267.0",
         "360.0",
         "1.0",
         "1.0",
         "0.0",
         "0.0",
         "1.0"
        ],
        [
         "6",
         "1.0",
         "1.0",
         "0.0",
         "0.0",
         "0.0",
         "2333.0",
         "1516.0",
         "95.0",
         "360.0",
         "1.0",
         "1.0",
         "0.0",
         "0.0",
         "1.0"
        ],
        [
         "7",
         "1.0",
         "1.0",
         "3.0",
         "1.0",
         "0.0",
         "3036.0",
         "2504.0",
         "158.0",
         "360.0",
         "0.0",
         "0.0",
         "0.0",
         "1.0",
         "0.0"
        ],
        [
         "8",
         "1.0",
         "1.0",
         "2.0",
         "1.0",
         "0.0",
         "4006.0",
         "1526.0",
         "168.0",
         "360.0",
         "1.0",
         "1.0",
         "0.0",
         "0.0",
         "1.0"
        ],
        [
         "9",
         "1.0",
         "1.0",
         "1.0",
         "1.0",
         "0.0",
         "12841.0",
         "10968.0",
         "349.0",
         "360.0",
         "1.0",
         "0.0",
         "0.0",
         "1.0",
         "0.0"
        ],
        [
         "10",
         "1.0",
         "1.0",
         "2.0",
         "1.0",
         "0.0",
         "3200.0",
         "700.0",
         "70.0",
         "360.0",
         "1.0",
         "1.0",
         "0.0",
         "0.0",
         "1.0"
        ],
        [
         "11",
         "1.0",
         "1.0",
         "2.0",
         "1.0",
         "0.08333333333333333",
         "2500.0",
         "1840.0",
         "109.0",
         "360.0",
         "1.0",
         "1.0",
         "0.0",
         "0.0",
         "1.0"
        ],
        [
         "12",
         "1.0",
         "1.0",
         "2.0",
         "1.0",
         "0.0",
         "3073.0",
         "8106.0",
         "200.0",
         "360.0",
         "1.0",
         "1.0",
         "0.0",
         "0.0",
         "1.0"
        ],
        [
         "13",
         "1.0",
         "0.0",
         "0.0",
         "1.0",
         "0.0",
         "1853.0",
         "2840.0",
         "114.0",
         "360.0",
         "1.0",
         "0.0",
         "1.0",
         "0.0",
         "0.0"
        ],
        [
         "14",
         "1.0",
         "1.0",
         "2.0",
         "1.0",
         "0.0",
         "1299.0",
         "1086.0",
         "17.0",
         "120.0",
         "1.0",
         "1.0",
         "0.0",
         "0.0",
         "1.0"
        ],
        [
         "15",
         "1.0",
         "0.0",
         "0.0",
         "1.0",
         "0.0",
         "4950.0",
         "0.0",
         "125.0",
         "360.0",
         "1.0",
         "1.0",
         "0.0",
         "0.0",
         "1.0"
        ],
        [
         "16",
         "1.0",
         "0.0",
         "1.0",
         "0.0",
         "0.0",
         "3596.0",
         "0.0",
         "100.0",
         "240.0",
         "0.75",
         "1.0",
         "0.0",
         "0.0",
         "1.0"
        ],
        [
         "17",
         "0.0",
         "0.0",
         "0.0",
         "1.0",
         "0.0",
         "3510.0",
         "0.0",
         "76.0",
         "360.0",
         "0.0",
         "0.0",
         "0.0",
         "0.0",
         "1.0"
        ],
        [
         "18",
         "1.0",
         "1.0",
         "0.0",
         "0.0",
         "0.0",
         "4887.0",
         "0.0",
         "133.0",
         "360.0",
         "1.0",
         "0.0",
         "1.0",
         "0.0",
         "0.0"
        ],
        [
         "19",
         "1.0",
         "1.0",
         "0.0",
         "1.0",
         "0.25",
         "2600.0",
         "3500.0",
         "115.0",
         "315.0",
         "1.0",
         "1.0",
         "0.0",
         "0.0",
         "1.0"
        ],
        [
         "20",
         "1.0",
         "1.0",
         "0.0",
         "0.0",
         "0.0",
         "7660.0",
         "0.0",
         "104.0",
         "360.0",
         "0.0",
         "0.0",
         "0.0",
         "0.0",
         "1.0"
        ],
        [
         "21",
         "1.0",
         "1.0",
         "1.0",
         "1.0",
         "0.0",
         "5955.0",
         "5625.0",
         "315.0",
         "360.0",
         "1.0",
         "1.0",
         "0.0",
         "0.0",
         "1.0"
        ],
        [
         "22",
         "1.0",
         "1.0",
         "0.0",
         "0.0",
         "0.0",
         "2600.0",
         "1911.0",
         "116.0",
         "360.0",
         "0.0",
         "0.0",
         "0.0",
         "1.0",
         "0.0"
        ],
        [
         "23",
         "1.0",
         "1.0",
         "2.0",
         "0.0",
         "0.0",
         "3365.0",
         "1917.0",
         "112.0",
         "360.0",
         "0.0",
         "0.0",
         "1.0",
         "0.0",
         "0.0"
        ],
        [
         "24",
         "1.0",
         "1.0",
         "1.0",
         "1.0",
         "0.0",
         "3717.0",
         "2925.0",
         "151.0",
         "360.0",
         "0.9166666666666666",
         "0.0",
         "0.0",
         "1.0",
         "0.0"
        ],
        [
         "25",
         "1.0",
         "1.0",
         "0.0",
         "1.0",
         "1.0",
         "9560.0",
         "0.0",
         "191.0",
         "360.0",
         "1.0",
         "1.0",
         "0.0",
         "1.0",
         "0.0"
        ],
        [
         "26",
         "1.0",
         "1.0",
         "0.0",
         "1.0",
         "0.0",
         "2799.0",
         "2253.0",
         "122.0",
         "360.0",
         "1.0",
         "1.0",
         "0.0",
         "1.0",
         "0.0"
        ],
        [
         "27",
         "1.0",
         "1.0",
         "2.0",
         "0.0",
         "0.0",
         "4226.0",
         "1040.0",
         "110.0",
         "360.0",
         "1.0",
         "1.0",
         "0.0",
         "0.0",
         "1.0"
        ],
        [
         "28",
         "1.0",
         "0.0",
         "0.0",
         "0.0",
         "0.0",
         "1442.0",
         "0.0",
         "35.0",
         "360.0",
         "1.0",
         "0.0",
         "0.0",
         "0.0",
         "1.0"
        ],
        [
         "29",
         "0.0",
         "0.0",
         "2.0",
         "1.0",
         "0.08333333333333333",
         "3750.0",
         "2083.0",
         "120.0",
         "360.0",
         "1.0",
         "1.0",
         "0.0",
         "1.0",
         "0.0"
        ],
        [
         "30",
         "1.0",
         "1.0",
         "1.0",
         "1.0",
         "0.0",
         "4166.0",
         "3369.0",
         "201.0",
         "360.0",
         "0.8333333333333334",
         "0.0",
         "0.0",
         "0.0",
         "1.0"
        ],
        [
         "31",
         "1.0",
         "0.0",
         "0.0",
         "1.0",
         "0.0",
         "3167.0",
         "0.0",
         "74.0",
         "360.0",
         "1.0",
         "0.0",
         "0.0",
         "0.0",
         "1.0"
        ],
        [
         "32",
         "1.0",
         "0.0",
         "1.0",
         "1.0",
         "1.0",
         "4692.0",
         "0.0",
         "106.0",
         "360.0",
         "1.0",
         "0.0",
         "1.0",
         "0.0",
         "0.0"
        ],
        [
         "33",
         "1.0",
         "1.0",
         "0.0",
         "1.0",
         "0.0",
         "3500.0",
         "1667.0",
         "114.0",
         "360.0",
         "1.0",
         "1.0",
         "0.0",
         "1.0",
         "0.0"
        ],
        [
         "34",
         "1.0",
         "0.0",
         "3.0",
         "1.0",
         "0.0",
         "12500.0",
         "3000.0",
         "320.0",
         "360.0",
         "1.0",
         "0.0",
         "1.0",
         "0.0",
         "0.0"
        ],
        [
         "35",
         "1.0",
         "1.0",
         "0.0",
         "1.0",
         "0.0",
         "2275.0",
         "2067.0",
         "109.66666666666667",
         "360.0",
         "1.0",
         "1.0",
         "0.0",
         "0.0",
         "1.0"
        ],
        [
         "36",
         "1.0",
         "1.0",
         "0.0",
         "1.0",
         "0.0",
         "1828.0",
         "1330.0",
         "100.0",
         "350.0",
         "0.0",
         "0.0",
         "0.0",
         "0.0",
         "1.0"
        ],
        [
         "37",
         "0.0",
         "1.0",
         "0.0",
         "1.0",
         "0.0",
         "3667.0",
         "1459.0",
         "144.0",
         "360.0",
         "1.0",
         "1.0",
         "0.0",
         "1.0",
         "0.0"
        ],
        [
         "38",
         "1.0",
         "0.0",
         "0.0",
         "1.0",
         "0.0",
         "4166.0",
         "7210.0",
         "184.0",
         "360.0",
         "1.0",
         "1.0",
         "0.0",
         "0.0",
         "1.0"
        ],
        [
         "39",
         "1.0",
         "0.0",
         "0.0",
         "0.0",
         "0.0",
         "3748.0",
         "1668.0",
         "110.0",
         "360.0",
         "1.0",
         "1.0",
         "0.0",
         "1.0",
         "0.0"
        ],
        [
         "40",
         "1.0",
         "0.0",
         "0.0",
         "1.0",
         "0.0",
         "3600.0",
         "0.0",
         "80.0",
         "360.0",
         "1.0",
         "0.0",
         "0.0",
         "0.0",
         "1.0"
        ],
        [
         "41",
         "1.0",
         "0.0",
         "0.0",
         "1.0",
         "0.0",
         "1800.0",
         "1213.0",
         "47.0",
         "360.0",
         "1.0",
         "1.0",
         "0.0",
         "0.0",
         "1.0"
        ],
        [
         "42",
         "1.0",
         "1.0",
         "0.0",
         "1.0",
         "0.0",
         "2400.0",
         "0.0",
         "75.0",
         "360.0",
         "0.9166666666666666",
         "1.0",
         "0.0",
         "0.0",
         "1.0"
        ],
        [
         "43",
         "1.0",
         "1.0",
         "0.0",
         "1.0",
         "0.0",
         "3941.0",
         "2336.0",
         "134.0",
         "360.0",
         "1.0",
         "1.0",
         "0.0",
         "1.0",
         "0.0"
        ],
        [
         "44",
         "1.0",
         "1.0",
         "0.0",
         "0.0",
         "1.0",
         "4695.0",
         "0.0",
         "96.0",
         "355.0",
         "1.0",
         "1.0",
         "0.0",
         "0.0",
         "1.0"
        ],
        [
         "45",
         "0.0",
         "0.0",
         "0.0",
         "1.0",
         "0.0",
         "3410.0",
         "0.0",
         "88.0",
         "281.0",
         "1.0",
         "1.0",
         "0.0",
         "0.0",
         "1.0"
        ],
        [
         "46",
         "1.0",
         "1.0",
         "1.0",
         "1.0",
         "0.0",
         "5649.0",
         "0.0",
         "44.0",
         "360.0",
         "1.0",
         "1.0",
         "0.0",
         "0.0",
         "1.0"
        ],
        [
         "47",
         "1.0",
         "1.0",
         "0.0",
         "1.0",
         "0.0",
         "5821.0",
         "0.0",
         "144.0",
         "360.0",
         "1.0",
         "1.0",
         "0.0",
         "0.0",
         "1.0"
        ],
        [
         "48",
         "0.0",
         "1.0",
         "0.0",
         "1.0",
         "0.0",
         "2645.0",
         "3440.0",
         "120.0",
         "360.0",
         "0.0",
         "0.0",
         "0.0",
         "0.0",
         "1.0"
        ],
        [
         "49",
         "0.0",
         "0.0",
         "0.0",
         "1.0",
         "0.0",
         "4000.0",
         "2275.0",
         "144.0",
         "360.0",
         "1.0",
         "1.0",
         "0.0",
         "1.0",
         "0.0"
        ]
       ],
       "shape": {
        "columns": 14,
        "rows": 614
       }
      },
      "text/html": [
       "<div>\n",
       "<style scoped>\n",
       "    .dataframe tbody tr th:only-of-type {\n",
       "        vertical-align: middle;\n",
       "    }\n",
       "\n",
       "    .dataframe tbody tr th {\n",
       "        vertical-align: top;\n",
       "    }\n",
       "\n",
       "    .dataframe thead th {\n",
       "        text-align: right;\n",
       "    }\n",
       "</style>\n",
       "<table border=\"1\" class=\"dataframe\">\n",
       "  <thead>\n",
       "    <tr style=\"text-align: right;\">\n",
       "      <th></th>\n",
       "      <th>Gender</th>\n",
       "      <th>Married</th>\n",
       "      <th>Dependents</th>\n",
       "      <th>Education</th>\n",
       "      <th>Self_Employed</th>\n",
       "      <th>ApplicantIncome</th>\n",
       "      <th>CoapplicantIncome</th>\n",
       "      <th>LoanAmount</th>\n",
       "      <th>Loan_Amount_Term</th>\n",
       "      <th>Credit_History</th>\n",
       "      <th>Loan_Status</th>\n",
       "      <th>Property_Area_Rural</th>\n",
       "      <th>Property_Area_Semiurban</th>\n",
       "      <th>Property_Area_Urban</th>\n",
       "    </tr>\n",
       "  </thead>\n",
       "  <tbody>\n",
       "    <tr>\n",
       "      <th>0</th>\n",
       "      <td>1.0</td>\n",
       "      <td>0.0</td>\n",
       "      <td>0.0</td>\n",
       "      <td>1.0</td>\n",
       "      <td>0.0</td>\n",
       "      <td>5849.0</td>\n",
       "      <td>0.0</td>\n",
       "      <td>154.083333</td>\n",
       "      <td>360.0</td>\n",
       "      <td>1.0</td>\n",
       "      <td>1.0</td>\n",
       "      <td>0.0</td>\n",
       "      <td>0.0</td>\n",
       "      <td>1.0</td>\n",
       "    </tr>\n",
       "    <tr>\n",
       "      <th>1</th>\n",
       "      <td>1.0</td>\n",
       "      <td>1.0</td>\n",
       "      <td>1.0</td>\n",
       "      <td>1.0</td>\n",
       "      <td>0.0</td>\n",
       "      <td>4583.0</td>\n",
       "      <td>1508.0</td>\n",
       "      <td>128.000000</td>\n",
       "      <td>360.0</td>\n",
       "      <td>1.0</td>\n",
       "      <td>0.0</td>\n",
       "      <td>1.0</td>\n",
       "      <td>0.0</td>\n",
       "      <td>0.0</td>\n",
       "    </tr>\n",
       "    <tr>\n",
       "      <th>2</th>\n",
       "      <td>1.0</td>\n",
       "      <td>1.0</td>\n",
       "      <td>0.0</td>\n",
       "      <td>1.0</td>\n",
       "      <td>1.0</td>\n",
       "      <td>3000.0</td>\n",
       "      <td>0.0</td>\n",
       "      <td>66.000000</td>\n",
       "      <td>360.0</td>\n",
       "      <td>1.0</td>\n",
       "      <td>1.0</td>\n",
       "      <td>0.0</td>\n",
       "      <td>0.0</td>\n",
       "      <td>1.0</td>\n",
       "    </tr>\n",
       "    <tr>\n",
       "      <th>3</th>\n",
       "      <td>1.0</td>\n",
       "      <td>1.0</td>\n",
       "      <td>0.0</td>\n",
       "      <td>0.0</td>\n",
       "      <td>0.0</td>\n",
       "      <td>2583.0</td>\n",
       "      <td>2358.0</td>\n",
       "      <td>120.000000</td>\n",
       "      <td>360.0</td>\n",
       "      <td>1.0</td>\n",
       "      <td>1.0</td>\n",
       "      <td>0.0</td>\n",
       "      <td>0.0</td>\n",
       "      <td>1.0</td>\n",
       "    </tr>\n",
       "    <tr>\n",
       "      <th>4</th>\n",
       "      <td>1.0</td>\n",
       "      <td>0.0</td>\n",
       "      <td>0.0</td>\n",
       "      <td>1.0</td>\n",
       "      <td>0.0</td>\n",
       "      <td>6000.0</td>\n",
       "      <td>0.0</td>\n",
       "      <td>141.000000</td>\n",
       "      <td>360.0</td>\n",
       "      <td>1.0</td>\n",
       "      <td>1.0</td>\n",
       "      <td>0.0</td>\n",
       "      <td>0.0</td>\n",
       "      <td>1.0</td>\n",
       "    </tr>\n",
       "    <tr>\n",
       "      <th>...</th>\n",
       "      <td>...</td>\n",
       "      <td>...</td>\n",
       "      <td>...</td>\n",
       "      <td>...</td>\n",
       "      <td>...</td>\n",
       "      <td>...</td>\n",
       "      <td>...</td>\n",
       "      <td>...</td>\n",
       "      <td>...</td>\n",
       "      <td>...</td>\n",
       "      <td>...</td>\n",
       "      <td>...</td>\n",
       "      <td>...</td>\n",
       "      <td>...</td>\n",
       "    </tr>\n",
       "    <tr>\n",
       "      <th>609</th>\n",
       "      <td>0.0</td>\n",
       "      <td>0.0</td>\n",
       "      <td>0.0</td>\n",
       "      <td>1.0</td>\n",
       "      <td>0.0</td>\n",
       "      <td>2900.0</td>\n",
       "      <td>0.0</td>\n",
       "      <td>71.000000</td>\n",
       "      <td>360.0</td>\n",
       "      <td>1.0</td>\n",
       "      <td>1.0</td>\n",
       "      <td>1.0</td>\n",
       "      <td>0.0</td>\n",
       "      <td>0.0</td>\n",
       "    </tr>\n",
       "    <tr>\n",
       "      <th>610</th>\n",
       "      <td>1.0</td>\n",
       "      <td>1.0</td>\n",
       "      <td>3.0</td>\n",
       "      <td>1.0</td>\n",
       "      <td>0.0</td>\n",
       "      <td>4106.0</td>\n",
       "      <td>0.0</td>\n",
       "      <td>40.000000</td>\n",
       "      <td>180.0</td>\n",
       "      <td>1.0</td>\n",
       "      <td>1.0</td>\n",
       "      <td>1.0</td>\n",
       "      <td>0.0</td>\n",
       "      <td>0.0</td>\n",
       "    </tr>\n",
       "    <tr>\n",
       "      <th>611</th>\n",
       "      <td>1.0</td>\n",
       "      <td>1.0</td>\n",
       "      <td>1.0</td>\n",
       "      <td>1.0</td>\n",
       "      <td>0.0</td>\n",
       "      <td>8072.0</td>\n",
       "      <td>240.0</td>\n",
       "      <td>253.000000</td>\n",
       "      <td>360.0</td>\n",
       "      <td>1.0</td>\n",
       "      <td>1.0</td>\n",
       "      <td>0.0</td>\n",
       "      <td>0.0</td>\n",
       "      <td>1.0</td>\n",
       "    </tr>\n",
       "    <tr>\n",
       "      <th>612</th>\n",
       "      <td>1.0</td>\n",
       "      <td>1.0</td>\n",
       "      <td>2.0</td>\n",
       "      <td>1.0</td>\n",
       "      <td>0.0</td>\n",
       "      <td>7583.0</td>\n",
       "      <td>0.0</td>\n",
       "      <td>187.000000</td>\n",
       "      <td>360.0</td>\n",
       "      <td>1.0</td>\n",
       "      <td>1.0</td>\n",
       "      <td>0.0</td>\n",
       "      <td>0.0</td>\n",
       "      <td>1.0</td>\n",
       "    </tr>\n",
       "    <tr>\n",
       "      <th>613</th>\n",
       "      <td>0.0</td>\n",
       "      <td>0.0</td>\n",
       "      <td>0.0</td>\n",
       "      <td>1.0</td>\n",
       "      <td>1.0</td>\n",
       "      <td>4583.0</td>\n",
       "      <td>0.0</td>\n",
       "      <td>133.000000</td>\n",
       "      <td>360.0</td>\n",
       "      <td>0.0</td>\n",
       "      <td>0.0</td>\n",
       "      <td>0.0</td>\n",
       "      <td>1.0</td>\n",
       "      <td>0.0</td>\n",
       "    </tr>\n",
       "  </tbody>\n",
       "</table>\n",
       "<p>614 rows × 14 columns</p>\n",
       "</div>"
      ],
      "text/plain": [
       "     Gender  Married  Dependents  Education  Self_Employed  ApplicantIncome  \\\n",
       "0       1.0      0.0         0.0        1.0            0.0           5849.0   \n",
       "1       1.0      1.0         1.0        1.0            0.0           4583.0   \n",
       "2       1.0      1.0         0.0        1.0            1.0           3000.0   \n",
       "3       1.0      1.0         0.0        0.0            0.0           2583.0   \n",
       "4       1.0      0.0         0.0        1.0            0.0           6000.0   \n",
       "..      ...      ...         ...        ...            ...              ...   \n",
       "609     0.0      0.0         0.0        1.0            0.0           2900.0   \n",
       "610     1.0      1.0         3.0        1.0            0.0           4106.0   \n",
       "611     1.0      1.0         1.0        1.0            0.0           8072.0   \n",
       "612     1.0      1.0         2.0        1.0            0.0           7583.0   \n",
       "613     0.0      0.0         0.0        1.0            1.0           4583.0   \n",
       "\n",
       "     CoapplicantIncome  LoanAmount  Loan_Amount_Term  Credit_History  \\\n",
       "0                  0.0  154.083333             360.0             1.0   \n",
       "1               1508.0  128.000000             360.0             1.0   \n",
       "2                  0.0   66.000000             360.0             1.0   \n",
       "3               2358.0  120.000000             360.0             1.0   \n",
       "4                  0.0  141.000000             360.0             1.0   \n",
       "..                 ...         ...               ...             ...   \n",
       "609                0.0   71.000000             360.0             1.0   \n",
       "610                0.0   40.000000             180.0             1.0   \n",
       "611              240.0  253.000000             360.0             1.0   \n",
       "612                0.0  187.000000             360.0             1.0   \n",
       "613                0.0  133.000000             360.0             0.0   \n",
       "\n",
       "     Loan_Status  Property_Area_Rural  Property_Area_Semiurban  \\\n",
       "0            1.0                  0.0                      0.0   \n",
       "1            0.0                  1.0                      0.0   \n",
       "2            1.0                  0.0                      0.0   \n",
       "3            1.0                  0.0                      0.0   \n",
       "4            1.0                  0.0                      0.0   \n",
       "..           ...                  ...                      ...   \n",
       "609          1.0                  1.0                      0.0   \n",
       "610          1.0                  1.0                      0.0   \n",
       "611          1.0                  0.0                      0.0   \n",
       "612          1.0                  0.0                      0.0   \n",
       "613          0.0                  0.0                      1.0   \n",
       "\n",
       "     Property_Area_Urban  \n",
       "0                    1.0  \n",
       "1                    0.0  \n",
       "2                    1.0  \n",
       "3                    1.0  \n",
       "4                    1.0  \n",
       "..                   ...  \n",
       "609                  0.0  \n",
       "610                  0.0  \n",
       "611                  1.0  \n",
       "612                  1.0  \n",
       "613                  0.0  \n",
       "\n",
       "[614 rows x 14 columns]"
      ]
     },
     "execution_count": 14,
     "metadata": {},
     "output_type": "execute_result"
    }
   ],
   "source": [
    "imputer = KNNImputer(n_neighbors=12)  \n",
    "\n",
    "# اعمال Imputer روی داده‌ها\n",
    "df_imputed = imputer.fit_transform(loan_dataset)\n",
    "\n",
    "# تبدیل مجدد به DataFrame\n",
    "df_imputed = pd.DataFrame(df_imputed, columns=loan_dataset.columns)\n",
    "loan_dataset = df_imputed\n",
    "print(\"\\n دیتافریم بعد از KNN Imputation:\")\n",
    "loan_dataset"
   ]
  },
  {
   "cell_type": "markdown",
   "id": "00bb47e9",
   "metadata": {},
   "source": [
    "# 📊 Understanding **LTI** and **DTI** Ratios\n",
    "\n",
    "## 📌 1. What is LTI (Loan-to-Income Ratio)?\n",
    "The **Loan-to-Income Ratio (LTI)** is a financial metric used by banks and lenders to determine how much loan a borrower is requesting compared to their income.  \n",
    "It helps assess **the affordability of the loan** and the borrower’s repayment capacity.\n",
    "\n",
    "**Formula:**\n",
    "\\[\n",
    "LTI = \\frac{\\text{Loan Amount}}{\\text{Applicant's Income}}\n",
    "\\]\n",
    "\n",
    "**Example:**\n",
    "- Loan Amount = \\$20,000  \n",
    "- Applicant’s Annual Income = \\$50,000  \n",
    "- \\[\n",
    "LTI = \\frac{20,000}{50,000} = 0.4 \\; (40\\%)\n",
    "\\]\n",
    "\n",
    "**Interpretation:**\n",
    "- **Low LTI** → Loan is small compared to income (Safer for lenders).  \n",
    "- **High LTI** → Loan is large compared to income (Higher risk of default).\n",
    "\n",
    "---\n",
    "\n",
    "## 📌 2. What is DTI (Debt-to-Income Ratio)?\n",
    "The **Debt-to-Income Ratio (DTI)** measures the proportion of a borrower's income that goes toward **servicing debts**.  \n",
    "It’s a broader metric than LTI because it includes **all debt obligations**, not just the current loan.\n",
    "\n",
    "**Formula:**\n",
    "\\[\n",
    "DTI = \\frac{\\text{Total Monthly Debt Payments}}{\\text{Total Monthly Income}}\n",
    "\\]\n",
    "\n",
    "**Alternative formula in loan datasets:**\n",
    "\\[\n",
    "DTI = \\frac{\\text{Loan Amount}}{\\text{Applicant's Income + Co-applicant's Income}}\n",
    "\\]\n",
    "\n",
    "**Example:**\n",
    "- Loan Amount = \\$20,000  \n",
    "- Applicant's Monthly Income = \\$3,000  \n",
    "- Co-applicant's Monthly Income = \\$1,000  \n",
    "- \\[\n",
    "DTI = \\frac{20,000}{(3,000 + 1,000) \\times 12} = 0.416 \\; (41.6\\%)\n",
    "\\]\n",
    "\n",
    "**Interpretation:**\n",
    "- **Low DTI** → Borrower has manageable debt levels.  \n",
    "- **High DTI** → Borrower is over-leveraged (Risk of repayment issues).\n",
    "\n",
    "---\n",
    "\n",
    "## 🏦 Why Lenders Use LTI & DTI\n",
    "- To **assess credit risk** and repayment ability.\n",
    "- To ensure borrowers do not take on debt they cannot manage.\n",
    "- To comply with lending regulations and avoid high default rates.\n",
    "\n",
    "---\n",
    "\n",
    "## ⚠️ Key Points\n",
    "- LTI focuses only on the **current loan request**, while DTI considers **all debts**.\n",
    "- Lower values are generally **better** from the lender’s perspective.\n",
    "- Many banks have a **maximum threshold** for LTI and DTI:\n",
    "  - Example: LTI < 4, DTI < 40%.\n",
    "\n",
    "---\n",
    "\n",
    "✅ **Summary:**  \n",
    "Both LTI and DTI are powerful indicators of a borrower's financial capacity.  \n",
    "- **LTI** = Loan amount relative to borrower’s income.  \n",
    "- **DTI** = Debt payments relative to total income.  \n"
   ]
  },
  {
   "cell_type": "code",
   "execution_count": 15,
   "id": "943d2119",
   "metadata": {},
   "outputs": [
    {
     "data": {
      "application/vnd.microsoft.datawrangler.viewer.v0+json": {
       "columns": [
        {
         "name": "index",
         "rawType": "int64",
         "type": "integer"
        },
        {
         "name": "ApplicantIncome",
         "rawType": "float64",
         "type": "float"
        },
        {
         "name": "CoapplicantIncome",
         "rawType": "float64",
         "type": "float"
        },
        {
         "name": "LoanAmount",
         "rawType": "float64",
         "type": "float"
        },
        {
         "name": "Loan_Amount_Term",
         "rawType": "float64",
         "type": "float"
        },
        {
         "name": "Debt-to-Income Ratio(DTI)",
         "rawType": "float64",
         "type": "float"
        },
        {
         "name": "Loan-to-Income Ratio(LTI)",
         "rawType": "float64",
         "type": "float"
        }
       ],
       "ref": "39698b44-6e11-422b-87c6-e3a4b0b0e370",
       "rows": [
        [
         "0",
         "5849.0",
         "0.0",
         "154.08333333333334",
         "360.0",
         "0.07317648474256443",
         "2.1952945422769328"
        ],
        [
         "1",
         "4583.0",
         "1508.0",
         "128.0",
         "360.0",
         "0.05837392145059195",
         "1.7512176435177584"
        ],
        [
         "2",
         "3000.0",
         "0.0",
         "66.0",
         "360.0",
         "0.061111111111111116",
         "1.8333333333333333"
        ],
        [
         "3",
         "2583.0",
         "2358.0",
         "120.0",
         "360.0",
         "0.067462726843419",
         "2.0238818053025702"
        ],
        [
         "4",
         "6000.0",
         "0.0",
         "141.0",
         "360.0",
         "0.06527777777777778",
         "1.9583333333333333"
        ],
        [
         "5",
         "5417.0",
         "4196.0",
         "267.0",
         "360.0",
         "0.07715246714518534",
         "2.31457401435556"
        ],
        [
         "6",
         "2333.0",
         "1516.0",
         "95.0",
         "360.0",
         "0.06856037643255103",
         "2.0568112929765308"
        ],
        [
         "7",
         "3036.0",
         "2504.0",
         "158.0",
         "360.0",
         "0.07922182109907742",
         "2.3766546329723224"
        ],
        [
         "8",
         "4006.0",
         "1526.0",
         "168.0",
         "360.0",
         "0.08435767654856592",
         "2.530730296456978"
        ],
        [
         "9",
         "12841.0",
         "10968.0",
         "349.0",
         "360.0",
         "0.04071756245304063",
         "1.221526873591219"
        ],
        [
         "10",
         "3200.0",
         "700.0",
         "70.0",
         "360.0",
         "0.04985754985754986",
         "1.4957264957264957"
        ],
        [
         "11",
         "2500.0",
         "1840.0",
         "109.0",
         "360.0",
         "0.06976446492575525",
         "2.0929339477726576"
        ],
        [
         "12",
         "3073.0",
         "8106.0",
         "200.0",
         "360.0",
         "0.04969635526930455",
         "1.4908906580791366"
        ],
        [
         "13",
         "1853.0",
         "2840.0",
         "114.0",
         "360.0",
         "0.06747638326585695",
         "2.0242914979757085"
        ],
        [
         "14",
         "1299.0",
         "1086.0",
         "17.0",
         "120.0",
         "0.0593990216631726",
         "0.593990216631726"
        ],
        [
         "15",
         "4950.0",
         "0.0",
         "125.0",
         "360.0",
         "0.07014590347923681",
         "2.1043771043771042"
        ],
        [
         "16",
         "3596.0",
         "0.0",
         "100.0",
         "240.0",
         "0.11586948461253245",
         "2.3173896922506487"
        ],
        [
         "17",
         "3510.0",
         "0.0",
         "76.0",
         "360.0",
         "0.06014561570117126",
         "1.8043684710351378"
        ],
        [
         "18",
         "4887.0",
         "0.0",
         "133.0",
         "360.0",
         "0.07559738990064344",
         "2.267921697019303"
        ],
        [
         "19",
         "2600.0",
         "3500.0",
         "115.0",
         "315.0",
         "0.05984907624251886",
         "1.5710382513661203"
        ],
        [
         "20",
         "7660.0",
         "0.0",
         "104.0",
         "360.0",
         "0.037713954163040325",
         "1.1314186248912097"
        ],
        [
         "21",
         "5955.0",
         "5625.0",
         "315.0",
         "360.0",
         "0.07556131260794473",
         "2.266839378238342"
        ],
        [
         "22",
         "2600.0",
         "1911.0",
         "116.0",
         "360.0",
         "0.07143033079632503",
         "2.142909923889751"
        ],
        [
         "23",
         "3365.0",
         "1917.0",
         "112.0",
         "360.0",
         "0.058900248222474645",
         "1.7670074466742396"
        ],
        [
         "24",
         "3717.0",
         "2925.0",
         "151.0",
         "360.0",
         "0.0631503228612533",
         "1.8945096858375992"
        ],
        [
         "25",
         "9560.0",
         "0.0",
         "191.0",
         "360.0",
         "0.055497443049744306",
         "1.664923291492329"
        ],
        [
         "26",
         "2799.0",
         "2253.0",
         "122.0",
         "360.0",
         "0.06708014427729393",
         "2.0124043283188175"
        ],
        [
         "27",
         "4226.0",
         "1040.0",
         "110.0",
         "360.0",
         "0.05802422247541883",
         "1.7407266742625649"
        ],
        [
         "28",
         "1442.0",
         "0.0",
         "35.0",
         "360.0",
         "0.0674217907227616",
         "2.0226537216828477"
        ],
        [
         "29",
         "3750.0",
         "2083.0",
         "120.0",
         "360.0",
         "0.05714612263557917",
         "1.7143836790673752"
        ],
        [
         "30",
         "4166.0",
         "3369.0",
         "201.0",
         "360.0",
         "0.07409865074098651",
         "2.222959522229595"
        ],
        [
         "31",
         "3167.0",
         "0.0",
         "74.0",
         "360.0",
         "0.0649054485492755",
         "1.9471634564782654"
        ],
        [
         "32",
         "4692.0",
         "0.0",
         "106.0",
         "360.0",
         "0.0627545704272047",
         "1.882637112816141"
        ],
        [
         "33",
         "3500.0",
         "1667.0",
         "114.0",
         "360.0",
         "0.06128636862137927",
         "1.838591058641378"
        ],
        [
         "34",
         "12500.0",
         "3000.0",
         "320.0",
         "360.0",
         "0.05734767025089606",
         "1.7204301075268817"
        ],
        [
         "35",
         "2275.0",
         "2067.0",
         "109.66666666666667",
         "360.0",
         "0.07015882764385759",
         "2.1047648293157275"
        ],
        [
         "36",
         "1828.0",
         "1330.0",
         "100.0",
         "350.0",
         "0.09047317470370035",
         "2.638800928857927"
        ],
        [
         "37",
         "3667.0",
         "1459.0",
         "144.0",
         "360.0",
         "0.07803355442840422",
         "2.3410066328521264"
        ],
        [
         "38",
         "4166.0",
         "7210.0",
         "184.0",
         "360.0",
         "0.0449288951398656",
         "1.3478668541959682"
        ],
        [
         "39",
         "3748.0",
         "1668.0",
         "110.0",
         "360.0",
         "0.056417200065649105",
         "1.6925160019694732"
        ],
        [
         "40",
         "3600.0",
         "0.0",
         "80.0",
         "360.0",
         "0.0617283950617284",
         "1.8518518518518519"
        ],
        [
         "41",
         "1800.0",
         "1213.0",
         "47.0",
         "360.0",
         "0.04333075192683556",
         "1.2999225578050668"
        ],
        [
         "42",
         "2400.0",
         "0.0",
         "75.0",
         "360.0",
         "0.08680555555555557",
         "2.6041666666666665"
        ],
        [
         "43",
         "3941.0",
         "2336.0",
         "134.0",
         "360.0",
         "0.05929938222434638",
         "1.7789814667303914"
        ],
        [
         "44",
         "4695.0",
         "0.0",
         "96.0",
         "355.0",
         "0.05759798407055752",
         "1.703940362087327"
        ],
        [
         "45",
         "3410.0",
         "0.0",
         "88.0",
         "281.0",
         "0.09183790609574101",
         "2.150537634408602"
        ],
        [
         "46",
         "5649.0",
         "0.0",
         "44.0",
         "360.0",
         "0.02163608111563502",
         "0.6490824334690506"
        ],
        [
         "47",
         "5821.0",
         "0.0",
         "144.0",
         "360.0",
         "0.0687167153410067",
         "2.061501460230201"
        ],
        [
         "48",
         "2645.0",
         "3440.0",
         "120.0",
         "360.0",
         "0.05477951246233908",
         "1.6433853738701725"
        ],
        [
         "49",
         "4000.0",
         "2275.0",
         "144.0",
         "360.0",
         "0.06374501992031872",
         "1.9123505976095618"
        ]
       ],
       "shape": {
        "columns": 6,
        "rows": 614
       }
      },
      "text/html": [
       "<div>\n",
       "<style scoped>\n",
       "    .dataframe tbody tr th:only-of-type {\n",
       "        vertical-align: middle;\n",
       "    }\n",
       "\n",
       "    .dataframe tbody tr th {\n",
       "        vertical-align: top;\n",
       "    }\n",
       "\n",
       "    .dataframe thead th {\n",
       "        text-align: right;\n",
       "    }\n",
       "</style>\n",
       "<table border=\"1\" class=\"dataframe\">\n",
       "  <thead>\n",
       "    <tr style=\"text-align: right;\">\n",
       "      <th></th>\n",
       "      <th>ApplicantIncome</th>\n",
       "      <th>CoapplicantIncome</th>\n",
       "      <th>LoanAmount</th>\n",
       "      <th>Loan_Amount_Term</th>\n",
       "      <th>Debt-to-Income Ratio(DTI)</th>\n",
       "      <th>Loan-to-Income Ratio(LTI)</th>\n",
       "    </tr>\n",
       "  </thead>\n",
       "  <tbody>\n",
       "    <tr>\n",
       "      <th>0</th>\n",
       "      <td>5849.0</td>\n",
       "      <td>0.0</td>\n",
       "      <td>154.083333</td>\n",
       "      <td>360.0</td>\n",
       "      <td>0.073176</td>\n",
       "      <td>2.195295</td>\n",
       "    </tr>\n",
       "    <tr>\n",
       "      <th>1</th>\n",
       "      <td>4583.0</td>\n",
       "      <td>1508.0</td>\n",
       "      <td>128.000000</td>\n",
       "      <td>360.0</td>\n",
       "      <td>0.058374</td>\n",
       "      <td>1.751218</td>\n",
       "    </tr>\n",
       "    <tr>\n",
       "      <th>2</th>\n",
       "      <td>3000.0</td>\n",
       "      <td>0.0</td>\n",
       "      <td>66.000000</td>\n",
       "      <td>360.0</td>\n",
       "      <td>0.061111</td>\n",
       "      <td>1.833333</td>\n",
       "    </tr>\n",
       "    <tr>\n",
       "      <th>3</th>\n",
       "      <td>2583.0</td>\n",
       "      <td>2358.0</td>\n",
       "      <td>120.000000</td>\n",
       "      <td>360.0</td>\n",
       "      <td>0.067463</td>\n",
       "      <td>2.023882</td>\n",
       "    </tr>\n",
       "    <tr>\n",
       "      <th>4</th>\n",
       "      <td>6000.0</td>\n",
       "      <td>0.0</td>\n",
       "      <td>141.000000</td>\n",
       "      <td>360.0</td>\n",
       "      <td>0.065278</td>\n",
       "      <td>1.958333</td>\n",
       "    </tr>\n",
       "    <tr>\n",
       "      <th>...</th>\n",
       "      <td>...</td>\n",
       "      <td>...</td>\n",
       "      <td>...</td>\n",
       "      <td>...</td>\n",
       "      <td>...</td>\n",
       "      <td>...</td>\n",
       "    </tr>\n",
       "    <tr>\n",
       "      <th>609</th>\n",
       "      <td>2900.0</td>\n",
       "      <td>0.0</td>\n",
       "      <td>71.000000</td>\n",
       "      <td>360.0</td>\n",
       "      <td>0.068008</td>\n",
       "      <td>2.040230</td>\n",
       "    </tr>\n",
       "    <tr>\n",
       "      <th>610</th>\n",
       "      <td>4106.0</td>\n",
       "      <td>0.0</td>\n",
       "      <td>40.000000</td>\n",
       "      <td>180.0</td>\n",
       "      <td>0.054121</td>\n",
       "      <td>0.811820</td>\n",
       "    </tr>\n",
       "    <tr>\n",
       "      <th>611</th>\n",
       "      <td>8072.0</td>\n",
       "      <td>240.0</td>\n",
       "      <td>253.000000</td>\n",
       "      <td>360.0</td>\n",
       "      <td>0.084550</td>\n",
       "      <td>2.536493</td>\n",
       "    </tr>\n",
       "    <tr>\n",
       "      <th>612</th>\n",
       "      <td>7583.0</td>\n",
       "      <td>0.0</td>\n",
       "      <td>187.000000</td>\n",
       "      <td>360.0</td>\n",
       "      <td>0.068501</td>\n",
       "      <td>2.055035</td>\n",
       "    </tr>\n",
       "    <tr>\n",
       "      <th>613</th>\n",
       "      <td>4583.0</td>\n",
       "      <td>0.0</td>\n",
       "      <td>133.000000</td>\n",
       "      <td>360.0</td>\n",
       "      <td>0.080612</td>\n",
       "      <td>2.418358</td>\n",
       "    </tr>\n",
       "  </tbody>\n",
       "</table>\n",
       "<p>614 rows × 6 columns</p>\n",
       "</div>"
      ],
      "text/plain": [
       "     ApplicantIncome  CoapplicantIncome  LoanAmount  Loan_Amount_Term  \\\n",
       "0             5849.0                0.0  154.083333             360.0   \n",
       "1             4583.0             1508.0  128.000000             360.0   \n",
       "2             3000.0                0.0   66.000000             360.0   \n",
       "3             2583.0             2358.0  120.000000             360.0   \n",
       "4             6000.0                0.0  141.000000             360.0   \n",
       "..               ...                ...         ...               ...   \n",
       "609           2900.0                0.0   71.000000             360.0   \n",
       "610           4106.0                0.0   40.000000             180.0   \n",
       "611           8072.0              240.0  253.000000             360.0   \n",
       "612           7583.0                0.0  187.000000             360.0   \n",
       "613           4583.0                0.0  133.000000             360.0   \n",
       "\n",
       "     Debt-to-Income Ratio(DTI)  Loan-to-Income Ratio(LTI)  \n",
       "0                     0.073176                   2.195295  \n",
       "1                     0.058374                   1.751218  \n",
       "2                     0.061111                   1.833333  \n",
       "3                     0.067463                   2.023882  \n",
       "4                     0.065278                   1.958333  \n",
       "..                         ...                        ...  \n",
       "609                   0.068008                   2.040230  \n",
       "610                   0.054121                   0.811820  \n",
       "611                   0.084550                   2.536493  \n",
       "612                   0.068501                   2.055035  \n",
       "613                   0.080612                   2.418358  \n",
       "\n",
       "[614 rows x 6 columns]"
      ]
     },
     "execution_count": 15,
     "metadata": {},
     "output_type": "execute_result"
    }
   ],
   "source": [
    "# جایگزین کردن مقادیر خالی (برای جلوگیری از خطا)\n",
    "loan_dataset['LoanAmount'] = loan_dataset['LoanAmount'].fillna(0)\n",
    "loan_dataset['Loan_Amount_Term'] = loan_dataset['Loan_Amount_Term'].fillna(360)\n",
    "loan_dataset['ApplicantIncome'] = loan_dataset['ApplicantIncome'].fillna(0)\n",
    "loan_dataset['CoapplicantIncome'] = loan_dataset['CoapplicantIncome'].fillna(0)\n",
    "\n",
    "# محاسبه درآمد کل\n",
    "loan_dataset['TotalIncome'] = loan_dataset['ApplicantIncome'] + loan_dataset['CoapplicantIncome']\n",
    "\n",
    "# محاسبه DTI (قسط ماهانه / درآمد ماهانه)\n",
    "loan_dataset['MonthlyInstallment'] = (loan_dataset['LoanAmount'] * 1000) / loan_dataset['Loan_Amount_Term']\n",
    "loan_dataset['Debt-to-Income Ratio(DTI)'] = loan_dataset['MonthlyInstallment'] / loan_dataset['TotalIncome']\n",
    "\n",
    "# محاسبه LTI (مقدار وام / درآمد سالانه)\n",
    "loan_dataset['Loan-to-Income Ratio(LTI)'] = (loan_dataset['LoanAmount'] * 1000) / (loan_dataset['TotalIncome'] * 12)\n",
    "\n",
    "# نمایش 10 ردیف اول\n",
    "loan_dataset[['ApplicantIncome', 'CoapplicantIncome', 'LoanAmount', 'Loan_Amount_Term', 'Debt-to-Income Ratio(DTI)', 'Loan-to-Income Ratio(LTI)']]\n"
   ]
  },
  {
   "cell_type": "markdown",
   "id": "09d936f3",
   "metadata": {},
   "source": [
    "### Step 3 : EDA(Exploratory Data Analysis )"
   ]
  },
  {
   "cell_type": "markdown",
   "id": "225ea16b",
   "metadata": {},
   "source": [
    "# Analysis of the Target Variable (Loan_Status)\n",
    "\n",
    "First, let's examine the distribution of our target variable. Are the data balanced?"
   ]
  },
  {
   "cell_type": "code",
   "execution_count": 16,
   "id": "df9973a3",
   "metadata": {},
   "outputs": [
    {
     "data": {
      "application/vnd.plotly.v1+json": {
       "config": {
        "plotlyServerURL": "https://plot.ly"
       },
       "data": [
        {
         "hovertemplate": "Loan_Status=%{marker.color}<br>Count=%{y}<br>Percentage=%{text}<extra></extra>",
         "legendgroup": "",
         "marker": {
          "color": {
           "bdata": "AAAAAAAA8D8AAAAAAAAAAA==",
           "dtype": "f8"
          },
          "coloraxis": "coloraxis",
          "pattern": {
           "shape": ""
          }
         },
         "name": "",
         "orientation": "v",
         "showlegend": false,
         "text": {
          "bdata": "zczMzMwsUUDNzMzMzEw/QA==",
          "dtype": "f8"
         },
         "textposition": "outside",
         "texttemplate": "%{text}%",
         "type": "bar",
         "x": {
          "bdata": "AAAAAAAA8D8AAAAAAAAAAA==",
          "dtype": "f8"
         },
         "xaxis": "x",
         "y": {
          "bdata": "pgHAAA==",
          "dtype": "i2"
         },
         "yaxis": "y"
        }
       ],
       "layout": {
        "barmode": "relative",
        "coloraxis": {
         "colorbar": {
          "title": {
           "text": "Loan_Status"
          }
         },
         "colorscale": [
          [
           0,
           "#0d0887"
          ],
          [
           0.1111111111111111,
           "#46039f"
          ],
          [
           0.2222222222222222,
           "#7201a8"
          ],
          [
           0.3333333333333333,
           "#9c179e"
          ],
          [
           0.4444444444444444,
           "#bd3786"
          ],
          [
           0.5555555555555556,
           "#d8576b"
          ],
          [
           0.6666666666666666,
           "#ed7953"
          ],
          [
           0.7777777777777778,
           "#fb9f3a"
          ],
          [
           0.8888888888888888,
           "#fdca26"
          ],
          [
           1,
           "#f0f921"
          ]
         ]
        },
        "legend": {
         "tracegroupgap": 0
        },
        "margin": {
         "t": 60
        },
        "plot_bgcolor": "white",
        "template": {
         "data": {
          "bar": [
           {
            "error_x": {
             "color": "#2a3f5f"
            },
            "error_y": {
             "color": "#2a3f5f"
            },
            "marker": {
             "line": {
              "color": "#E5ECF6",
              "width": 0.5
             },
             "pattern": {
              "fillmode": "overlay",
              "size": 10,
              "solidity": 0.2
             }
            },
            "type": "bar"
           }
          ],
          "barpolar": [
           {
            "marker": {
             "line": {
              "color": "#E5ECF6",
              "width": 0.5
             },
             "pattern": {
              "fillmode": "overlay",
              "size": 10,
              "solidity": 0.2
             }
            },
            "type": "barpolar"
           }
          ],
          "carpet": [
           {
            "aaxis": {
             "endlinecolor": "#2a3f5f",
             "gridcolor": "white",
             "linecolor": "white",
             "minorgridcolor": "white",
             "startlinecolor": "#2a3f5f"
            },
            "baxis": {
             "endlinecolor": "#2a3f5f",
             "gridcolor": "white",
             "linecolor": "white",
             "minorgridcolor": "white",
             "startlinecolor": "#2a3f5f"
            },
            "type": "carpet"
           }
          ],
          "choropleth": [
           {
            "colorbar": {
             "outlinewidth": 0,
             "ticks": ""
            },
            "type": "choropleth"
           }
          ],
          "contour": [
           {
            "colorbar": {
             "outlinewidth": 0,
             "ticks": ""
            },
            "colorscale": [
             [
              0,
              "#0d0887"
             ],
             [
              0.1111111111111111,
              "#46039f"
             ],
             [
              0.2222222222222222,
              "#7201a8"
             ],
             [
              0.3333333333333333,
              "#9c179e"
             ],
             [
              0.4444444444444444,
              "#bd3786"
             ],
             [
              0.5555555555555556,
              "#d8576b"
             ],
             [
              0.6666666666666666,
              "#ed7953"
             ],
             [
              0.7777777777777778,
              "#fb9f3a"
             ],
             [
              0.8888888888888888,
              "#fdca26"
             ],
             [
              1,
              "#f0f921"
             ]
            ],
            "type": "contour"
           }
          ],
          "contourcarpet": [
           {
            "colorbar": {
             "outlinewidth": 0,
             "ticks": ""
            },
            "type": "contourcarpet"
           }
          ],
          "heatmap": [
           {
            "colorbar": {
             "outlinewidth": 0,
             "ticks": ""
            },
            "colorscale": [
             [
              0,
              "#0d0887"
             ],
             [
              0.1111111111111111,
              "#46039f"
             ],
             [
              0.2222222222222222,
              "#7201a8"
             ],
             [
              0.3333333333333333,
              "#9c179e"
             ],
             [
              0.4444444444444444,
              "#bd3786"
             ],
             [
              0.5555555555555556,
              "#d8576b"
             ],
             [
              0.6666666666666666,
              "#ed7953"
             ],
             [
              0.7777777777777778,
              "#fb9f3a"
             ],
             [
              0.8888888888888888,
              "#fdca26"
             ],
             [
              1,
              "#f0f921"
             ]
            ],
            "type": "heatmap"
           }
          ],
          "histogram": [
           {
            "marker": {
             "pattern": {
              "fillmode": "overlay",
              "size": 10,
              "solidity": 0.2
             }
            },
            "type": "histogram"
           }
          ],
          "histogram2d": [
           {
            "colorbar": {
             "outlinewidth": 0,
             "ticks": ""
            },
            "colorscale": [
             [
              0,
              "#0d0887"
             ],
             [
              0.1111111111111111,
              "#46039f"
             ],
             [
              0.2222222222222222,
              "#7201a8"
             ],
             [
              0.3333333333333333,
              "#9c179e"
             ],
             [
              0.4444444444444444,
              "#bd3786"
             ],
             [
              0.5555555555555556,
              "#d8576b"
             ],
             [
              0.6666666666666666,
              "#ed7953"
             ],
             [
              0.7777777777777778,
              "#fb9f3a"
             ],
             [
              0.8888888888888888,
              "#fdca26"
             ],
             [
              1,
              "#f0f921"
             ]
            ],
            "type": "histogram2d"
           }
          ],
          "histogram2dcontour": [
           {
            "colorbar": {
             "outlinewidth": 0,
             "ticks": ""
            },
            "colorscale": [
             [
              0,
              "#0d0887"
             ],
             [
              0.1111111111111111,
              "#46039f"
             ],
             [
              0.2222222222222222,
              "#7201a8"
             ],
             [
              0.3333333333333333,
              "#9c179e"
             ],
             [
              0.4444444444444444,
              "#bd3786"
             ],
             [
              0.5555555555555556,
              "#d8576b"
             ],
             [
              0.6666666666666666,
              "#ed7953"
             ],
             [
              0.7777777777777778,
              "#fb9f3a"
             ],
             [
              0.8888888888888888,
              "#fdca26"
             ],
             [
              1,
              "#f0f921"
             ]
            ],
            "type": "histogram2dcontour"
           }
          ],
          "mesh3d": [
           {
            "colorbar": {
             "outlinewidth": 0,
             "ticks": ""
            },
            "type": "mesh3d"
           }
          ],
          "parcoords": [
           {
            "line": {
             "colorbar": {
              "outlinewidth": 0,
              "ticks": ""
             }
            },
            "type": "parcoords"
           }
          ],
          "pie": [
           {
            "automargin": true,
            "type": "pie"
           }
          ],
          "scatter": [
           {
            "fillpattern": {
             "fillmode": "overlay",
             "size": 10,
             "solidity": 0.2
            },
            "type": "scatter"
           }
          ],
          "scatter3d": [
           {
            "line": {
             "colorbar": {
              "outlinewidth": 0,
              "ticks": ""
             }
            },
            "marker": {
             "colorbar": {
              "outlinewidth": 0,
              "ticks": ""
             }
            },
            "type": "scatter3d"
           }
          ],
          "scattercarpet": [
           {
            "marker": {
             "colorbar": {
              "outlinewidth": 0,
              "ticks": ""
             }
            },
            "type": "scattercarpet"
           }
          ],
          "scattergeo": [
           {
            "marker": {
             "colorbar": {
              "outlinewidth": 0,
              "ticks": ""
             }
            },
            "type": "scattergeo"
           }
          ],
          "scattergl": [
           {
            "marker": {
             "colorbar": {
              "outlinewidth": 0,
              "ticks": ""
             }
            },
            "type": "scattergl"
           }
          ],
          "scattermap": [
           {
            "marker": {
             "colorbar": {
              "outlinewidth": 0,
              "ticks": ""
             }
            },
            "type": "scattermap"
           }
          ],
          "scattermapbox": [
           {
            "marker": {
             "colorbar": {
              "outlinewidth": 0,
              "ticks": ""
             }
            },
            "type": "scattermapbox"
           }
          ],
          "scatterpolar": [
           {
            "marker": {
             "colorbar": {
              "outlinewidth": 0,
              "ticks": ""
             }
            },
            "type": "scatterpolar"
           }
          ],
          "scatterpolargl": [
           {
            "marker": {
             "colorbar": {
              "outlinewidth": 0,
              "ticks": ""
             }
            },
            "type": "scatterpolargl"
           }
          ],
          "scatterternary": [
           {
            "marker": {
             "colorbar": {
              "outlinewidth": 0,
              "ticks": ""
             }
            },
            "type": "scatterternary"
           }
          ],
          "surface": [
           {
            "colorbar": {
             "outlinewidth": 0,
             "ticks": ""
            },
            "colorscale": [
             [
              0,
              "#0d0887"
             ],
             [
              0.1111111111111111,
              "#46039f"
             ],
             [
              0.2222222222222222,
              "#7201a8"
             ],
             [
              0.3333333333333333,
              "#9c179e"
             ],
             [
              0.4444444444444444,
              "#bd3786"
             ],
             [
              0.5555555555555556,
              "#d8576b"
             ],
             [
              0.6666666666666666,
              "#ed7953"
             ],
             [
              0.7777777777777778,
              "#fb9f3a"
             ],
             [
              0.8888888888888888,
              "#fdca26"
             ],
             [
              1,
              "#f0f921"
             ]
            ],
            "type": "surface"
           }
          ],
          "table": [
           {
            "cells": {
             "fill": {
              "color": "#EBF0F8"
             },
             "line": {
              "color": "white"
             }
            },
            "header": {
             "fill": {
              "color": "#C8D4E3"
             },
             "line": {
              "color": "white"
             }
            },
            "type": "table"
           }
          ]
         },
         "layout": {
          "annotationdefaults": {
           "arrowcolor": "#2a3f5f",
           "arrowhead": 0,
           "arrowwidth": 1
          },
          "autotypenumbers": "strict",
          "coloraxis": {
           "colorbar": {
            "outlinewidth": 0,
            "ticks": ""
           }
          },
          "colorscale": {
           "diverging": [
            [
             0,
             "#8e0152"
            ],
            [
             0.1,
             "#c51b7d"
            ],
            [
             0.2,
             "#de77ae"
            ],
            [
             0.3,
             "#f1b6da"
            ],
            [
             0.4,
             "#fde0ef"
            ],
            [
             0.5,
             "#f7f7f7"
            ],
            [
             0.6,
             "#e6f5d0"
            ],
            [
             0.7,
             "#b8e186"
            ],
            [
             0.8,
             "#7fbc41"
            ],
            [
             0.9,
             "#4d9221"
            ],
            [
             1,
             "#276419"
            ]
           ],
           "sequential": [
            [
             0,
             "#0d0887"
            ],
            [
             0.1111111111111111,
             "#46039f"
            ],
            [
             0.2222222222222222,
             "#7201a8"
            ],
            [
             0.3333333333333333,
             "#9c179e"
            ],
            [
             0.4444444444444444,
             "#bd3786"
            ],
            [
             0.5555555555555556,
             "#d8576b"
            ],
            [
             0.6666666666666666,
             "#ed7953"
            ],
            [
             0.7777777777777778,
             "#fb9f3a"
            ],
            [
             0.8888888888888888,
             "#fdca26"
            ],
            [
             1,
             "#f0f921"
            ]
           ],
           "sequentialminus": [
            [
             0,
             "#0d0887"
            ],
            [
             0.1111111111111111,
             "#46039f"
            ],
            [
             0.2222222222222222,
             "#7201a8"
            ],
            [
             0.3333333333333333,
             "#9c179e"
            ],
            [
             0.4444444444444444,
             "#bd3786"
            ],
            [
             0.5555555555555556,
             "#d8576b"
            ],
            [
             0.6666666666666666,
             "#ed7953"
            ],
            [
             0.7777777777777778,
             "#fb9f3a"
            ],
            [
             0.8888888888888888,
             "#fdca26"
            ],
            [
             1,
             "#f0f921"
            ]
           ]
          },
          "colorway": [
           "#636efa",
           "#EF553B",
           "#00cc96",
           "#ab63fa",
           "#FFA15A",
           "#19d3f3",
           "#FF6692",
           "#B6E880",
           "#FF97FF",
           "#FECB52"
          ],
          "font": {
           "color": "#2a3f5f"
          },
          "geo": {
           "bgcolor": "white",
           "lakecolor": "white",
           "landcolor": "#E5ECF6",
           "showlakes": true,
           "showland": true,
           "subunitcolor": "white"
          },
          "hoverlabel": {
           "align": "left"
          },
          "hovermode": "closest",
          "mapbox": {
           "style": "light"
          },
          "paper_bgcolor": "white",
          "plot_bgcolor": "#E5ECF6",
          "polar": {
           "angularaxis": {
            "gridcolor": "white",
            "linecolor": "white",
            "ticks": ""
           },
           "bgcolor": "#E5ECF6",
           "radialaxis": {
            "gridcolor": "white",
            "linecolor": "white",
            "ticks": ""
           }
          },
          "scene": {
           "xaxis": {
            "backgroundcolor": "#E5ECF6",
            "gridcolor": "white",
            "gridwidth": 2,
            "linecolor": "white",
            "showbackground": true,
            "ticks": "",
            "zerolinecolor": "white"
           },
           "yaxis": {
            "backgroundcolor": "#E5ECF6",
            "gridcolor": "white",
            "gridwidth": 2,
            "linecolor": "white",
            "showbackground": true,
            "ticks": "",
            "zerolinecolor": "white"
           },
           "zaxis": {
            "backgroundcolor": "#E5ECF6",
            "gridcolor": "white",
            "gridwidth": 2,
            "linecolor": "white",
            "showbackground": true,
            "ticks": "",
            "zerolinecolor": "white"
           }
          },
          "shapedefaults": {
           "line": {
            "color": "#2a3f5f"
           }
          },
          "ternary": {
           "aaxis": {
            "gridcolor": "white",
            "linecolor": "white",
            "ticks": ""
           },
           "baxis": {
            "gridcolor": "white",
            "linecolor": "white",
            "ticks": ""
           },
           "bgcolor": "#E5ECF6",
           "caxis": {
            "gridcolor": "white",
            "linecolor": "white",
            "ticks": ""
           }
          },
          "title": {
           "x": 0.05
          },
          "xaxis": {
           "automargin": true,
           "gridcolor": "white",
           "linecolor": "white",
           "ticks": "",
           "title": {
            "standoff": 15
           },
           "zerolinecolor": "white",
           "zerolinewidth": 2
          },
          "yaxis": {
           "automargin": true,
           "gridcolor": "white",
           "linecolor": "white",
           "ticks": "",
           "title": {
            "standoff": 15
           },
           "zerolinecolor": "white",
           "zerolinewidth": 2
          }
         }
        },
        "title": {
         "text": "Loan Approval Status Distribution"
        },
        "xaxis": {
         "anchor": "y",
         "domain": [
          0,
          1
         ],
         "title": {
          "text": "Loan Status (1=Approved, 0=Rejected)"
         }
        },
        "yaxis": {
         "anchor": "x",
         "domain": [
          0,
          1
         ],
         "title": {
          "text": "Count"
         }
        }
       }
      }
     },
     "metadata": {},
     "output_type": "display_data"
    }
   ],
   "source": [
    "# محاسبه درصدها\n",
    "loan_status_count = loan_dataset['Loan_Status'].value_counts().reset_index()\n",
    "loan_status_count.columns = ['Loan_Status', 'Count']\n",
    "loan_status_count['Percentage'] = (loan_status_count['Count'] / loan_status_count['Count'].sum() * 100).round(1)\n",
    "\n",
    "# ترسیم با Plotly Express\n",
    "fig = px.bar(\n",
    "    loan_status_count,\n",
    "    x='Loan_Status',\n",
    "    y='Count',\n",
    "    color='Loan_Status',\n",
    "    text='Percentage',\n",
    "    color_discrete_sequence=px.colors.sequential.Viridis\n",
    ")\n",
    "\n",
    "# تغییر ظاهر\n",
    "fig.update_traces(texttemplate='%{text}%', textposition='outside')\n",
    "fig.update_layout(\n",
    "    title='Loan Approval Status Distribution',\n",
    "    xaxis_title='Loan Status (1=Approved, 0=Rejected)',\n",
    "    yaxis_title='Count',\n",
    "    plot_bgcolor='white'\n",
    ")\n",
    "\n",
    "fig.show()"
   ]
  },
  {
   "cell_type": "markdown",
   "id": "a0b457d9",
   "metadata": {},
   "source": [
    "The chart shows that approximately 68.7% of loan applications in this dataset were approved (Y), while about 31.3% were rejected (N). This indicates that our data is somewhat imbalanced. This is an important point that may impact the model evaluation stage (e.g., choosing an appropriate metric instead of Accuracy)."
   ]
  },
  {
   "cell_type": "markdown",
   "id": "59e5d174",
   "metadata": {},
   "source": [
    "# Analysis of Categorical Features\n",
    "Now, let's examine the other categorical variables such as gender, marital status, education, and more."
   ]
  },
  {
   "cell_type": "code",
   "execution_count": 17,
   "id": "ae0feaa3",
   "metadata": {},
   "outputs": [
    {
     "data": {
      "application/vnd.plotly.v1+json": {
       "config": {
        "plotlyServerURL": "https://plot.ly"
       },
       "data": [
        {
         "marker": {
          "color": "lightblue"
         },
         "name": "Gender",
         "type": "bar",
         "x": [
          "Male",
          "Female"
         ],
         "xaxis": "x",
         "y": {
          "bdata": "6QFwAA==",
          "dtype": "i2"
         },
         "yaxis": "y"
        },
        {
         "marker": {
          "color": "lightblue"
         },
         "name": "Married",
         "type": "bar",
         "x": [
          "Yes",
          "No"
         ],
         "xaxis": "x2",
         "y": {
          "bdata": "jgHVAA==",
          "dtype": "i2"
         },
         "yaxis": "y2"
        },
        {
         "marker": {
          "color": "lightblue"
         },
         "name": "Dependents",
         "type": "bar",
         "x": [
          "0",
          "1",
          "2",
          "3+"
         ],
         "xaxis": "x3",
         "y": {
          "bdata": "WQFmAGUAMwA=",
          "dtype": "i2"
         },
         "yaxis": "y3"
        },
        {
         "marker": {
          "color": "lightblue"
         },
         "name": "Education",
         "type": "bar",
         "x": [
          "Graduate",
          "Not Graduate"
         ],
         "xaxis": "x4",
         "y": {
          "bdata": "4AGGAA==",
          "dtype": "i2"
         },
         "yaxis": "y4"
        },
        {
         "marker": {
          "color": "lightblue"
         },
         "name": "Self_Employed",
         "type": "bar",
         "x": [
          "No",
          "Yes"
         ],
         "xaxis": "x5",
         "y": {
          "bdata": "9AFSAA==",
          "dtype": "i2"
         },
         "yaxis": "y5"
        },
        {
         "marker": {
          "color": "lightblue"
         },
         "name": "Property_Area",
         "type": "bar",
         "x": [
          "Semiurban",
          "Urban",
          "Rural"
         ],
         "xaxis": "x6",
         "y": {
          "bdata": "6QDKALMA",
          "dtype": "i2"
         },
         "yaxis": "y6"
        },
        {
         "marker": {
          "color": "lightblue"
         },
         "name": "Credit_History",
         "type": "bar",
         "x": {
          "bdata": "AAAAAAAA8D8AAAAAAAAAAA==",
          "dtype": "f8"
         },
         "xaxis": "x7",
         "y": {
          "bdata": "2wFZAA==",
          "dtype": "i2"
         },
         "yaxis": "y7"
        }
       ],
       "layout": {
        "annotations": [
         {
          "font": {
           "size": 16
          },
          "showarrow": false,
          "text": "Gender",
          "x": 0.14444444444444446,
          "xanchor": "center",
          "xref": "paper",
          "y": 1,
          "yanchor": "bottom",
          "yref": "paper"
         },
         {
          "font": {
           "size": 16
          },
          "showarrow": false,
          "text": "Married",
          "x": 0.5,
          "xanchor": "center",
          "xref": "paper",
          "y": 1,
          "yanchor": "bottom",
          "yref": "paper"
         },
         {
          "font": {
           "size": 16
          },
          "showarrow": false,
          "text": "Dependents",
          "x": 0.8555555555555556,
          "xanchor": "center",
          "xref": "paper",
          "y": 1,
          "yanchor": "bottom",
          "yref": "paper"
         },
         {
          "font": {
           "size": 16
          },
          "showarrow": false,
          "text": "Education",
          "x": 0.14444444444444446,
          "xanchor": "center",
          "xref": "paper",
          "y": 0.6111111111111112,
          "yanchor": "bottom",
          "yref": "paper"
         },
         {
          "font": {
           "size": 16
          },
          "showarrow": false,
          "text": "Self_Employed",
          "x": 0.5,
          "xanchor": "center",
          "xref": "paper",
          "y": 0.6111111111111112,
          "yanchor": "bottom",
          "yref": "paper"
         },
         {
          "font": {
           "size": 16
          },
          "showarrow": false,
          "text": "Property_Area",
          "x": 0.8555555555555556,
          "xanchor": "center",
          "xref": "paper",
          "y": 0.6111111111111112,
          "yanchor": "bottom",
          "yref": "paper"
         },
         {
          "font": {
           "size": 16
          },
          "showarrow": false,
          "text": "Credit_History",
          "x": 0.14444444444444446,
          "xanchor": "center",
          "xref": "paper",
          "y": 0.22222222222222224,
          "yanchor": "bottom",
          "yref": "paper"
         }
        ],
        "height": 900,
        "plot_bgcolor": "white",
        "showlegend": false,
        "template": {
         "data": {
          "bar": [
           {
            "error_x": {
             "color": "#2a3f5f"
            },
            "error_y": {
             "color": "#2a3f5f"
            },
            "marker": {
             "line": {
              "color": "#E5ECF6",
              "width": 0.5
             },
             "pattern": {
              "fillmode": "overlay",
              "size": 10,
              "solidity": 0.2
             }
            },
            "type": "bar"
           }
          ],
          "barpolar": [
           {
            "marker": {
             "line": {
              "color": "#E5ECF6",
              "width": 0.5
             },
             "pattern": {
              "fillmode": "overlay",
              "size": 10,
              "solidity": 0.2
             }
            },
            "type": "barpolar"
           }
          ],
          "carpet": [
           {
            "aaxis": {
             "endlinecolor": "#2a3f5f",
             "gridcolor": "white",
             "linecolor": "white",
             "minorgridcolor": "white",
             "startlinecolor": "#2a3f5f"
            },
            "baxis": {
             "endlinecolor": "#2a3f5f",
             "gridcolor": "white",
             "linecolor": "white",
             "minorgridcolor": "white",
             "startlinecolor": "#2a3f5f"
            },
            "type": "carpet"
           }
          ],
          "choropleth": [
           {
            "colorbar": {
             "outlinewidth": 0,
             "ticks": ""
            },
            "type": "choropleth"
           }
          ],
          "contour": [
           {
            "colorbar": {
             "outlinewidth": 0,
             "ticks": ""
            },
            "colorscale": [
             [
              0,
              "#0d0887"
             ],
             [
              0.1111111111111111,
              "#46039f"
             ],
             [
              0.2222222222222222,
              "#7201a8"
             ],
             [
              0.3333333333333333,
              "#9c179e"
             ],
             [
              0.4444444444444444,
              "#bd3786"
             ],
             [
              0.5555555555555556,
              "#d8576b"
             ],
             [
              0.6666666666666666,
              "#ed7953"
             ],
             [
              0.7777777777777778,
              "#fb9f3a"
             ],
             [
              0.8888888888888888,
              "#fdca26"
             ],
             [
              1,
              "#f0f921"
             ]
            ],
            "type": "contour"
           }
          ],
          "contourcarpet": [
           {
            "colorbar": {
             "outlinewidth": 0,
             "ticks": ""
            },
            "type": "contourcarpet"
           }
          ],
          "heatmap": [
           {
            "colorbar": {
             "outlinewidth": 0,
             "ticks": ""
            },
            "colorscale": [
             [
              0,
              "#0d0887"
             ],
             [
              0.1111111111111111,
              "#46039f"
             ],
             [
              0.2222222222222222,
              "#7201a8"
             ],
             [
              0.3333333333333333,
              "#9c179e"
             ],
             [
              0.4444444444444444,
              "#bd3786"
             ],
             [
              0.5555555555555556,
              "#d8576b"
             ],
             [
              0.6666666666666666,
              "#ed7953"
             ],
             [
              0.7777777777777778,
              "#fb9f3a"
             ],
             [
              0.8888888888888888,
              "#fdca26"
             ],
             [
              1,
              "#f0f921"
             ]
            ],
            "type": "heatmap"
           }
          ],
          "histogram": [
           {
            "marker": {
             "pattern": {
              "fillmode": "overlay",
              "size": 10,
              "solidity": 0.2
             }
            },
            "type": "histogram"
           }
          ],
          "histogram2d": [
           {
            "colorbar": {
             "outlinewidth": 0,
             "ticks": ""
            },
            "colorscale": [
             [
              0,
              "#0d0887"
             ],
             [
              0.1111111111111111,
              "#46039f"
             ],
             [
              0.2222222222222222,
              "#7201a8"
             ],
             [
              0.3333333333333333,
              "#9c179e"
             ],
             [
              0.4444444444444444,
              "#bd3786"
             ],
             [
              0.5555555555555556,
              "#d8576b"
             ],
             [
              0.6666666666666666,
              "#ed7953"
             ],
             [
              0.7777777777777778,
              "#fb9f3a"
             ],
             [
              0.8888888888888888,
              "#fdca26"
             ],
             [
              1,
              "#f0f921"
             ]
            ],
            "type": "histogram2d"
           }
          ],
          "histogram2dcontour": [
           {
            "colorbar": {
             "outlinewidth": 0,
             "ticks": ""
            },
            "colorscale": [
             [
              0,
              "#0d0887"
             ],
             [
              0.1111111111111111,
              "#46039f"
             ],
             [
              0.2222222222222222,
              "#7201a8"
             ],
             [
              0.3333333333333333,
              "#9c179e"
             ],
             [
              0.4444444444444444,
              "#bd3786"
             ],
             [
              0.5555555555555556,
              "#d8576b"
             ],
             [
              0.6666666666666666,
              "#ed7953"
             ],
             [
              0.7777777777777778,
              "#fb9f3a"
             ],
             [
              0.8888888888888888,
              "#fdca26"
             ],
             [
              1,
              "#f0f921"
             ]
            ],
            "type": "histogram2dcontour"
           }
          ],
          "mesh3d": [
           {
            "colorbar": {
             "outlinewidth": 0,
             "ticks": ""
            },
            "type": "mesh3d"
           }
          ],
          "parcoords": [
           {
            "line": {
             "colorbar": {
              "outlinewidth": 0,
              "ticks": ""
             }
            },
            "type": "parcoords"
           }
          ],
          "pie": [
           {
            "automargin": true,
            "type": "pie"
           }
          ],
          "scatter": [
           {
            "fillpattern": {
             "fillmode": "overlay",
             "size": 10,
             "solidity": 0.2
            },
            "type": "scatter"
           }
          ],
          "scatter3d": [
           {
            "line": {
             "colorbar": {
              "outlinewidth": 0,
              "ticks": ""
             }
            },
            "marker": {
             "colorbar": {
              "outlinewidth": 0,
              "ticks": ""
             }
            },
            "type": "scatter3d"
           }
          ],
          "scattercarpet": [
           {
            "marker": {
             "colorbar": {
              "outlinewidth": 0,
              "ticks": ""
             }
            },
            "type": "scattercarpet"
           }
          ],
          "scattergeo": [
           {
            "marker": {
             "colorbar": {
              "outlinewidth": 0,
              "ticks": ""
             }
            },
            "type": "scattergeo"
           }
          ],
          "scattergl": [
           {
            "marker": {
             "colorbar": {
              "outlinewidth": 0,
              "ticks": ""
             }
            },
            "type": "scattergl"
           }
          ],
          "scattermap": [
           {
            "marker": {
             "colorbar": {
              "outlinewidth": 0,
              "ticks": ""
             }
            },
            "type": "scattermap"
           }
          ],
          "scattermapbox": [
           {
            "marker": {
             "colorbar": {
              "outlinewidth": 0,
              "ticks": ""
             }
            },
            "type": "scattermapbox"
           }
          ],
          "scatterpolar": [
           {
            "marker": {
             "colorbar": {
              "outlinewidth": 0,
              "ticks": ""
             }
            },
            "type": "scatterpolar"
           }
          ],
          "scatterpolargl": [
           {
            "marker": {
             "colorbar": {
              "outlinewidth": 0,
              "ticks": ""
             }
            },
            "type": "scatterpolargl"
           }
          ],
          "scatterternary": [
           {
            "marker": {
             "colorbar": {
              "outlinewidth": 0,
              "ticks": ""
             }
            },
            "type": "scatterternary"
           }
          ],
          "surface": [
           {
            "colorbar": {
             "outlinewidth": 0,
             "ticks": ""
            },
            "colorscale": [
             [
              0,
              "#0d0887"
             ],
             [
              0.1111111111111111,
              "#46039f"
             ],
             [
              0.2222222222222222,
              "#7201a8"
             ],
             [
              0.3333333333333333,
              "#9c179e"
             ],
             [
              0.4444444444444444,
              "#bd3786"
             ],
             [
              0.5555555555555556,
              "#d8576b"
             ],
             [
              0.6666666666666666,
              "#ed7953"
             ],
             [
              0.7777777777777778,
              "#fb9f3a"
             ],
             [
              0.8888888888888888,
              "#fdca26"
             ],
             [
              1,
              "#f0f921"
             ]
            ],
            "type": "surface"
           }
          ],
          "table": [
           {
            "cells": {
             "fill": {
              "color": "#EBF0F8"
             },
             "line": {
              "color": "white"
             }
            },
            "header": {
             "fill": {
              "color": "#C8D4E3"
             },
             "line": {
              "color": "white"
             }
            },
            "type": "table"
           }
          ]
         },
         "layout": {
          "annotationdefaults": {
           "arrowcolor": "#2a3f5f",
           "arrowhead": 0,
           "arrowwidth": 1
          },
          "autotypenumbers": "strict",
          "coloraxis": {
           "colorbar": {
            "outlinewidth": 0,
            "ticks": ""
           }
          },
          "colorscale": {
           "diverging": [
            [
             0,
             "#8e0152"
            ],
            [
             0.1,
             "#c51b7d"
            ],
            [
             0.2,
             "#de77ae"
            ],
            [
             0.3,
             "#f1b6da"
            ],
            [
             0.4,
             "#fde0ef"
            ],
            [
             0.5,
             "#f7f7f7"
            ],
            [
             0.6,
             "#e6f5d0"
            ],
            [
             0.7,
             "#b8e186"
            ],
            [
             0.8,
             "#7fbc41"
            ],
            [
             0.9,
             "#4d9221"
            ],
            [
             1,
             "#276419"
            ]
           ],
           "sequential": [
            [
             0,
             "#0d0887"
            ],
            [
             0.1111111111111111,
             "#46039f"
            ],
            [
             0.2222222222222222,
             "#7201a8"
            ],
            [
             0.3333333333333333,
             "#9c179e"
            ],
            [
             0.4444444444444444,
             "#bd3786"
            ],
            [
             0.5555555555555556,
             "#d8576b"
            ],
            [
             0.6666666666666666,
             "#ed7953"
            ],
            [
             0.7777777777777778,
             "#fb9f3a"
            ],
            [
             0.8888888888888888,
             "#fdca26"
            ],
            [
             1,
             "#f0f921"
            ]
           ],
           "sequentialminus": [
            [
             0,
             "#0d0887"
            ],
            [
             0.1111111111111111,
             "#46039f"
            ],
            [
             0.2222222222222222,
             "#7201a8"
            ],
            [
             0.3333333333333333,
             "#9c179e"
            ],
            [
             0.4444444444444444,
             "#bd3786"
            ],
            [
             0.5555555555555556,
             "#d8576b"
            ],
            [
             0.6666666666666666,
             "#ed7953"
            ],
            [
             0.7777777777777778,
             "#fb9f3a"
            ],
            [
             0.8888888888888888,
             "#fdca26"
            ],
            [
             1,
             "#f0f921"
            ]
           ]
          },
          "colorway": [
           "#636efa",
           "#EF553B",
           "#00cc96",
           "#ab63fa",
           "#FFA15A",
           "#19d3f3",
           "#FF6692",
           "#B6E880",
           "#FF97FF",
           "#FECB52"
          ],
          "font": {
           "color": "#2a3f5f"
          },
          "geo": {
           "bgcolor": "white",
           "lakecolor": "white",
           "landcolor": "#E5ECF6",
           "showlakes": true,
           "showland": true,
           "subunitcolor": "white"
          },
          "hoverlabel": {
           "align": "left"
          },
          "hovermode": "closest",
          "mapbox": {
           "style": "light"
          },
          "paper_bgcolor": "white",
          "plot_bgcolor": "#E5ECF6",
          "polar": {
           "angularaxis": {
            "gridcolor": "white",
            "linecolor": "white",
            "ticks": ""
           },
           "bgcolor": "#E5ECF6",
           "radialaxis": {
            "gridcolor": "white",
            "linecolor": "white",
            "ticks": ""
           }
          },
          "scene": {
           "xaxis": {
            "backgroundcolor": "#E5ECF6",
            "gridcolor": "white",
            "gridwidth": 2,
            "linecolor": "white",
            "showbackground": true,
            "ticks": "",
            "zerolinecolor": "white"
           },
           "yaxis": {
            "backgroundcolor": "#E5ECF6",
            "gridcolor": "white",
            "gridwidth": 2,
            "linecolor": "white",
            "showbackground": true,
            "ticks": "",
            "zerolinecolor": "white"
           },
           "zaxis": {
            "backgroundcolor": "#E5ECF6",
            "gridcolor": "white",
            "gridwidth": 2,
            "linecolor": "white",
            "showbackground": true,
            "ticks": "",
            "zerolinecolor": "white"
           }
          },
          "shapedefaults": {
           "line": {
            "color": "#2a3f5f"
           }
          },
          "ternary": {
           "aaxis": {
            "gridcolor": "white",
            "linecolor": "white",
            "ticks": ""
           },
           "baxis": {
            "gridcolor": "white",
            "linecolor": "white",
            "ticks": ""
           },
           "bgcolor": "#E5ECF6",
           "caxis": {
            "gridcolor": "white",
            "linecolor": "white",
            "ticks": ""
           }
          },
          "title": {
           "x": 0.05
          },
          "xaxis": {
           "automargin": true,
           "gridcolor": "white",
           "linecolor": "white",
           "ticks": "",
           "title": {
            "standoff": 15
           },
           "zerolinecolor": "white",
           "zerolinewidth": 2
          },
          "yaxis": {
           "automargin": true,
           "gridcolor": "white",
           "linecolor": "white",
           "ticks": "",
           "title": {
            "standoff": 15
           },
           "zerolinecolor": "white",
           "zerolinewidth": 2
          }
         }
        },
        "title": {
         "text": "Univariate Analysis of Categorical Variables (Plotly)"
        },
        "width": 1200,
        "xaxis": {
         "anchor": "y",
         "domain": [
          0,
          0.2888888888888889
         ]
        },
        "xaxis2": {
         "anchor": "y2",
         "domain": [
          0.35555555555555557,
          0.6444444444444445
         ]
        },
        "xaxis3": {
         "anchor": "y3",
         "domain": [
          0.7111111111111111,
          1
         ]
        },
        "xaxis4": {
         "anchor": "y4",
         "domain": [
          0,
          0.2888888888888889
         ]
        },
        "xaxis5": {
         "anchor": "y5",
         "domain": [
          0.35555555555555557,
          0.6444444444444445
         ]
        },
        "xaxis6": {
         "anchor": "y6",
         "domain": [
          0.7111111111111111,
          1
         ]
        },
        "xaxis7": {
         "anchor": "y7",
         "domain": [
          0,
          0.2888888888888889
         ]
        },
        "xaxis8": {
         "anchor": "y8",
         "domain": [
          0.35555555555555557,
          0.6444444444444445
         ]
        },
        "xaxis9": {
         "anchor": "y9",
         "domain": [
          0.7111111111111111,
          1
         ]
        },
        "yaxis": {
         "anchor": "x",
         "domain": [
          0.7777777777777778,
          1
         ]
        },
        "yaxis2": {
         "anchor": "x2",
         "domain": [
          0.7777777777777778,
          1
         ]
        },
        "yaxis3": {
         "anchor": "x3",
         "domain": [
          0.7777777777777778,
          1
         ]
        },
        "yaxis4": {
         "anchor": "x4",
         "domain": [
          0.3888888888888889,
          0.6111111111111112
         ]
        },
        "yaxis5": {
         "anchor": "x5",
         "domain": [
          0.3888888888888889,
          0.6111111111111112
         ]
        },
        "yaxis6": {
         "anchor": "x6",
         "domain": [
          0.3888888888888889,
          0.6111111111111112
         ]
        },
        "yaxis7": {
         "anchor": "x7",
         "domain": [
          0,
          0.22222222222222224
         ]
        },
        "yaxis8": {
         "anchor": "x8",
         "domain": [
          0,
          0.22222222222222224
         ]
        },
        "yaxis9": {
         "anchor": "x9",
         "domain": [
          0,
          0.22222222222222224
         ]
        }
       }
      }
     },
     "metadata": {},
     "output_type": "display_data"
    }
   ],
   "source": [
    "import plotly.express as px\n",
    "from plotly.subplots import make_subplots\n",
    "import plotly.graph_objects as go\n",
    "\n",
    "# لیست ویژگی‌های دسته‌ای\n",
    "categorical_features = [\n",
    "    'Gender', 'Married', 'Dependents',\n",
    "    'Education', 'Self_Employed', 'Property_Area',\n",
    "    'Credit_History'\n",
    "]\n",
    "\n",
    "# ایجاد ساب‌پلات‌ها (3 سطر × 3 ستون)\n",
    "rows = 3\n",
    "cols = 3\n",
    "fig = make_subplots(\n",
    "    rows=rows, cols=cols,\n",
    "    subplot_titles=categorical_features\n",
    ")\n",
    "\n",
    "# اضافه کردن هر نمودار به ساب‌پلات‌ها\n",
    "row = 1\n",
    "col = 1\n",
    "for feature in categorical_features:\n",
    "    # شمارش مقادیر هر دسته\n",
    "    counts = loan_dataset_EDA[feature].value_counts().reset_index()\n",
    "    counts.columns = [feature, 'Count']\n",
    "\n",
    "    # ساخت Bar Chart\n",
    "    trace = go.Bar(\n",
    "        x=counts[feature],\n",
    "        y=counts['Count'],\n",
    "        marker=dict(color='lightblue'),\n",
    "        name=feature\n",
    "    )\n",
    "\n",
    "    fig.add_trace(trace, row=row, col=col)\n",
    "\n",
    "    # تغییر مختصات ساب‌پلات\n",
    "    col += 1\n",
    "    if col > cols:\n",
    "        col = 1\n",
    "        row += 1\n",
    "\n",
    "# آپدیت ظاهر نمودار\n",
    "fig.update_layout(\n",
    "    height=900,\n",
    "    width=1200,\n",
    "    title_text=\"Univariate Analysis of Categorical Variables (Plotly)\",\n",
    "    showlegend=False,\n",
    "    plot_bgcolor='white'\n",
    ")\n",
    "\n",
    "fig.show()"
   ]
  },
  {
   "cell_type": "markdown",
   "id": "a05b316b",
   "metadata": {},
   "source": [
    "- **Gender**: Approximately 80% of applicants are male.\n",
    "- **Married**: About 65% of applicants are married.\n",
    "- **Dependents**: The majority of applicants (around 57%) have no dependents.\n",
    "- **Education**: Approximately 78% of applicants are graduates.\n",
    "- **Self_Employed**: Only a small percentage (about 14%) are self-employed.\n",
    "- **Property_Area**: The highest demand comes from semi-urban areas.\n",
    "- **Credit_History**: The vast majority (around 85%) have a positive credit history (value 1.0). This feature appears to be very important."
   ]
  },
  {
   "cell_type": "markdown",
   "id": "9f52f6c3",
   "metadata": {},
   "source": [
    "# Analysis of Numerical Features\n",
    "\n",
    "For numerical features, we will examine their distribution using histograms and box plots. These charts help us identify skewness and the presence of outliers."
   ]
  },
  {
   "cell_type": "code",
   "execution_count": null,
   "id": "b804fc2b",
   "metadata": {},
   "outputs": [
    {
     "data": {
      "application/vnd.plotly.v1+json": {
       "config": {
        "plotlyServerURL": "https://plot.ly"
       },
       "data": [
        {
         "marker": {
          "color": "lightseagreen"
         },
         "name": "ApplicantIncome",
         "nbinsx": 30,
         "opacity": 0.7,
         "type": "histogram",
         "x": {
          "bdata": "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",
          "dtype": "f8"
         },
         "xaxis": "x",
         "yaxis": "y"
        },
        {
         "line": {
          "color": "orange"
         },
         "mode": "lines",
         "name": "ApplicantIncome KDE",
         "type": "scatter",
         "x": {
          "bdata": "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",
          "dtype": "f8"
         },
         "xaxis": "x",
         "y": {
          "bdata": "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",
          "dtype": "f8"
         },
         "yaxis": "y"
        },
        {
         "marker": {
          "color": "lightseagreen"
         },
         "name": "CoapplicantIncome",
         "nbinsx": 30,
         "opacity": 0.7,
         "type": "histogram",
         "x": {
          "bdata": "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",
          "dtype": "f8"
         },
         "xaxis": "x2",
         "yaxis": "y2"
        },
        {
         "line": {
          "color": "orange"
         },
         "mode": "lines",
         "name": "CoapplicantIncome KDE",
         "type": "scatter",
         "x": {
          "bdata": "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",
          "dtype": "f8"
         },
         "xaxis": "x2",
         "y": {
          "bdata": "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",
          "dtype": "f8"
         },
         "yaxis": "y2"
        },
        {
         "marker": {
          "color": "lightseagreen"
         },
         "name": "LoanAmount",
         "nbinsx": 30,
         "opacity": 0.7,
         "type": "histogram",
         "x": {
          "bdata": "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",
          "dtype": "f8"
         },
         "xaxis": "x3",
         "yaxis": "y3"
        },
        {
         "line": {
          "color": "orange"
         },
         "mode": "lines",
         "name": "LoanAmount KDE",
         "type": "scatter",
         "x": {
          "bdata": "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",
          "dtype": "f8"
         },
         "xaxis": "x3",
         "y": {
          "bdata": "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",
          "dtype": "f8"
         },
         "yaxis": "y3"
        }
       ],
       "layout": {
        "annotations": [
         {
          "font": {
           "size": 16
          },
          "showarrow": false,
          "text": "ApplicantIncome",
          "x": 0.14444444444444446,
          "xanchor": "center",
          "xref": "paper",
          "y": 1,
          "yanchor": "bottom",
          "yref": "paper"
         },
         {
          "font": {
           "size": 16
          },
          "showarrow": false,
          "text": "CoapplicantIncome",
          "x": 0.5,
          "xanchor": "center",
          "xref": "paper",
          "y": 1,
          "yanchor": "bottom",
          "yref": "paper"
         },
         {
          "font": {
           "size": 16
          },
          "showarrow": false,
          "text": "LoanAmount",
          "x": 0.8555555555555556,
          "xanchor": "center",
          "xref": "paper",
          "y": 1,
          "yanchor": "bottom",
          "yref": "paper"
         }
        ],
        "height": 400,
        "plot_bgcolor": "white",
        "showlegend": false,
        "template": {
         "data": {
          "bar": [
           {
            "error_x": {
             "color": "#2a3f5f"
            },
            "error_y": {
             "color": "#2a3f5f"
            },
            "marker": {
             "line": {
              "color": "#E5ECF6",
              "width": 0.5
             },
             "pattern": {
              "fillmode": "overlay",
              "size": 10,
              "solidity": 0.2
             }
            },
            "type": "bar"
           }
          ],
          "barpolar": [
           {
            "marker": {
             "line": {
              "color": "#E5ECF6",
              "width": 0.5
             },
             "pattern": {
              "fillmode": "overlay",
              "size": 10,
              "solidity": 0.2
             }
            },
            "type": "barpolar"
           }
          ],
          "carpet": [
           {
            "aaxis": {
             "endlinecolor": "#2a3f5f",
             "gridcolor": "white",
             "linecolor": "white",
             "minorgridcolor": "white",
             "startlinecolor": "#2a3f5f"
            },
            "baxis": {
             "endlinecolor": "#2a3f5f",
             "gridcolor": "white",
             "linecolor": "white",
             "minorgridcolor": "white",
             "startlinecolor": "#2a3f5f"
            },
            "type": "carpet"
           }
          ],
          "choropleth": [
           {
            "colorbar": {
             "outlinewidth": 0,
             "ticks": ""
            },
            "type": "choropleth"
           }
          ],
          "contour": [
           {
            "colorbar": {
             "outlinewidth": 0,
             "ticks": ""
            },
            "colorscale": [
             [
              0,
              "#0d0887"
             ],
             [
              0.1111111111111111,
              "#46039f"
             ],
             [
              0.2222222222222222,
              "#7201a8"
             ],
             [
              0.3333333333333333,
              "#9c179e"
             ],
             [
              0.4444444444444444,
              "#bd3786"
             ],
             [
              0.5555555555555556,
              "#d8576b"
             ],
             [
              0.6666666666666666,
              "#ed7953"
             ],
             [
              0.7777777777777778,
              "#fb9f3a"
             ],
             [
              0.8888888888888888,
              "#fdca26"
             ],
             [
              1,
              "#f0f921"
             ]
            ],
            "type": "contour"
           }
          ],
          "contourcarpet": [
           {
            "colorbar": {
             "outlinewidth": 0,
             "ticks": ""
            },
            "type": "contourcarpet"
           }
          ],
          "heatmap": [
           {
            "colorbar": {
             "outlinewidth": 0,
             "ticks": ""
            },
            "colorscale": [
             [
              0,
              "#0d0887"
             ],
             [
              0.1111111111111111,
              "#46039f"
             ],
             [
              0.2222222222222222,
              "#7201a8"
             ],
             [
              0.3333333333333333,
              "#9c179e"
             ],
             [
              0.4444444444444444,
              "#bd3786"
             ],
             [
              0.5555555555555556,
              "#d8576b"
             ],
             [
              0.6666666666666666,
              "#ed7953"
             ],
             [
              0.7777777777777778,
              "#fb9f3a"
             ],
             [
              0.8888888888888888,
              "#fdca26"
             ],
             [
              1,
              "#f0f921"
             ]
            ],
            "type": "heatmap"
           }
          ],
          "histogram": [
           {
            "marker": {
             "pattern": {
              "fillmode": "overlay",
              "size": 10,
              "solidity": 0.2
             }
            },
            "type": "histogram"
           }
          ],
          "histogram2d": [
           {
            "colorbar": {
             "outlinewidth": 0,
             "ticks": ""
            },
            "colorscale": [
             [
              0,
              "#0d0887"
             ],
             [
              0.1111111111111111,
              "#46039f"
             ],
             [
              0.2222222222222222,
              "#7201a8"
             ],
             [
              0.3333333333333333,
              "#9c179e"
             ],
             [
              0.4444444444444444,
              "#bd3786"
             ],
             [
              0.5555555555555556,
              "#d8576b"
             ],
             [
              0.6666666666666666,
              "#ed7953"
             ],
             [
              0.7777777777777778,
              "#fb9f3a"
             ],
             [
              0.8888888888888888,
              "#fdca26"
             ],
             [
              1,
              "#f0f921"
             ]
            ],
            "type": "histogram2d"
           }
          ],
          "histogram2dcontour": [
           {
            "colorbar": {
             "outlinewidth": 0,
             "ticks": ""
            },
            "colorscale": [
             [
              0,
              "#0d0887"
             ],
             [
              0.1111111111111111,
              "#46039f"
             ],
             [
              0.2222222222222222,
              "#7201a8"
             ],
             [
              0.3333333333333333,
              "#9c179e"
             ],
             [
              0.4444444444444444,
              "#bd3786"
             ],
             [
              0.5555555555555556,
              "#d8576b"
             ],
             [
              0.6666666666666666,
              "#ed7953"
             ],
             [
              0.7777777777777778,
              "#fb9f3a"
             ],
             [
              0.8888888888888888,
              "#fdca26"
             ],
             [
              1,
              "#f0f921"
             ]
            ],
            "type": "histogram2dcontour"
           }
          ],
          "mesh3d": [
           {
            "colorbar": {
             "outlinewidth": 0,
             "ticks": ""
            },
            "type": "mesh3d"
           }
          ],
          "parcoords": [
           {
            "line": {
             "colorbar": {
              "outlinewidth": 0,
              "ticks": ""
             }
            },
            "type": "parcoords"
           }
          ],
          "pie": [
           {
            "automargin": true,
            "type": "pie"
           }
          ],
          "scatter": [
           {
            "fillpattern": {
             "fillmode": "overlay",
             "size": 10,
             "solidity": 0.2
            },
            "type": "scatter"
           }
          ],
          "scatter3d": [
           {
            "line": {
             "colorbar": {
              "outlinewidth": 0,
              "ticks": ""
             }
            },
            "marker": {
             "colorbar": {
              "outlinewidth": 0,
              "ticks": ""
             }
            },
            "type": "scatter3d"
           }
          ],
          "scattercarpet": [
           {
            "marker": {
             "colorbar": {
              "outlinewidth": 0,
              "ticks": ""
             }
            },
            "type": "scattercarpet"
           }
          ],
          "scattergeo": [
           {
            "marker": {
             "colorbar": {
              "outlinewidth": 0,
              "ticks": ""
             }
            },
            "type": "scattergeo"
           }
          ],
          "scattergl": [
           {
            "marker": {
             "colorbar": {
              "outlinewidth": 0,
              "ticks": ""
             }
            },
            "type": "scattergl"
           }
          ],
          "scattermap": [
           {
            "marker": {
             "colorbar": {
              "outlinewidth": 0,
              "ticks": ""
             }
            },
            "type": "scattermap"
           }
          ],
          "scattermapbox": [
           {
            "marker": {
             "colorbar": {
              "outlinewidth": 0,
              "ticks": ""
             }
            },
            "type": "scattermapbox"
           }
          ],
          "scatterpolar": [
           {
            "marker": {
             "colorbar": {
              "outlinewidth": 0,
              "ticks": ""
             }
            },
            "type": "scatterpolar"
           }
          ],
          "scatterpolargl": [
           {
            "marker": {
             "colorbar": {
              "outlinewidth": 0,
              "ticks": ""
             }
            },
            "type": "scatterpolargl"
           }
          ],
          "scatterternary": [
           {
            "marker": {
             "colorbar": {
              "outlinewidth": 0,
              "ticks": ""
             }
            },
            "type": "scatterternary"
           }
          ],
          "surface": [
           {
            "colorbar": {
             "outlinewidth": 0,
             "ticks": ""
            },
            "colorscale": [
             [
              0,
              "#0d0887"
             ],
             [
              0.1111111111111111,
              "#46039f"
             ],
             [
              0.2222222222222222,
              "#7201a8"
             ],
             [
              0.3333333333333333,
              "#9c179e"
             ],
             [
              0.4444444444444444,
              "#bd3786"
             ],
             [
              0.5555555555555556,
              "#d8576b"
             ],
             [
              0.6666666666666666,
              "#ed7953"
             ],
             [
              0.7777777777777778,
              "#fb9f3a"
             ],
             [
              0.8888888888888888,
              "#fdca26"
             ],
             [
              1,
              "#f0f921"
             ]
            ],
            "type": "surface"
           }
          ],
          "table": [
           {
            "cells": {
             "fill": {
              "color": "#EBF0F8"
             },
             "line": {
              "color": "white"
             }
            },
            "header": {
             "fill": {
              "color": "#C8D4E3"
             },
             "line": {
              "color": "white"
             }
            },
            "type": "table"
           }
          ]
         },
         "layout": {
          "annotationdefaults": {
           "arrowcolor": "#2a3f5f",
           "arrowhead": 0,
           "arrowwidth": 1
          },
          "autotypenumbers": "strict",
          "coloraxis": {
           "colorbar": {
            "outlinewidth": 0,
            "ticks": ""
           }
          },
          "colorscale": {
           "diverging": [
            [
             0,
             "#8e0152"
            ],
            [
             0.1,
             "#c51b7d"
            ],
            [
             0.2,
             "#de77ae"
            ],
            [
             0.3,
             "#f1b6da"
            ],
            [
             0.4,
             "#fde0ef"
            ],
            [
             0.5,
             "#f7f7f7"
            ],
            [
             0.6,
             "#e6f5d0"
            ],
            [
             0.7,
             "#b8e186"
            ],
            [
             0.8,
             "#7fbc41"
            ],
            [
             0.9,
             "#4d9221"
            ],
            [
             1,
             "#276419"
            ]
           ],
           "sequential": [
            [
             0,
             "#0d0887"
            ],
            [
             0.1111111111111111,
             "#46039f"
            ],
            [
             0.2222222222222222,
             "#7201a8"
            ],
            [
             0.3333333333333333,
             "#9c179e"
            ],
            [
             0.4444444444444444,
             "#bd3786"
            ],
            [
             0.5555555555555556,
             "#d8576b"
            ],
            [
             0.6666666666666666,
             "#ed7953"
            ],
            [
             0.7777777777777778,
             "#fb9f3a"
            ],
            [
             0.8888888888888888,
             "#fdca26"
            ],
            [
             1,
             "#f0f921"
            ]
           ],
           "sequentialminus": [
            [
             0,
             "#0d0887"
            ],
            [
             0.1111111111111111,
             "#46039f"
            ],
            [
             0.2222222222222222,
             "#7201a8"
            ],
            [
             0.3333333333333333,
             "#9c179e"
            ],
            [
             0.4444444444444444,
             "#bd3786"
            ],
            [
             0.5555555555555556,
             "#d8576b"
            ],
            [
             0.6666666666666666,
             "#ed7953"
            ],
            [
             0.7777777777777778,
             "#fb9f3a"
            ],
            [
             0.8888888888888888,
             "#fdca26"
            ],
            [
             1,
             "#f0f921"
            ]
           ]
          },
          "colorway": [
           "#636efa",
           "#EF553B",
           "#00cc96",
           "#ab63fa",
           "#FFA15A",
           "#19d3f3",
           "#FF6692",
           "#B6E880",
           "#FF97FF",
           "#FECB52"
          ],
          "font": {
           "color": "#2a3f5f"
          },
          "geo": {
           "bgcolor": "white",
           "lakecolor": "white",
           "landcolor": "#E5ECF6",
           "showlakes": true,
           "showland": true,
           "subunitcolor": "white"
          },
          "hoverlabel": {
           "align": "left"
          },
          "hovermode": "closest",
          "mapbox": {
           "style": "light"
          },
          "paper_bgcolor": "white",
          "plot_bgcolor": "#E5ECF6",
          "polar": {
           "angularaxis": {
            "gridcolor": "white",
            "linecolor": "white",
            "ticks": ""
           },
           "bgcolor": "#E5ECF6",
           "radialaxis": {
            "gridcolor": "white",
            "linecolor": "white",
            "ticks": ""
           }
          },
          "scene": {
           "xaxis": {
            "backgroundcolor": "#E5ECF6",
            "gridcolor": "white",
            "gridwidth": 2,
            "linecolor": "white",
            "showbackground": true,
            "ticks": "",
            "zerolinecolor": "white"
           },
           "yaxis": {
            "backgroundcolor": "#E5ECF6",
            "gridcolor": "white",
            "gridwidth": 2,
            "linecolor": "white",
            "showbackground": true,
            "ticks": "",
            "zerolinecolor": "white"
           },
           "zaxis": {
            "backgroundcolor": "#E5ECF6",
            "gridcolor": "white",
            "gridwidth": 2,
            "linecolor": "white",
            "showbackground": true,
            "ticks": "",
            "zerolinecolor": "white"
           }
          },
          "shapedefaults": {
           "line": {
            "color": "#2a3f5f"
           }
          },
          "ternary": {
           "aaxis": {
            "gridcolor": "white",
            "linecolor": "white",
            "ticks": ""
           },
           "baxis": {
            "gridcolor": "white",
            "linecolor": "white",
            "ticks": ""
           },
           "bgcolor": "#E5ECF6",
           "caxis": {
            "gridcolor": "white",
            "linecolor": "white",
            "ticks": ""
           }
          },
          "title": {
           "x": 0.05
          },
          "xaxis": {
           "automargin": true,
           "gridcolor": "white",
           "linecolor": "white",
           "ticks": "",
           "title": {
            "standoff": 15
           },
           "zerolinecolor": "white",
           "zerolinewidth": 2
          },
          "yaxis": {
           "automargin": true,
           "gridcolor": "white",
           "linecolor": "white",
           "ticks": "",
           "title": {
            "standoff": 15
           },
           "zerolinecolor": "white",
           "zerolinewidth": 2
          }
         }
        },
        "title": {
         "text": "Distribution Analysis of Numerical Variables "
        },
        "width": 1200,
        "xaxis": {
         "anchor": "y",
         "domain": [
          0,
          0.2888888888888889
         ]
        },
        "xaxis2": {
         "anchor": "y2",
         "domain": [
          0.35555555555555557,
          0.6444444444444445
         ]
        },
        "xaxis3": {
         "anchor": "y3",
         "domain": [
          0.7111111111111111,
          1
         ]
        },
        "yaxis": {
         "anchor": "x",
         "domain": [
          0,
          1
         ]
        },
        "yaxis2": {
         "anchor": "x2",
         "domain": [
          0,
          1
         ]
        },
        "yaxis3": {
         "anchor": "x3",
         "domain": [
          0,
          1
         ]
        }
       }
      }
     },
     "metadata": {},
     "output_type": "display_data"
    }
   ],
   "source": [
    "\n",
    "\n",
    "# لیست ویژگی‌های عددی\n",
    "numerical_features = ['ApplicantIncome', 'CoapplicantIncome', 'LoanAmount']\n",
    "\n",
    "# ایجاد ساب‌پلات‌ها (3 ستون، 1 سطر)\n",
    "fig = make_subplots(\n",
    "    rows=1, cols=3,\n",
    "    subplot_titles=numerical_features\n",
    ")\n",
    "\n",
    "# اضافه کردن هر هیستوگرام به ساب‌پلات‌ها\n",
    "for i, col in enumerate(numerical_features):\n",
    "    hist = go.Histogram(\n",
    "        x=loan_dataset[col],\n",
    "        nbinsx=30,\n",
    "        marker=dict(color='lightseagreen'),\n",
    "        opacity=0.75,\n",
    "        name=col,\n",
    "        histnorm=None\n",
    "    )\n",
    "    \n",
    "    # افزودن منحنی KDE (چگالی)\n",
    "    kde = go.Histogram(\n",
    "        x=loan_dataset[col],\n",
    "        nbinsx=30,\n",
    "        histnorm='probability density',\n",
    "        marker=dict(color='orange'),\n",
    "        opacity=0.3,\n",
    "        showlegend=False\n",
    "    )\n",
    "\n",
    "    fig.add_trace(hist, row=1, col=i+1)\n",
    "    # در Plotly، نمودار چگالی واقعی بهتر با go.Scatter ساخته می‌شود:\n",
    "\n",
    "# نسخه بهتر با چگالی واقعی (روش جایگزین)\n",
    "import numpy as np\n",
    "\n",
    "\n",
    "fig = make_subplots(rows=1, cols=3, subplot_titles=numerical_features)\n",
    "\n",
    "for i, col in enumerate(numerical_features):\n",
    "    # هیستوگرام\n",
    "    fig.add_trace(\n",
    "        go.Histogram(\n",
    "            x=loan_dataset[col],\n",
    "            nbinsx=30,\n",
    "            name=col,\n",
    "            marker_color='lightseagreen',\n",
    "            opacity=0.7\n",
    "        ),\n",
    "        row=1, col=i+1\n",
    "    )\n",
    "    \n",
    "    # منحنی KDE\n",
    "    kde = gaussian_kde(loan_dataset[col].dropna())\n",
    "    x_range = np.linspace(loan_dataset[col].min(), loan_dataset[col].max(), 200)\n",
    "    fig.add_trace(\n",
    "        go.Scatter(\n",
    "            x=x_range,\n",
    "            y=kde(x_range) * len(loan_dataset[col]) * (loan_dataset[col].max() - loan_dataset[col].min()) / 30,\n",
    "            mode='lines',\n",
    "            name=f\"{col} KDE\",\n",
    "            line=dict(color='orange')\n",
    "        ),\n",
    "        row=1, col=i+1\n",
    "    )\n",
    "\n",
    "fig.update_layout(\n",
    "    title=\"Distribution Analysis of Numerical Variables \",\n",
    "    height=400,\n",
    "    width=1200,\n",
    "    showlegend=False,\n",
    "    plot_bgcolor='white'\n",
    ")\n",
    "\n",
    "fig.show()"
   ]
  },
  {
   "cell_type": "markdown",
   "id": "5d24b22d",
   "metadata": {},
   "source": [
    "- **ApplicantIncome and CoapplicantIncome**: Both variables exhibit right-skewed distributions. This means most applicants have relatively low incomes, with a few having significantly higher incomes (considered outliers).\n"
   ]
  },
  {
   "cell_type": "markdown",
   "id": "35736d5a",
   "metadata": {},
   "source": [
    "# Bivariate Analysis\n",
    "\n",
    "In this section, we will examine the relationship between each feature (both numerical and categorical) and the target variable (Loan_Status)."
   ]
  },
  {
   "cell_type": "code",
   "execution_count": 21,
   "id": "7e248d10",
   "metadata": {},
   "outputs": [
    {
     "data": {
      "application/vnd.plotly.v1+json": {
       "config": {
        "plotlyServerURL": "https://plot.ly"
       },
       "data": [
        {
         "marker": {
          "colorscale": [
           [
            0,
            "rgb(12,51,131)"
           ],
           [
            0.25,
            "rgb(10,136,186)"
           ],
           [
            0.5,
            "rgb(242,211,56)"
           ],
           [
            0.75,
            "rgb(242,143,56)"
           ],
           [
            1,
            "rgb(217,30,30)"
           ]
          ]
         },
         "name": "N",
         "type": "bar",
         "x": [
          "Female",
          "Male"
         ],
         "xaxis": "x",
         "y": {
          "bdata": "JQCWAA==",
          "dtype": "i2"
         },
         "yaxis": "y"
        },
        {
         "marker": {
          "colorscale": [
           [
            0,
            "rgb(12,51,131)"
           ],
           [
            0.25,
            "rgb(10,136,186)"
           ],
           [
            0.5,
            "rgb(242,211,56)"
           ],
           [
            0.75,
            "rgb(242,143,56)"
           ],
           [
            1,
            "rgb(217,30,30)"
           ]
          ]
         },
         "name": "Y",
         "type": "bar",
         "x": [
          "Female",
          "Male"
         ],
         "xaxis": "x",
         "y": {
          "bdata": "SwBTAQ==",
          "dtype": "i2"
         },
         "yaxis": "y"
        },
        {
         "marker": {
          "colorscale": [
           [
            0,
            "rgb(12,51,131)"
           ],
           [
            0.25,
            "rgb(10,136,186)"
           ],
           [
            0.5,
            "rgb(242,211,56)"
           ],
           [
            0.75,
            "rgb(242,143,56)"
           ],
           [
            1,
            "rgb(217,30,30)"
           ]
          ]
         },
         "name": "N",
         "type": "bar",
         "x": [
          "No",
          "Yes"
         ],
         "xaxis": "x2",
         "y": {
          "bdata": "T3E=",
          "dtype": "i1"
         },
         "yaxis": "y2"
        },
        {
         "marker": {
          "colorscale": [
           [
            0,
            "rgb(12,51,131)"
           ],
           [
            0.25,
            "rgb(10,136,186)"
           ],
           [
            0.5,
            "rgb(242,211,56)"
           ],
           [
            0.75,
            "rgb(242,143,56)"
           ],
           [
            1,
            "rgb(217,30,30)"
           ]
          ]
         },
         "name": "Y",
         "type": "bar",
         "x": [
          "No",
          "Yes"
         ],
         "xaxis": "x2",
         "y": {
          "bdata": "hgAdAQ==",
          "dtype": "i2"
         },
         "yaxis": "y2"
        },
        {
         "marker": {
          "colorscale": [
           [
            0,
            "rgb(12,51,131)"
           ],
           [
            0.25,
            "rgb(10,136,186)"
           ],
           [
            0.5,
            "rgb(242,211,56)"
           ],
           [
            0.75,
            "rgb(242,143,56)"
           ],
           [
            1,
            "rgb(217,30,30)"
           ]
          ]
         },
         "name": "N",
         "type": "bar",
         "x": [
          "0",
          "1",
          "2",
          "3+"
         ],
         "xaxis": "x3",
         "y": {
          "bdata": "ayQZEg==",
          "dtype": "i1"
         },
         "yaxis": "y3"
        },
        {
         "marker": {
          "colorscale": [
           [
            0,
            "rgb(12,51,131)"
           ],
           [
            0.25,
            "rgb(10,136,186)"
           ],
           [
            0.5,
            "rgb(242,211,56)"
           ],
           [
            0.75,
            "rgb(242,143,56)"
           ],
           [
            1,
            "rgb(217,30,30)"
           ]
          ]
         },
         "name": "Y",
         "type": "bar",
         "x": [
          "0",
          "1",
          "2",
          "3+"
         ],
         "xaxis": "x3",
         "y": {
          "bdata": "7gBCAEwAIQA=",
          "dtype": "i2"
         },
         "yaxis": "y3"
        },
        {
         "marker": {
          "colorscale": [
           [
            0,
            "rgb(12,51,131)"
           ],
           [
            0.25,
            "rgb(10,136,186)"
           ],
           [
            0.5,
            "rgb(242,211,56)"
           ],
           [
            0.75,
            "rgb(242,143,56)"
           ],
           [
            1,
            "rgb(217,30,30)"
           ]
          ]
         },
         "name": "N",
         "type": "bar",
         "x": [
          "Graduate",
          "Not Graduate"
         ],
         "xaxis": "x4",
         "y": {
          "bdata": "jAA0AA==",
          "dtype": "i2"
         },
         "yaxis": "y4"
        },
        {
         "marker": {
          "colorscale": [
           [
            0,
            "rgb(12,51,131)"
           ],
           [
            0.25,
            "rgb(10,136,186)"
           ],
           [
            0.5,
            "rgb(242,211,56)"
           ],
           [
            0.75,
            "rgb(242,143,56)"
           ],
           [
            1,
            "rgb(217,30,30)"
           ]
          ]
         },
         "name": "Y",
         "type": "bar",
         "x": [
          "Graduate",
          "Not Graduate"
         ],
         "xaxis": "x4",
         "y": {
          "bdata": "VAFSAA==",
          "dtype": "i2"
         },
         "yaxis": "y4"
        },
        {
         "marker": {
          "colorscale": [
           [
            0,
            "rgb(12,51,131)"
           ],
           [
            0.25,
            "rgb(10,136,186)"
           ],
           [
            0.5,
            "rgb(242,211,56)"
           ],
           [
            0.75,
            "rgb(242,143,56)"
           ],
           [
            1,
            "rgb(217,30,30)"
           ]
          ]
         },
         "name": "N",
         "type": "bar",
         "x": [
          "No",
          "Yes"
         ],
         "xaxis": "x5",
         "y": {
          "bdata": "nQAaAA==",
          "dtype": "i2"
         },
         "yaxis": "y5"
        },
        {
         "marker": {
          "colorscale": [
           [
            0,
            "rgb(12,51,131)"
           ],
           [
            0.25,
            "rgb(10,136,186)"
           ],
           [
            0.5,
            "rgb(242,211,56)"
           ],
           [
            0.75,
            "rgb(242,143,56)"
           ],
           [
            1,
            "rgb(217,30,30)"
           ]
          ]
         },
         "name": "Y",
         "type": "bar",
         "x": [
          "No",
          "Yes"
         ],
         "xaxis": "x5",
         "y": {
          "bdata": "VwE4AA==",
          "dtype": "i2"
         },
         "yaxis": "y5"
        },
        {
         "marker": {
          "colorscale": [
           [
            0,
            "rgb(12,51,131)"
           ],
           [
            0.25,
            "rgb(10,136,186)"
           ],
           [
            0.5,
            "rgb(242,211,56)"
           ],
           [
            0.75,
            "rgb(242,143,56)"
           ],
           [
            1,
            "rgb(217,30,30)"
           ]
          ]
         },
         "name": "N",
         "type": "bar",
         "x": [
          "Rural",
          "Semiurban",
          "Urban"
         ],
         "xaxis": "x6",
         "y": {
          "bdata": "RTZF",
          "dtype": "i1"
         },
         "yaxis": "y6"
        },
        {
         "marker": {
          "colorscale": [
           [
            0,
            "rgb(12,51,131)"
           ],
           [
            0.25,
            "rgb(10,136,186)"
           ],
           [
            0.5,
            "rgb(242,211,56)"
           ],
           [
            0.75,
            "rgb(242,143,56)"
           ],
           [
            1,
            "rgb(217,30,30)"
           ]
          ]
         },
         "name": "Y",
         "type": "bar",
         "x": [
          "Rural",
          "Semiurban",
          "Urban"
         ],
         "xaxis": "x6",
         "y": {
          "bdata": "bgCzAIUA",
          "dtype": "i2"
         },
         "yaxis": "y6"
        },
        {
         "marker": {
          "colorscale": [
           [
            0,
            "rgb(12,51,131)"
           ],
           [
            0.25,
            "rgb(10,136,186)"
           ],
           [
            0.5,
            "rgb(242,211,56)"
           ],
           [
            0.75,
            "rgb(242,143,56)"
           ],
           [
            1,
            "rgb(217,30,30)"
           ]
          ]
         },
         "name": "N",
         "type": "bar",
         "x": {
          "bdata": "AAAAAAAAAAAAAAAAAADwPw==",
          "dtype": "f8"
         },
         "xaxis": "x7",
         "y": {
          "bdata": "UmE=",
          "dtype": "i1"
         },
         "yaxis": "y7"
        },
        {
         "marker": {
          "colorscale": [
           [
            0,
            "rgb(12,51,131)"
           ],
           [
            0.25,
            "rgb(10,136,186)"
           ],
           [
            0.5,
            "rgb(242,211,56)"
           ],
           [
            0.75,
            "rgb(242,143,56)"
           ],
           [
            1,
            "rgb(217,30,30)"
           ]
          ]
         },
         "name": "Y",
         "type": "bar",
         "x": {
          "bdata": "AAAAAAAAAAAAAAAAAADwPw==",
          "dtype": "f8"
         },
         "xaxis": "x7",
         "y": {
          "bdata": "BwB6AQ==",
          "dtype": "i2"
         },
         "yaxis": "y7"
        }
       ],
       "layout": {
        "annotations": [
         {
          "font": {
           "size": 16
          },
          "showarrow": false,
          "text": "Gender",
          "x": 0.14444444444444446,
          "xanchor": "center",
          "xref": "paper",
          "y": 1,
          "yanchor": "bottom",
          "yref": "paper"
         },
         {
          "font": {
           "size": 16
          },
          "showarrow": false,
          "text": "Married",
          "x": 0.5,
          "xanchor": "center",
          "xref": "paper",
          "y": 1,
          "yanchor": "bottom",
          "yref": "paper"
         },
         {
          "font": {
           "size": 16
          },
          "showarrow": false,
          "text": "Dependents",
          "x": 0.8555555555555556,
          "xanchor": "center",
          "xref": "paper",
          "y": 1,
          "yanchor": "bottom",
          "yref": "paper"
         },
         {
          "font": {
           "size": 16
          },
          "showarrow": false,
          "text": "Education",
          "x": 0.14444444444444446,
          "xanchor": "center",
          "xref": "paper",
          "y": 0.6111111111111112,
          "yanchor": "bottom",
          "yref": "paper"
         },
         {
          "font": {
           "size": 16
          },
          "showarrow": false,
          "text": "Self_Employed",
          "x": 0.5,
          "xanchor": "center",
          "xref": "paper",
          "y": 0.6111111111111112,
          "yanchor": "bottom",
          "yref": "paper"
         },
         {
          "font": {
           "size": 16
          },
          "showarrow": false,
          "text": "Property_Area",
          "x": 0.8555555555555556,
          "xanchor": "center",
          "xref": "paper",
          "y": 0.6111111111111112,
          "yanchor": "bottom",
          "yref": "paper"
         },
         {
          "font": {
           "size": 16
          },
          "showarrow": false,
          "text": "Credit_History",
          "x": 0.14444444444444446,
          "xanchor": "center",
          "xref": "paper",
          "y": 0.22222222222222224,
          "yanchor": "bottom",
          "yref": "paper"
         }
        ],
        "barmode": "group",
        "height": 900,
        "plot_bgcolor": "white",
        "template": {
         "data": {
          "bar": [
           {
            "error_x": {
             "color": "#2a3f5f"
            },
            "error_y": {
             "color": "#2a3f5f"
            },
            "marker": {
             "line": {
              "color": "#E5ECF6",
              "width": 0.5
             },
             "pattern": {
              "fillmode": "overlay",
              "size": 10,
              "solidity": 0.2
             }
            },
            "type": "bar"
           }
          ],
          "barpolar": [
           {
            "marker": {
             "line": {
              "color": "#E5ECF6",
              "width": 0.5
             },
             "pattern": {
              "fillmode": "overlay",
              "size": 10,
              "solidity": 0.2
             }
            },
            "type": "barpolar"
           }
          ],
          "carpet": [
           {
            "aaxis": {
             "endlinecolor": "#2a3f5f",
             "gridcolor": "white",
             "linecolor": "white",
             "minorgridcolor": "white",
             "startlinecolor": "#2a3f5f"
            },
            "baxis": {
             "endlinecolor": "#2a3f5f",
             "gridcolor": "white",
             "linecolor": "white",
             "minorgridcolor": "white",
             "startlinecolor": "#2a3f5f"
            },
            "type": "carpet"
           }
          ],
          "choropleth": [
           {
            "colorbar": {
             "outlinewidth": 0,
             "ticks": ""
            },
            "type": "choropleth"
           }
          ],
          "contour": [
           {
            "colorbar": {
             "outlinewidth": 0,
             "ticks": ""
            },
            "colorscale": [
             [
              0,
              "#0d0887"
             ],
             [
              0.1111111111111111,
              "#46039f"
             ],
             [
              0.2222222222222222,
              "#7201a8"
             ],
             [
              0.3333333333333333,
              "#9c179e"
             ],
             [
              0.4444444444444444,
              "#bd3786"
             ],
             [
              0.5555555555555556,
              "#d8576b"
             ],
             [
              0.6666666666666666,
              "#ed7953"
             ],
             [
              0.7777777777777778,
              "#fb9f3a"
             ],
             [
              0.8888888888888888,
              "#fdca26"
             ],
             [
              1,
              "#f0f921"
             ]
            ],
            "type": "contour"
           }
          ],
          "contourcarpet": [
           {
            "colorbar": {
             "outlinewidth": 0,
             "ticks": ""
            },
            "type": "contourcarpet"
           }
          ],
          "heatmap": [
           {
            "colorbar": {
             "outlinewidth": 0,
             "ticks": ""
            },
            "colorscale": [
             [
              0,
              "#0d0887"
             ],
             [
              0.1111111111111111,
              "#46039f"
             ],
             [
              0.2222222222222222,
              "#7201a8"
             ],
             [
              0.3333333333333333,
              "#9c179e"
             ],
             [
              0.4444444444444444,
              "#bd3786"
             ],
             [
              0.5555555555555556,
              "#d8576b"
             ],
             [
              0.6666666666666666,
              "#ed7953"
             ],
             [
              0.7777777777777778,
              "#fb9f3a"
             ],
             [
              0.8888888888888888,
              "#fdca26"
             ],
             [
              1,
              "#f0f921"
             ]
            ],
            "type": "heatmap"
           }
          ],
          "histogram": [
           {
            "marker": {
             "pattern": {
              "fillmode": "overlay",
              "size": 10,
              "solidity": 0.2
             }
            },
            "type": "histogram"
           }
          ],
          "histogram2d": [
           {
            "colorbar": {
             "outlinewidth": 0,
             "ticks": ""
            },
            "colorscale": [
             [
              0,
              "#0d0887"
             ],
             [
              0.1111111111111111,
              "#46039f"
             ],
             [
              0.2222222222222222,
              "#7201a8"
             ],
             [
              0.3333333333333333,
              "#9c179e"
             ],
             [
              0.4444444444444444,
              "#bd3786"
             ],
             [
              0.5555555555555556,
              "#d8576b"
             ],
             [
              0.6666666666666666,
              "#ed7953"
             ],
             [
              0.7777777777777778,
              "#fb9f3a"
             ],
             [
              0.8888888888888888,
              "#fdca26"
             ],
             [
              1,
              "#f0f921"
             ]
            ],
            "type": "histogram2d"
           }
          ],
          "histogram2dcontour": [
           {
            "colorbar": {
             "outlinewidth": 0,
             "ticks": ""
            },
            "colorscale": [
             [
              0,
              "#0d0887"
             ],
             [
              0.1111111111111111,
              "#46039f"
             ],
             [
              0.2222222222222222,
              "#7201a8"
             ],
             [
              0.3333333333333333,
              "#9c179e"
             ],
             [
              0.4444444444444444,
              "#bd3786"
             ],
             [
              0.5555555555555556,
              "#d8576b"
             ],
             [
              0.6666666666666666,
              "#ed7953"
             ],
             [
              0.7777777777777778,
              "#fb9f3a"
             ],
             [
              0.8888888888888888,
              "#fdca26"
             ],
             [
              1,
              "#f0f921"
             ]
            ],
            "type": "histogram2dcontour"
           }
          ],
          "mesh3d": [
           {
            "colorbar": {
             "outlinewidth": 0,
             "ticks": ""
            },
            "type": "mesh3d"
           }
          ],
          "parcoords": [
           {
            "line": {
             "colorbar": {
              "outlinewidth": 0,
              "ticks": ""
             }
            },
            "type": "parcoords"
           }
          ],
          "pie": [
           {
            "automargin": true,
            "type": "pie"
           }
          ],
          "scatter": [
           {
            "fillpattern": {
             "fillmode": "overlay",
             "size": 10,
             "solidity": 0.2
            },
            "type": "scatter"
           }
          ],
          "scatter3d": [
           {
            "line": {
             "colorbar": {
              "outlinewidth": 0,
              "ticks": ""
             }
            },
            "marker": {
             "colorbar": {
              "outlinewidth": 0,
              "ticks": ""
             }
            },
            "type": "scatter3d"
           }
          ],
          "scattercarpet": [
           {
            "marker": {
             "colorbar": {
              "outlinewidth": 0,
              "ticks": ""
             }
            },
            "type": "scattercarpet"
           }
          ],
          "scattergeo": [
           {
            "marker": {
             "colorbar": {
              "outlinewidth": 0,
              "ticks": ""
             }
            },
            "type": "scattergeo"
           }
          ],
          "scattergl": [
           {
            "marker": {
             "colorbar": {
              "outlinewidth": 0,
              "ticks": ""
             }
            },
            "type": "scattergl"
           }
          ],
          "scattermap": [
           {
            "marker": {
             "colorbar": {
              "outlinewidth": 0,
              "ticks": ""
             }
            },
            "type": "scattermap"
           }
          ],
          "scattermapbox": [
           {
            "marker": {
             "colorbar": {
              "outlinewidth": 0,
              "ticks": ""
             }
            },
            "type": "scattermapbox"
           }
          ],
          "scatterpolar": [
           {
            "marker": {
             "colorbar": {
              "outlinewidth": 0,
              "ticks": ""
             }
            },
            "type": "scatterpolar"
           }
          ],
          "scatterpolargl": [
           {
            "marker": {
             "colorbar": {
              "outlinewidth": 0,
              "ticks": ""
             }
            },
            "type": "scatterpolargl"
           }
          ],
          "scatterternary": [
           {
            "marker": {
             "colorbar": {
              "outlinewidth": 0,
              "ticks": ""
             }
            },
            "type": "scatterternary"
           }
          ],
          "surface": [
           {
            "colorbar": {
             "outlinewidth": 0,
             "ticks": ""
            },
            "colorscale": [
             [
              0,
              "#0d0887"
             ],
             [
              0.1111111111111111,
              "#46039f"
             ],
             [
              0.2222222222222222,
              "#7201a8"
             ],
             [
              0.3333333333333333,
              "#9c179e"
             ],
             [
              0.4444444444444444,
              "#bd3786"
             ],
             [
              0.5555555555555556,
              "#d8576b"
             ],
             [
              0.6666666666666666,
              "#ed7953"
             ],
             [
              0.7777777777777778,
              "#fb9f3a"
             ],
             [
              0.8888888888888888,
              "#fdca26"
             ],
             [
              1,
              "#f0f921"
             ]
            ],
            "type": "surface"
           }
          ],
          "table": [
           {
            "cells": {
             "fill": {
              "color": "#EBF0F8"
             },
             "line": {
              "color": "white"
             }
            },
            "header": {
             "fill": {
              "color": "#C8D4E3"
             },
             "line": {
              "color": "white"
             }
            },
            "type": "table"
           }
          ]
         },
         "layout": {
          "annotationdefaults": {
           "arrowcolor": "#2a3f5f",
           "arrowhead": 0,
           "arrowwidth": 1
          },
          "autotypenumbers": "strict",
          "coloraxis": {
           "colorbar": {
            "outlinewidth": 0,
            "ticks": ""
           }
          },
          "colorscale": {
           "diverging": [
            [
             0,
             "#8e0152"
            ],
            [
             0.1,
             "#c51b7d"
            ],
            [
             0.2,
             "#de77ae"
            ],
            [
             0.3,
             "#f1b6da"
            ],
            [
             0.4,
             "#fde0ef"
            ],
            [
             0.5,
             "#f7f7f7"
            ],
            [
             0.6,
             "#e6f5d0"
            ],
            [
             0.7,
             "#b8e186"
            ],
            [
             0.8,
             "#7fbc41"
            ],
            [
             0.9,
             "#4d9221"
            ],
            [
             1,
             "#276419"
            ]
           ],
           "sequential": [
            [
             0,
             "#0d0887"
            ],
            [
             0.1111111111111111,
             "#46039f"
            ],
            [
             0.2222222222222222,
             "#7201a8"
            ],
            [
             0.3333333333333333,
             "#9c179e"
            ],
            [
             0.4444444444444444,
             "#bd3786"
            ],
            [
             0.5555555555555556,
             "#d8576b"
            ],
            [
             0.6666666666666666,
             "#ed7953"
            ],
            [
             0.7777777777777778,
             "#fb9f3a"
            ],
            [
             0.8888888888888888,
             "#fdca26"
            ],
            [
             1,
             "#f0f921"
            ]
           ],
           "sequentialminus": [
            [
             0,
             "#0d0887"
            ],
            [
             0.1111111111111111,
             "#46039f"
            ],
            [
             0.2222222222222222,
             "#7201a8"
            ],
            [
             0.3333333333333333,
             "#9c179e"
            ],
            [
             0.4444444444444444,
             "#bd3786"
            ],
            [
             0.5555555555555556,
             "#d8576b"
            ],
            [
             0.6666666666666666,
             "#ed7953"
            ],
            [
             0.7777777777777778,
             "#fb9f3a"
            ],
            [
             0.8888888888888888,
             "#fdca26"
            ],
            [
             1,
             "#f0f921"
            ]
           ]
          },
          "colorway": [
           "#636efa",
           "#EF553B",
           "#00cc96",
           "#ab63fa",
           "#FFA15A",
           "#19d3f3",
           "#FF6692",
           "#B6E880",
           "#FF97FF",
           "#FECB52"
          ],
          "font": {
           "color": "#2a3f5f"
          },
          "geo": {
           "bgcolor": "white",
           "lakecolor": "white",
           "landcolor": "#E5ECF6",
           "showlakes": true,
           "showland": true,
           "subunitcolor": "white"
          },
          "hoverlabel": {
           "align": "left"
          },
          "hovermode": "closest",
          "mapbox": {
           "style": "light"
          },
          "paper_bgcolor": "white",
          "plot_bgcolor": "#E5ECF6",
          "polar": {
           "angularaxis": {
            "gridcolor": "white",
            "linecolor": "white",
            "ticks": ""
           },
           "bgcolor": "#E5ECF6",
           "radialaxis": {
            "gridcolor": "white",
            "linecolor": "white",
            "ticks": ""
           }
          },
          "scene": {
           "xaxis": {
            "backgroundcolor": "#E5ECF6",
            "gridcolor": "white",
            "gridwidth": 2,
            "linecolor": "white",
            "showbackground": true,
            "ticks": "",
            "zerolinecolor": "white"
           },
           "yaxis": {
            "backgroundcolor": "#E5ECF6",
            "gridcolor": "white",
            "gridwidth": 2,
            "linecolor": "white",
            "showbackground": true,
            "ticks": "",
            "zerolinecolor": "white"
           },
           "zaxis": {
            "backgroundcolor": "#E5ECF6",
            "gridcolor": "white",
            "gridwidth": 2,
            "linecolor": "white",
            "showbackground": true,
            "ticks": "",
            "zerolinecolor": "white"
           }
          },
          "shapedefaults": {
           "line": {
            "color": "#2a3f5f"
           }
          },
          "ternary": {
           "aaxis": {
            "gridcolor": "white",
            "linecolor": "white",
            "ticks": ""
           },
           "baxis": {
            "gridcolor": "white",
            "linecolor": "white",
            "ticks": ""
           },
           "bgcolor": "#E5ECF6",
           "caxis": {
            "gridcolor": "white",
            "linecolor": "white",
            "ticks": ""
           }
          },
          "title": {
           "x": 0.05
          },
          "xaxis": {
           "automargin": true,
           "gridcolor": "white",
           "linecolor": "white",
           "ticks": "",
           "title": {
            "standoff": 15
           },
           "zerolinecolor": "white",
           "zerolinewidth": 2
          },
          "yaxis": {
           "automargin": true,
           "gridcolor": "white",
           "linecolor": "white",
           "ticks": "",
           "title": {
            "standoff": 15
           },
           "zerolinecolor": "white",
           "zerolinewidth": 2
          }
         }
        },
        "title": {
         "text": "Analysis of Categorical Variables vs. Loan Status (Plotly)"
        },
        "width": 1200,
        "xaxis": {
         "anchor": "y",
         "domain": [
          0,
          0.2888888888888889
         ]
        },
        "xaxis2": {
         "anchor": "y2",
         "domain": [
          0.35555555555555557,
          0.6444444444444445
         ]
        },
        "xaxis3": {
         "anchor": "y3",
         "domain": [
          0.7111111111111111,
          1
         ]
        },
        "xaxis4": {
         "anchor": "y4",
         "domain": [
          0,
          0.2888888888888889
         ]
        },
        "xaxis5": {
         "anchor": "y5",
         "domain": [
          0.35555555555555557,
          0.6444444444444445
         ]
        },
        "xaxis6": {
         "anchor": "y6",
         "domain": [
          0.7111111111111111,
          1
         ]
        },
        "xaxis7": {
         "anchor": "y7",
         "domain": [
          0,
          0.2888888888888889
         ]
        },
        "xaxis8": {
         "anchor": "y8",
         "domain": [
          0.35555555555555557,
          0.6444444444444445
         ]
        },
        "xaxis9": {
         "anchor": "y9",
         "domain": [
          0.7111111111111111,
          1
         ]
        },
        "yaxis": {
         "anchor": "x",
         "domain": [
          0.7777777777777778,
          1
         ]
        },
        "yaxis2": {
         "anchor": "x2",
         "domain": [
          0.7777777777777778,
          1
         ]
        },
        "yaxis3": {
         "anchor": "x3",
         "domain": [
          0.7777777777777778,
          1
         ]
        },
        "yaxis4": {
         "anchor": "x4",
         "domain": [
          0.3888888888888889,
          0.6111111111111112
         ]
        },
        "yaxis5": {
         "anchor": "x5",
         "domain": [
          0.3888888888888889,
          0.6111111111111112
         ]
        },
        "yaxis6": {
         "anchor": "x6",
         "domain": [
          0.3888888888888889,
          0.6111111111111112
         ]
        },
        "yaxis7": {
         "anchor": "x7",
         "domain": [
          0,
          0.22222222222222224
         ]
        },
        "yaxis8": {
         "anchor": "x8",
         "domain": [
          0,
          0.22222222222222224
         ]
        },
        "yaxis9": {
         "anchor": "x9",
         "domain": [
          0,
          0.22222222222222224
         ]
        }
       }
      }
     },
     "metadata": {},
     "output_type": "display_data"
    }
   ],
   "source": [
    "import plotly.graph_objects as go\n",
    "from plotly.subplots import make_subplots\n",
    "\n",
    "# لیست ویژگی‌های دسته‌ای\n",
    "categorical_features = ['Gender', 'Married', 'Dependents', 'Education',\n",
    "                        'Self_Employed', 'Property_Area', 'Credit_History']\n",
    "\n",
    "# تنظیم ساب‌پلات‌ها (3 ردیف × 3 ستون)\n",
    "rows = 3\n",
    "cols = 3\n",
    "fig = make_subplots(\n",
    "    rows=rows, cols=cols,\n",
    "    subplot_titles=categorical_features\n",
    ")\n",
    "\n",
    "row, col = 1, 1\n",
    "for feature in categorical_features:\n",
    "    # شمارش مقدار هر دسته برای هر Loan_Status\n",
    "    counts = loan_dataset_EDA.groupby([feature, 'Loan_Status']).size().reset_index(name='Count')\n",
    "\n",
    "    for status in counts['Loan_Status'].unique():\n",
    "        filtered = counts[counts['Loan_Status'] == status]\n",
    "\n",
    "        fig.add_trace(\n",
    "            go.Bar(\n",
    "                x=filtered[feature],\n",
    "                y=filtered['Count'],\n",
    "                name=f\"{status}\",\n",
    "                marker=dict(colorscale='Portland'),\n",
    "            ),\n",
    "            row=row, col=col\n",
    "        )\n",
    "\n",
    "    col += 1\n",
    "    if col > cols:\n",
    "        col = 1\n",
    "        row += 1\n",
    "\n",
    "# بهبود ظاهر\n",
    "fig.update_layout(\n",
    "    height=900, width=1200,\n",
    "    title_text=\"Analysis of Categorical Variables vs. Loan Status (Plotly)\",\n",
    "    barmode='group',  # ستون‌های Loan_Status کنار هم\n",
    "    plot_bgcolor='white'\n",
    ")\n",
    "\n",
    "fig.show()"
   ]
  },
  {
   "cell_type": "markdown",
   "id": "d8ec1b80",
   "metadata": {},
   "source": [
    "# Credit_History vs. Loan_Status  \n",
    "This is the **most important** chart! We can clearly see that:  \n",
    "- If the credit history is **positive (1.0)**, the chance of loan approval is **very high**.  \n",
    "- If the credit history is **negative (0.0)**, the chance of loan approval is **very low**.  \n",
    "This feature is definitely a **strong predictor**.  \n",
    "\n",
    "# Married vs. Loan_Status  \n",
    "Married applicants have a **slightly higher** chance of loan approval.  \n",
    "\n",
    "# Education vs. Loan_Status  \n",
    "Graduates have a **higher** chance of loan approval.  \n",
    "\n",
    "# Property_Area vs. Loan_Status  \n",
    "- Applications from **Semiurban** areas have the **highest** approval rate.  \n",
    "- Applications from **Rural** areas have the **lowest** approval rate.  "
   ]
  },
  {
   "cell_type": "markdown",
   "id": "73181c41",
   "metadata": {},
   "source": [
    "# Numerical Variables vs. Target Variable  \n",
    "Using box plots, we compare the distribution of numerical variables for approved and rejected loans.  "
   ]
  },
  {
   "cell_type": "code",
   "execution_count": 22,
   "id": "fb3b7fc8",
   "metadata": {},
   "outputs": [
    {
     "data": {
      "application/vnd.plotly.v1+json": {
       "config": {
        "plotlyServerURL": "https://plot.ly"
       },
       "data": [
        {
         "boxmean": "sd",
         "marker": {
          "color": "teal"
         },
         "name": "ApplicantIncome",
         "type": "box",
         "x": {
          "bdata": "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",
          "dtype": "f8"
         },
         "xaxis": "x",
         "y": {
          "bdata": "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",
          "dtype": "f8"
         },
         "yaxis": "y"
        },
        {
         "boxmean": "sd",
         "marker": {
          "color": "teal"
         },
         "name": "CoapplicantIncome",
         "type": "box",
         "x": {
          "bdata": "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",
          "dtype": "f8"
         },
         "xaxis": "x2",
         "y": {
          "bdata": "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",
          "dtype": "f8"
         },
         "yaxis": "y2"
        },
        {
         "boxmean": "sd",
         "marker": {
          "color": "teal"
         },
         "name": "LoanAmount",
         "type": "box",
         "x": {
          "bdata": "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",
          "dtype": "f8"
         },
         "xaxis": "x3",
         "y": {
          "bdata": "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",
          "dtype": "f8"
         },
         "yaxis": "y3"
        }
       ],
       "layout": {
        "annotations": [
         {
          "font": {
           "size": 16
          },
          "showarrow": false,
          "text": "ApplicantIncome",
          "x": 0.14444444444444446,
          "xanchor": "center",
          "xref": "paper",
          "y": 1,
          "yanchor": "bottom",
          "yref": "paper"
         },
         {
          "font": {
           "size": 16
          },
          "showarrow": false,
          "text": "CoapplicantIncome",
          "x": 0.5,
          "xanchor": "center",
          "xref": "paper",
          "y": 1,
          "yanchor": "bottom",
          "yref": "paper"
         },
         {
          "font": {
           "size": 16
          },
          "showarrow": false,
          "text": "LoanAmount",
          "x": 0.8555555555555556,
          "xanchor": "center",
          "xref": "paper",
          "y": 1,
          "yanchor": "bottom",
          "yref": "paper"
         }
        ],
        "height": 500,
        "plot_bgcolor": "white",
        "showlegend": false,
        "template": {
         "data": {
          "bar": [
           {
            "error_x": {
             "color": "#2a3f5f"
            },
            "error_y": {
             "color": "#2a3f5f"
            },
            "marker": {
             "line": {
              "color": "#E5ECF6",
              "width": 0.5
             },
             "pattern": {
              "fillmode": "overlay",
              "size": 10,
              "solidity": 0.2
             }
            },
            "type": "bar"
           }
          ],
          "barpolar": [
           {
            "marker": {
             "line": {
              "color": "#E5ECF6",
              "width": 0.5
             },
             "pattern": {
              "fillmode": "overlay",
              "size": 10,
              "solidity": 0.2
             }
            },
            "type": "barpolar"
           }
          ],
          "carpet": [
           {
            "aaxis": {
             "endlinecolor": "#2a3f5f",
             "gridcolor": "white",
             "linecolor": "white",
             "minorgridcolor": "white",
             "startlinecolor": "#2a3f5f"
            },
            "baxis": {
             "endlinecolor": "#2a3f5f",
             "gridcolor": "white",
             "linecolor": "white",
             "minorgridcolor": "white",
             "startlinecolor": "#2a3f5f"
            },
            "type": "carpet"
           }
          ],
          "choropleth": [
           {
            "colorbar": {
             "outlinewidth": 0,
             "ticks": ""
            },
            "type": "choropleth"
           }
          ],
          "contour": [
           {
            "colorbar": {
             "outlinewidth": 0,
             "ticks": ""
            },
            "colorscale": [
             [
              0,
              "#0d0887"
             ],
             [
              0.1111111111111111,
              "#46039f"
             ],
             [
              0.2222222222222222,
              "#7201a8"
             ],
             [
              0.3333333333333333,
              "#9c179e"
             ],
             [
              0.4444444444444444,
              "#bd3786"
             ],
             [
              0.5555555555555556,
              "#d8576b"
             ],
             [
              0.6666666666666666,
              "#ed7953"
             ],
             [
              0.7777777777777778,
              "#fb9f3a"
             ],
             [
              0.8888888888888888,
              "#fdca26"
             ],
             [
              1,
              "#f0f921"
             ]
            ],
            "type": "contour"
           }
          ],
          "contourcarpet": [
           {
            "colorbar": {
             "outlinewidth": 0,
             "ticks": ""
            },
            "type": "contourcarpet"
           }
          ],
          "heatmap": [
           {
            "colorbar": {
             "outlinewidth": 0,
             "ticks": ""
            },
            "colorscale": [
             [
              0,
              "#0d0887"
             ],
             [
              0.1111111111111111,
              "#46039f"
             ],
             [
              0.2222222222222222,
              "#7201a8"
             ],
             [
              0.3333333333333333,
              "#9c179e"
             ],
             [
              0.4444444444444444,
              "#bd3786"
             ],
             [
              0.5555555555555556,
              "#d8576b"
             ],
             [
              0.6666666666666666,
              "#ed7953"
             ],
             [
              0.7777777777777778,
              "#fb9f3a"
             ],
             [
              0.8888888888888888,
              "#fdca26"
             ],
             [
              1,
              "#f0f921"
             ]
            ],
            "type": "heatmap"
           }
          ],
          "histogram": [
           {
            "marker": {
             "pattern": {
              "fillmode": "overlay",
              "size": 10,
              "solidity": 0.2
             }
            },
            "type": "histogram"
           }
          ],
          "histogram2d": [
           {
            "colorbar": {
             "outlinewidth": 0,
             "ticks": ""
            },
            "colorscale": [
             [
              0,
              "#0d0887"
             ],
             [
              0.1111111111111111,
              "#46039f"
             ],
             [
              0.2222222222222222,
              "#7201a8"
             ],
             [
              0.3333333333333333,
              "#9c179e"
             ],
             [
              0.4444444444444444,
              "#bd3786"
             ],
             [
              0.5555555555555556,
              "#d8576b"
             ],
             [
              0.6666666666666666,
              "#ed7953"
             ],
             [
              0.7777777777777778,
              "#fb9f3a"
             ],
             [
              0.8888888888888888,
              "#fdca26"
             ],
             [
              1,
              "#f0f921"
             ]
            ],
            "type": "histogram2d"
           }
          ],
          "histogram2dcontour": [
           {
            "colorbar": {
             "outlinewidth": 0,
             "ticks": ""
            },
            "colorscale": [
             [
              0,
              "#0d0887"
             ],
             [
              0.1111111111111111,
              "#46039f"
             ],
             [
              0.2222222222222222,
              "#7201a8"
             ],
             [
              0.3333333333333333,
              "#9c179e"
             ],
             [
              0.4444444444444444,
              "#bd3786"
             ],
             [
              0.5555555555555556,
              "#d8576b"
             ],
             [
              0.6666666666666666,
              "#ed7953"
             ],
             [
              0.7777777777777778,
              "#fb9f3a"
             ],
             [
              0.8888888888888888,
              "#fdca26"
             ],
             [
              1,
              "#f0f921"
             ]
            ],
            "type": "histogram2dcontour"
           }
          ],
          "mesh3d": [
           {
            "colorbar": {
             "outlinewidth": 0,
             "ticks": ""
            },
            "type": "mesh3d"
           }
          ],
          "parcoords": [
           {
            "line": {
             "colorbar": {
              "outlinewidth": 0,
              "ticks": ""
             }
            },
            "type": "parcoords"
           }
          ],
          "pie": [
           {
            "automargin": true,
            "type": "pie"
           }
          ],
          "scatter": [
           {
            "fillpattern": {
             "fillmode": "overlay",
             "size": 10,
             "solidity": 0.2
            },
            "type": "scatter"
           }
          ],
          "scatter3d": [
           {
            "line": {
             "colorbar": {
              "outlinewidth": 0,
              "ticks": ""
             }
            },
            "marker": {
             "colorbar": {
              "outlinewidth": 0,
              "ticks": ""
             }
            },
            "type": "scatter3d"
           }
          ],
          "scattercarpet": [
           {
            "marker": {
             "colorbar": {
              "outlinewidth": 0,
              "ticks": ""
             }
            },
            "type": "scattercarpet"
           }
          ],
          "scattergeo": [
           {
            "marker": {
             "colorbar": {
              "outlinewidth": 0,
              "ticks": ""
             }
            },
            "type": "scattergeo"
           }
          ],
          "scattergl": [
           {
            "marker": {
             "colorbar": {
              "outlinewidth": 0,
              "ticks": ""
             }
            },
            "type": "scattergl"
           }
          ],
          "scattermap": [
           {
            "marker": {
             "colorbar": {
              "outlinewidth": 0,
              "ticks": ""
             }
            },
            "type": "scattermap"
           }
          ],
          "scattermapbox": [
           {
            "marker": {
             "colorbar": {
              "outlinewidth": 0,
              "ticks": ""
             }
            },
            "type": "scattermapbox"
           }
          ],
          "scatterpolar": [
           {
            "marker": {
             "colorbar": {
              "outlinewidth": 0,
              "ticks": ""
             }
            },
            "type": "scatterpolar"
           }
          ],
          "scatterpolargl": [
           {
            "marker": {
             "colorbar": {
              "outlinewidth": 0,
              "ticks": ""
             }
            },
            "type": "scatterpolargl"
           }
          ],
          "scatterternary": [
           {
            "marker": {
             "colorbar": {
              "outlinewidth": 0,
              "ticks": ""
             }
            },
            "type": "scatterternary"
           }
          ],
          "surface": [
           {
            "colorbar": {
             "outlinewidth": 0,
             "ticks": ""
            },
            "colorscale": [
             [
              0,
              "#0d0887"
             ],
             [
              0.1111111111111111,
              "#46039f"
             ],
             [
              0.2222222222222222,
              "#7201a8"
             ],
             [
              0.3333333333333333,
              "#9c179e"
             ],
             [
              0.4444444444444444,
              "#bd3786"
             ],
             [
              0.5555555555555556,
              "#d8576b"
             ],
             [
              0.6666666666666666,
              "#ed7953"
             ],
             [
              0.7777777777777778,
              "#fb9f3a"
             ],
             [
              0.8888888888888888,
              "#fdca26"
             ],
             [
              1,
              "#f0f921"
             ]
            ],
            "type": "surface"
           }
          ],
          "table": [
           {
            "cells": {
             "fill": {
              "color": "#EBF0F8"
             },
             "line": {
              "color": "white"
             }
            },
            "header": {
             "fill": {
              "color": "#C8D4E3"
             },
             "line": {
              "color": "white"
             }
            },
            "type": "table"
           }
          ]
         },
         "layout": {
          "annotationdefaults": {
           "arrowcolor": "#2a3f5f",
           "arrowhead": 0,
           "arrowwidth": 1
          },
          "autotypenumbers": "strict",
          "coloraxis": {
           "colorbar": {
            "outlinewidth": 0,
            "ticks": ""
           }
          },
          "colorscale": {
           "diverging": [
            [
             0,
             "#8e0152"
            ],
            [
             0.1,
             "#c51b7d"
            ],
            [
             0.2,
             "#de77ae"
            ],
            [
             0.3,
             "#f1b6da"
            ],
            [
             0.4,
             "#fde0ef"
            ],
            [
             0.5,
             "#f7f7f7"
            ],
            [
             0.6,
             "#e6f5d0"
            ],
            [
             0.7,
             "#b8e186"
            ],
            [
             0.8,
             "#7fbc41"
            ],
            [
             0.9,
             "#4d9221"
            ],
            [
             1,
             "#276419"
            ]
           ],
           "sequential": [
            [
             0,
             "#0d0887"
            ],
            [
             0.1111111111111111,
             "#46039f"
            ],
            [
             0.2222222222222222,
             "#7201a8"
            ],
            [
             0.3333333333333333,
             "#9c179e"
            ],
            [
             0.4444444444444444,
             "#bd3786"
            ],
            [
             0.5555555555555556,
             "#d8576b"
            ],
            [
             0.6666666666666666,
             "#ed7953"
            ],
            [
             0.7777777777777778,
             "#fb9f3a"
            ],
            [
             0.8888888888888888,
             "#fdca26"
            ],
            [
             1,
             "#f0f921"
            ]
           ],
           "sequentialminus": [
            [
             0,
             "#0d0887"
            ],
            [
             0.1111111111111111,
             "#46039f"
            ],
            [
             0.2222222222222222,
             "#7201a8"
            ],
            [
             0.3333333333333333,
             "#9c179e"
            ],
            [
             0.4444444444444444,
             "#bd3786"
            ],
            [
             0.5555555555555556,
             "#d8576b"
            ],
            [
             0.6666666666666666,
             "#ed7953"
            ],
            [
             0.7777777777777778,
             "#fb9f3a"
            ],
            [
             0.8888888888888888,
             "#fdca26"
            ],
            [
             1,
             "#f0f921"
            ]
           ]
          },
          "colorway": [
           "#636efa",
           "#EF553B",
           "#00cc96",
           "#ab63fa",
           "#FFA15A",
           "#19d3f3",
           "#FF6692",
           "#B6E880",
           "#FF97FF",
           "#FECB52"
          ],
          "font": {
           "color": "#2a3f5f"
          },
          "geo": {
           "bgcolor": "white",
           "lakecolor": "white",
           "landcolor": "#E5ECF6",
           "showlakes": true,
           "showland": true,
           "subunitcolor": "white"
          },
          "hoverlabel": {
           "align": "left"
          },
          "hovermode": "closest",
          "mapbox": {
           "style": "light"
          },
          "paper_bgcolor": "white",
          "plot_bgcolor": "#E5ECF6",
          "polar": {
           "angularaxis": {
            "gridcolor": "white",
            "linecolor": "white",
            "ticks": ""
           },
           "bgcolor": "#E5ECF6",
           "radialaxis": {
            "gridcolor": "white",
            "linecolor": "white",
            "ticks": ""
           }
          },
          "scene": {
           "xaxis": {
            "backgroundcolor": "#E5ECF6",
            "gridcolor": "white",
            "gridwidth": 2,
            "linecolor": "white",
            "showbackground": true,
            "ticks": "",
            "zerolinecolor": "white"
           },
           "yaxis": {
            "backgroundcolor": "#E5ECF6",
            "gridcolor": "white",
            "gridwidth": 2,
            "linecolor": "white",
            "showbackground": true,
            "ticks": "",
            "zerolinecolor": "white"
           },
           "zaxis": {
            "backgroundcolor": "#E5ECF6",
            "gridcolor": "white",
            "gridwidth": 2,
            "linecolor": "white",
            "showbackground": true,
            "ticks": "",
            "zerolinecolor": "white"
           }
          },
          "shapedefaults": {
           "line": {
            "color": "#2a3f5f"
           }
          },
          "ternary": {
           "aaxis": {
            "gridcolor": "white",
            "linecolor": "white",
            "ticks": ""
           },
           "baxis": {
            "gridcolor": "white",
            "linecolor": "white",
            "ticks": ""
           },
           "bgcolor": "#E5ECF6",
           "caxis": {
            "gridcolor": "white",
            "linecolor": "white",
            "ticks": ""
           }
          },
          "title": {
           "x": 0.05
          },
          "xaxis": {
           "automargin": true,
           "gridcolor": "white",
           "linecolor": "white",
           "ticks": "",
           "title": {
            "standoff": 15
           },
           "zerolinecolor": "white",
           "zerolinewidth": 2
          },
          "yaxis": {
           "automargin": true,
           "gridcolor": "white",
           "linecolor": "white",
           "ticks": "",
           "title": {
            "standoff": 15
           },
           "zerolinecolor": "white",
           "zerolinewidth": 2
          }
         }
        },
        "title": {
         "text": "Analysis of Numerical Variables vs. Loan Status (Plotly)"
        },
        "width": 1200,
        "xaxis": {
         "anchor": "y",
         "domain": [
          0,
          0.2888888888888889
         ]
        },
        "xaxis2": {
         "anchor": "y2",
         "domain": [
          0.35555555555555557,
          0.6444444444444445
         ]
        },
        "xaxis3": {
         "anchor": "y3",
         "domain": [
          0.7111111111111111,
          1
         ]
        },
        "yaxis": {
         "anchor": "x",
         "domain": [
          0,
          1
         ]
        },
        "yaxis2": {
         "anchor": "x2",
         "domain": [
          0,
          1
         ]
        },
        "yaxis3": {
         "anchor": "x3",
         "domain": [
          0,
          1
         ]
        }
       }
      }
     },
     "metadata": {},
     "output_type": "display_data"
    }
   ],
   "source": [
    "import plotly.express as px\n",
    "from plotly.subplots import make_subplots\n",
    "import plotly.graph_objects as go\n",
    "\n",
    "# لیست ویژگی‌های عددی\n",
    "numerical_features = ['ApplicantIncome', 'CoapplicantIncome', 'LoanAmount']\n",
    "\n",
    "# ایجاد ساب‌پلات‌ها: 1 ردیف و 3 ستون\n",
    "fig = make_subplots(\n",
    "    rows=1, cols=3,\n",
    "    subplot_titles=numerical_features\n",
    ")\n",
    "\n",
    "# اضافه کردن هر boxplot به ساب‌پلات\n",
    "for i, col in enumerate(numerical_features):\n",
    "    fig.add_trace(\n",
    "        go.Box(\n",
    "            x=loan_dataset['Loan_Status'],\n",
    "            y=loan_dataset[col],\n",
    "            boxmean='sd',  # نمایش میانگین و انحراف معیار\n",
    "            marker_color='teal',\n",
    "            name=col\n",
    "        ),\n",
    "        row=1, col=i+1\n",
    "    )\n",
    "\n",
    "# بهبود ظاهر نمودار\n",
    "fig.update_layout(\n",
    "    title_text=\"Analysis of Numerical Variables vs. Loan Status (Plotly)\",\n",
    "    height=500,\n",
    "    width=1200,\n",
    "    showlegend=False,\n",
    "    plot_bgcolor='white'\n",
    ")\n",
    "\n",
    "fig.show()"
   ]
  },
  {
   "cell_type": "markdown",
   "id": "4d049942",
   "metadata": {},
   "source": [
    "Based on the box plots, no significant difference is observed in the median (the center line of the box) of applicant income or loan amount between the approved and rejected groups. This indicates that these variables alone may not have strong predictive power, but combining them (for example, by creating a new feature like `Total_Income`) could be beneficial."
   ]
  },
  {
   "cell_type": "markdown",
   "id": "80c91e74",
   "metadata": {},
   "source": [
    "# Multivariate Analysis (Multivariate Analysis)\n",
    "Finally, using a correlation matrix (Correlation Matrix), we examine the linear relationship between all numerical variables."
   ]
  },
  {
   "cell_type": "code",
   "execution_count": 23,
   "id": "b88def76",
   "metadata": {},
   "outputs": [
    {
     "data": {
      "application/vnd.plotly.v1+json": {
       "config": {
        "plotlyServerURL": "https://plot.ly"
       },
       "data": [
        {
         "coloraxis": "coloraxis",
         "hovertemplate": "x: %{x}<br>y: %{y}<br>color: %{z}<extra></extra>",
         "name": "0",
         "texttemplate": "%{z:.2f}",
         "type": "heatmap",
         "x": [
          "Gender",
          "Married",
          "Dependents",
          "Education",
          "Self_Employed",
          "ApplicantIncome",
          "CoapplicantIncome",
          "LoanAmount",
          "Loan_Amount_Term",
          "Credit_History",
          "Loan_Status",
          "Property_Area_Rural",
          "Property_Area_Semiurban",
          "Property_Area_Urban",
          "TotalIncome",
          "MonthlyInstallment",
          "Debt-to-Income Ratio(DTI)",
          "Loan-to-Income Ratio(LTI)"
         ],
         "xaxis": "x",
         "y": [
          "Gender",
          "Married",
          "Dependents",
          "Education",
          "Self_Employed",
          "ApplicantIncome",
          "CoapplicantIncome",
          "LoanAmount",
          "Loan_Amount_Term",
          "Credit_History",
          "Loan_Status",
          "Property_Area_Rural",
          "Property_Area_Semiurban",
          "Property_Area_Urban",
          "TotalIncome",
          "MonthlyInstallment",
          "Debt-to-Income Ratio(DTI)",
          "Loan-to-Income Ratio(LTI)"
         ],
         "yaxis": "y",
         "z": {
          "bdata": "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",
          "dtype": "f8",
          "shape": "18, 18"
         }
        }
       ],
       "layout": {
        "coloraxis": {
         "colorscale": [
          [
           0,
           "rgb(103,0,31)"
          ],
          [
           0.1,
           "rgb(178,24,43)"
          ],
          [
           0.2,
           "rgb(214,96,77)"
          ],
          [
           0.3,
           "rgb(244,165,130)"
          ],
          [
           0.4,
           "rgb(253,219,199)"
          ],
          [
           0.5,
           "rgb(247,247,247)"
          ],
          [
           0.6,
           "rgb(209,229,240)"
          ],
          [
           0.7,
           "rgb(146,197,222)"
          ],
          [
           0.8,
           "rgb(67,147,195)"
          ],
          [
           0.9,
           "rgb(33,102,172)"
          ],
          [
           1,
           "rgb(5,48,97)"
          ]
         ]
        },
        "height": 800,
        "margin": {
         "t": 60
        },
        "template": {
         "data": {
          "bar": [
           {
            "error_x": {
             "color": "#2a3f5f"
            },
            "error_y": {
             "color": "#2a3f5f"
            },
            "marker": {
             "line": {
              "color": "#E5ECF6",
              "width": 0.5
             },
             "pattern": {
              "fillmode": "overlay",
              "size": 10,
              "solidity": 0.2
             }
            },
            "type": "bar"
           }
          ],
          "barpolar": [
           {
            "marker": {
             "line": {
              "color": "#E5ECF6",
              "width": 0.5
             },
             "pattern": {
              "fillmode": "overlay",
              "size": 10,
              "solidity": 0.2
             }
            },
            "type": "barpolar"
           }
          ],
          "carpet": [
           {
            "aaxis": {
             "endlinecolor": "#2a3f5f",
             "gridcolor": "white",
             "linecolor": "white",
             "minorgridcolor": "white",
             "startlinecolor": "#2a3f5f"
            },
            "baxis": {
             "endlinecolor": "#2a3f5f",
             "gridcolor": "white",
             "linecolor": "white",
             "minorgridcolor": "white",
             "startlinecolor": "#2a3f5f"
            },
            "type": "carpet"
           }
          ],
          "choropleth": [
           {
            "colorbar": {
             "outlinewidth": 0,
             "ticks": ""
            },
            "type": "choropleth"
           }
          ],
          "contour": [
           {
            "colorbar": {
             "outlinewidth": 0,
             "ticks": ""
            },
            "colorscale": [
             [
              0,
              "#0d0887"
             ],
             [
              0.1111111111111111,
              "#46039f"
             ],
             [
              0.2222222222222222,
              "#7201a8"
             ],
             [
              0.3333333333333333,
              "#9c179e"
             ],
             [
              0.4444444444444444,
              "#bd3786"
             ],
             [
              0.5555555555555556,
              "#d8576b"
             ],
             [
              0.6666666666666666,
              "#ed7953"
             ],
             [
              0.7777777777777778,
              "#fb9f3a"
             ],
             [
              0.8888888888888888,
              "#fdca26"
             ],
             [
              1,
              "#f0f921"
             ]
            ],
            "type": "contour"
           }
          ],
          "contourcarpet": [
           {
            "colorbar": {
             "outlinewidth": 0,
             "ticks": ""
            },
            "type": "contourcarpet"
           }
          ],
          "heatmap": [
           {
            "colorbar": {
             "outlinewidth": 0,
             "ticks": ""
            },
            "colorscale": [
             [
              0,
              "#0d0887"
             ],
             [
              0.1111111111111111,
              "#46039f"
             ],
             [
              0.2222222222222222,
              "#7201a8"
             ],
             [
              0.3333333333333333,
              "#9c179e"
             ],
             [
              0.4444444444444444,
              "#bd3786"
             ],
             [
              0.5555555555555556,
              "#d8576b"
             ],
             [
              0.6666666666666666,
              "#ed7953"
             ],
             [
              0.7777777777777778,
              "#fb9f3a"
             ],
             [
              0.8888888888888888,
              "#fdca26"
             ],
             [
              1,
              "#f0f921"
             ]
            ],
            "type": "heatmap"
           }
          ],
          "histogram": [
           {
            "marker": {
             "pattern": {
              "fillmode": "overlay",
              "size": 10,
              "solidity": 0.2
             }
            },
            "type": "histogram"
           }
          ],
          "histogram2d": [
           {
            "colorbar": {
             "outlinewidth": 0,
             "ticks": ""
            },
            "colorscale": [
             [
              0,
              "#0d0887"
             ],
             [
              0.1111111111111111,
              "#46039f"
             ],
             [
              0.2222222222222222,
              "#7201a8"
             ],
             [
              0.3333333333333333,
              "#9c179e"
             ],
             [
              0.4444444444444444,
              "#bd3786"
             ],
             [
              0.5555555555555556,
              "#d8576b"
             ],
             [
              0.6666666666666666,
              "#ed7953"
             ],
             [
              0.7777777777777778,
              "#fb9f3a"
             ],
             [
              0.8888888888888888,
              "#fdca26"
             ],
             [
              1,
              "#f0f921"
             ]
            ],
            "type": "histogram2d"
           }
          ],
          "histogram2dcontour": [
           {
            "colorbar": {
             "outlinewidth": 0,
             "ticks": ""
            },
            "colorscale": [
             [
              0,
              "#0d0887"
             ],
             [
              0.1111111111111111,
              "#46039f"
             ],
             [
              0.2222222222222222,
              "#7201a8"
             ],
             [
              0.3333333333333333,
              "#9c179e"
             ],
             [
              0.4444444444444444,
              "#bd3786"
             ],
             [
              0.5555555555555556,
              "#d8576b"
             ],
             [
              0.6666666666666666,
              "#ed7953"
             ],
             [
              0.7777777777777778,
              "#fb9f3a"
             ],
             [
              0.8888888888888888,
              "#fdca26"
             ],
             [
              1,
              "#f0f921"
             ]
            ],
            "type": "histogram2dcontour"
           }
          ],
          "mesh3d": [
           {
            "colorbar": {
             "outlinewidth": 0,
             "ticks": ""
            },
            "type": "mesh3d"
           }
          ],
          "parcoords": [
           {
            "line": {
             "colorbar": {
              "outlinewidth": 0,
              "ticks": ""
             }
            },
            "type": "parcoords"
           }
          ],
          "pie": [
           {
            "automargin": true,
            "type": "pie"
           }
          ],
          "scatter": [
           {
            "fillpattern": {
             "fillmode": "overlay",
             "size": 10,
             "solidity": 0.2
            },
            "type": "scatter"
           }
          ],
          "scatter3d": [
           {
            "line": {
             "colorbar": {
              "outlinewidth": 0,
              "ticks": ""
             }
            },
            "marker": {
             "colorbar": {
              "outlinewidth": 0,
              "ticks": ""
             }
            },
            "type": "scatter3d"
           }
          ],
          "scattercarpet": [
           {
            "marker": {
             "colorbar": {
              "outlinewidth": 0,
              "ticks": ""
             }
            },
            "type": "scattercarpet"
           }
          ],
          "scattergeo": [
           {
            "marker": {
             "colorbar": {
              "outlinewidth": 0,
              "ticks": ""
             }
            },
            "type": "scattergeo"
           }
          ],
          "scattergl": [
           {
            "marker": {
             "colorbar": {
              "outlinewidth": 0,
              "ticks": ""
             }
            },
            "type": "scattergl"
           }
          ],
          "scattermap": [
           {
            "marker": {
             "colorbar": {
              "outlinewidth": 0,
              "ticks": ""
             }
            },
            "type": "scattermap"
           }
          ],
          "scattermapbox": [
           {
            "marker": {
             "colorbar": {
              "outlinewidth": 0,
              "ticks": ""
             }
            },
            "type": "scattermapbox"
           }
          ],
          "scatterpolar": [
           {
            "marker": {
             "colorbar": {
              "outlinewidth": 0,
              "ticks": ""
             }
            },
            "type": "scatterpolar"
           }
          ],
          "scatterpolargl": [
           {
            "marker": {
             "colorbar": {
              "outlinewidth": 0,
              "ticks": ""
             }
            },
            "type": "scatterpolargl"
           }
          ],
          "scatterternary": [
           {
            "marker": {
             "colorbar": {
              "outlinewidth": 0,
              "ticks": ""
             }
            },
            "type": "scatterternary"
           }
          ],
          "surface": [
           {
            "colorbar": {
             "outlinewidth": 0,
             "ticks": ""
            },
            "colorscale": [
             [
              0,
              "#0d0887"
             ],
             [
              0.1111111111111111,
              "#46039f"
             ],
             [
              0.2222222222222222,
              "#7201a8"
             ],
             [
              0.3333333333333333,
              "#9c179e"
             ],
             [
              0.4444444444444444,
              "#bd3786"
             ],
             [
              0.5555555555555556,
              "#d8576b"
             ],
             [
              0.6666666666666666,
              "#ed7953"
             ],
             [
              0.7777777777777778,
              "#fb9f3a"
             ],
             [
              0.8888888888888888,
              "#fdca26"
             ],
             [
              1,
              "#f0f921"
             ]
            ],
            "type": "surface"
           }
          ],
          "table": [
           {
            "cells": {
             "fill": {
              "color": "#EBF0F8"
             },
             "line": {
              "color": "white"
             }
            },
            "header": {
             "fill": {
              "color": "#C8D4E3"
             },
             "line": {
              "color": "white"
             }
            },
            "type": "table"
           }
          ]
         },
         "layout": {
          "annotationdefaults": {
           "arrowcolor": "#2a3f5f",
           "arrowhead": 0,
           "arrowwidth": 1
          },
          "autotypenumbers": "strict",
          "coloraxis": {
           "colorbar": {
            "outlinewidth": 0,
            "ticks": ""
           }
          },
          "colorscale": {
           "diverging": [
            [
             0,
             "#8e0152"
            ],
            [
             0.1,
             "#c51b7d"
            ],
            [
             0.2,
             "#de77ae"
            ],
            [
             0.3,
             "#f1b6da"
            ],
            [
             0.4,
             "#fde0ef"
            ],
            [
             0.5,
             "#f7f7f7"
            ],
            [
             0.6,
             "#e6f5d0"
            ],
            [
             0.7,
             "#b8e186"
            ],
            [
             0.8,
             "#7fbc41"
            ],
            [
             0.9,
             "#4d9221"
            ],
            [
             1,
             "#276419"
            ]
           ],
           "sequential": [
            [
             0,
             "#0d0887"
            ],
            [
             0.1111111111111111,
             "#46039f"
            ],
            [
             0.2222222222222222,
             "#7201a8"
            ],
            [
             0.3333333333333333,
             "#9c179e"
            ],
            [
             0.4444444444444444,
             "#bd3786"
            ],
            [
             0.5555555555555556,
             "#d8576b"
            ],
            [
             0.6666666666666666,
             "#ed7953"
            ],
            [
             0.7777777777777778,
             "#fb9f3a"
            ],
            [
             0.8888888888888888,
             "#fdca26"
            ],
            [
             1,
             "#f0f921"
            ]
           ],
           "sequentialminus": [
            [
             0,
             "#0d0887"
            ],
            [
             0.1111111111111111,
             "#46039f"
            ],
            [
             0.2222222222222222,
             "#7201a8"
            ],
            [
             0.3333333333333333,
             "#9c179e"
            ],
            [
             0.4444444444444444,
             "#bd3786"
            ],
            [
             0.5555555555555556,
             "#d8576b"
            ],
            [
             0.6666666666666666,
             "#ed7953"
            ],
            [
             0.7777777777777778,
             "#fb9f3a"
            ],
            [
             0.8888888888888888,
             "#fdca26"
            ],
            [
             1,
             "#f0f921"
            ]
           ]
          },
          "colorway": [
           "#636efa",
           "#EF553B",
           "#00cc96",
           "#ab63fa",
           "#FFA15A",
           "#19d3f3",
           "#FF6692",
           "#B6E880",
           "#FF97FF",
           "#FECB52"
          ],
          "font": {
           "color": "#2a3f5f"
          },
          "geo": {
           "bgcolor": "white",
           "lakecolor": "white",
           "landcolor": "#E5ECF6",
           "showlakes": true,
           "showland": true,
           "subunitcolor": "white"
          },
          "hoverlabel": {
           "align": "left"
          },
          "hovermode": "closest",
          "mapbox": {
           "style": "light"
          },
          "paper_bgcolor": "white",
          "plot_bgcolor": "#E5ECF6",
          "polar": {
           "angularaxis": {
            "gridcolor": "white",
            "linecolor": "white",
            "ticks": ""
           },
           "bgcolor": "#E5ECF6",
           "radialaxis": {
            "gridcolor": "white",
            "linecolor": "white",
            "ticks": ""
           }
          },
          "scene": {
           "xaxis": {
            "backgroundcolor": "#E5ECF6",
            "gridcolor": "white",
            "gridwidth": 2,
            "linecolor": "white",
            "showbackground": true,
            "ticks": "",
            "zerolinecolor": "white"
           },
           "yaxis": {
            "backgroundcolor": "#E5ECF6",
            "gridcolor": "white",
            "gridwidth": 2,
            "linecolor": "white",
            "showbackground": true,
            "ticks": "",
            "zerolinecolor": "white"
           },
           "zaxis": {
            "backgroundcolor": "#E5ECF6",
            "gridcolor": "white",
            "gridwidth": 2,
            "linecolor": "white",
            "showbackground": true,
            "ticks": "",
            "zerolinecolor": "white"
           }
          },
          "shapedefaults": {
           "line": {
            "color": "#2a3f5f"
           }
          },
          "ternary": {
           "aaxis": {
            "gridcolor": "white",
            "linecolor": "white",
            "ticks": ""
           },
           "baxis": {
            "gridcolor": "white",
            "linecolor": "white",
            "ticks": ""
           },
           "bgcolor": "#E5ECF6",
           "caxis": {
            "gridcolor": "white",
            "linecolor": "white",
            "ticks": ""
           }
          },
          "title": {
           "x": 0.05
          },
          "xaxis": {
           "automargin": true,
           "gridcolor": "white",
           "linecolor": "white",
           "ticks": "",
           "title": {
            "standoff": 15
           },
           "zerolinecolor": "white",
           "zerolinewidth": 2
          },
          "yaxis": {
           "automargin": true,
           "gridcolor": "white",
           "linecolor": "white",
           "ticks": "",
           "title": {
            "standoff": 15
           },
           "zerolinecolor": "white",
           "zerolinewidth": 2
          }
         }
        },
        "title": {
         "text": "Correlation Matrix Between Variables (Plotly)"
        },
        "width": 900,
        "xaxis": {
         "anchor": "y",
         "domain": [
          0,
          1
         ],
         "title": {
          "text": "Features"
         }
        },
        "yaxis": {
         "anchor": "x",
         "autorange": "reversed",
         "domain": [
          0,
          1
         ],
         "title": {
          "text": "Features"
         }
        }
       }
      }
     },
     "metadata": {},
     "output_type": "display_data"
    }
   ],
   "source": [
    "import plotly.express as px\n",
    "\n",
    "# محاسبه ماتریس همبستگی\n",
    "correlation_matrix = loan_dataset.corr(numeric_only=True)\n",
    "\n",
    "# تبدیل به فرمت مناسب برای Plotly\n",
    "corr_melted = correlation_matrix.reset_index().melt(id_vars='index')\n",
    "corr_melted.columns = ['Feature1', 'Feature2', 'Correlation']\n",
    "\n",
    "# رسم Heatmap\n",
    "fig = px.imshow(\n",
    "    correlation_matrix,\n",
    "    text_auto=\".2f\",  # نمایش مقادیر روی خانه‌ها\n",
    "    aspect=\"auto\",\n",
    "    color_continuous_scale='RdBu',\n",
    "    origin='upper'\n",
    ")\n",
    "\n",
    "fig.update_layout(\n",
    "    title='Correlation Matrix Between Variables (Plotly)',\n",
    "    xaxis_title=\"Features\",\n",
    "    yaxis_title=\"Features\",\n",
    "    width=900,\n",
    "    height=800\n",
    ")\n",
    "\n",
    "fig.show()"
   ]
  },
  {
   "cell_type": "markdown",
   "id": "7ac30661",
   "metadata": {},
   "source": [
    "- **Credit_History** shows the highest correlation (0.54) with **Loan_Status**, confirming our previous analysis.\n",
    "\n",
    "- **ApplicantIncome** and **LoanAmount** have a positive correlation (0.56), which is logical (higher-income individuals tend to request larger loans).\n",
    "\n",
    "- **Married** and **Dependents** also show positive correlation with each other.\n",
    "\n",
    "- Importantly, we observe no severe multicollinearity between independent features that could potentially cause issues for linear models."
   ]
  }
 ],
 "metadata": {
  "kernelspec": {
   "display_name": "Python 3",
   "language": "python",
   "name": "python3"
  },
  "language_info": {
   "codemirror_mode": {
    "name": "ipython",
    "version": 3
   },
   "file_extension": ".py",
   "mimetype": "text/x-python",
   "name": "python",
   "nbconvert_exporter": "python",
   "pygments_lexer": "ipython3",
   "version": "3.12.11"
  }
 },
 "nbformat": 4,
 "nbformat_minor": 5
}
